{
 "cells": [
  {
   "cell_type": "markdown",
   "id": "432ba143",
   "metadata": {},
   "source": [
    "# Prompt Engineering for Improved Performance\n",
    "\n",
    "## Module 3: Master Advanced Prompting Techniques\n",
    "### Video 4: Prompt Tuning"
   ]
  },
  {
   "cell_type": "markdown",
   "id": "b4caffe1",
   "metadata": {},
   "source": [
    "#### Install the necessary libraries"
   ]
  },
  {
   "cell_type": "code",
   "execution_count": null,
   "id": "509b1e08",
   "metadata": {},
   "outputs": [],
   "source": [
    "pip install openai"
   ]
  },
  {
   "cell_type": "code",
   "execution_count": null,
   "id": "fc97f3ef",
   "metadata": {},
   "outputs": [],
   "source": [
    "pip install openai[datalib]"
   ]
  },
  {
   "cell_type": "code",
   "execution_count": null,
   "id": "5584c760",
   "metadata": {},
   "outputs": [],
   "source": [
    "pip install urllib3==1.26.6 "
   ]
  },
  {
   "cell_type": "code",
   "execution_count": null,
   "id": "f1621606",
   "metadata": {},
   "outputs": [],
   "source": [
    "pip install python-dotenv"
   ]
  },
  {
   "cell_type": "markdown",
   "id": "9e6cc16f",
   "metadata": {},
   "source": [
    "### Import the libraries and enviornment file to gain access to the Open API Key\n",
    "#### The key can be generated here: https://platform.openai.com/account/api-keys"
   ]
  },
  {
   "cell_type": "code",
   "execution_count": 1,
   "id": "fd8d1ec2",
   "metadata": {},
   "outputs": [],
   "source": [
    "import os\n",
    "from openai import OpenAI\n",
    "\n",
    "from dotenv import load_dotenv, find_dotenv\n",
    "_ = load_dotenv(find_dotenv()) # read local .env file"
   ]
  },
  {
   "cell_type": "markdown",
   "id": "9d3964d6",
   "metadata": {},
   "source": [
    "### Authenticate to the API using the API Key\n",
    "#### Pull from environment variables or use openai.api_key = (\"your_key_here\") to hardcode the key"
   ]
  },
  {
   "cell_type": "code",
   "execution_count": 2,
   "id": "0af16d2f",
   "metadata": {},
   "outputs": [],
   "source": [
    "client = OpenAI(\n",
    "  api_key=os.environ['OPENAI_API_KEY']  \n",
    ")"
   ]
  },
  {
   "cell_type": "code",
   "execution_count": 3,
   "id": "4ec6da2c",
   "metadata": {},
   "outputs": [],
   "source": [
    "def get_completion(prompt):\n",
    "    try:\n",
    "        response = client.chat.completions.create(\n",
    "            model=\"gpt-3.5-turbo\",\n",
    "            messages=[ {'role':'user', 'content':prompt}  ]     \n",
    "        )\n",
    "        \n",
    "        return response\n",
    "    except openai.APIError as e:\n",
    "        print(e.http_status)\n",
    "        print(e.error)\n",
    "        return e.error "
   ]
  },
  {
   "cell_type": "code",
   "execution_count": 4,
   "id": "116a4cc1",
   "metadata": {},
   "outputs": [],
   "source": [
    "def get_completion_from_messages(messages):\n",
    "    try:\n",
    "        response = client.chat.completions.create(\n",
    "            model=\"gpt-3.5-turbo\",\n",
    "            messages=messages    \n",
    "        )\n",
    "        \n",
    "        return response\n",
    "    except openai.APIError as e:\n",
    "        print(e.http_status)\n",
    "        print(e.error)\n",
    "        return e.error"
   ]
  },
  {
   "cell_type": "markdown",
   "id": "652168c4",
   "metadata": {},
   "source": [
    "## Example 1"
   ]
  },
  {
   "cell_type": "code",
   "execution_count": 5,
   "id": "b761ff33",
   "metadata": {},
   "outputs": [
    {
     "name": "stdout",
     "output_type": "stream",
     "text": [
      "{\n",
      "  \"id\": \"chatcmpl-8PvCU2m0T7lwag9pk8uIBviBNj5FS\",\n",
      "  \"choices\": [\n",
      "    {\n",
      "      \"finish_reason\": \"stop\",\n",
      "      \"index\": 0,\n",
      "      \"message\": {\n",
      "        \"content\": \"The benefits of exercise include: \\n\\n1. Improved physical health: Regular exercise can help maintain a healthy weight, reduce the risk of chronic diseases such as heart disease, type 2 diabetes, and certain cancers, strengthen bones and muscles, and improve overall physical fitness.\\n\\n2. Mental well-being: Exercise has been shown to reduce symptoms of anxiety, depression, and stress, improve mood and self-esteem, boost cognitive function, and enhance overall mental well-being.\\n\\n3. Increased energy levels: Engaging in regular physical activity can increase energy levels, improve stamina, and enhance overall endurance, allowing individuals to perform daily tasks with ease.\\n\\n4. Better sleep: Regular exercise has been linked to improved sleep quality, helping individuals fall asleep faster, stay asleep longer, and experience a deeper, more restorative sleep.\\n\\n5. Boosted immune system: Exercise can strengthen the immune system, making individuals less prone to illnesses such as colds, flu, and other infections.\\n\\n6. Enhanced brain health: Regular exercise has been associated with improved memory, increased focus and attention, and reduced risk of cognitive decline and neurodegenerative diseases such as Alzheimer's.\\n\\n7. Weight management: Exercise plays a crucial role in maintaining a healthy weight by burning calories and increasing metabolism. It can also help prevent weight gain and promote weight loss when combined with a balanced diet.\\n\\n8. Improved cardiovascular health: Regular aerobic exercise can strengthen the heart, lower blood pressure, improve blood circulation, and reduce the risk of cardiovascular diseases such as heart attacks and strokes.\\n\\n9. Better social connections: Participating in exercise classes, team sports, or group activities can provide opportunities for social interaction, fostering new friendships and a sense of belonging.\\n\\n10. Increased longevity: Numerous studies have shown that regular physical activity is associated with a longer lifespan. Exercise helps prevent chronic diseases, improves overall health, and promotes healthy aging.\",\n",
      "        \"role\": \"assistant\",\n",
      "        \"function_call\": null,\n",
      "        \"tool_calls\": null\n",
      "      }\n",
      "    }\n",
      "  ],\n",
      "  \"created\": 1701188770,\n",
      "  \"model\": \"gpt-3.5-turbo-0613\",\n",
      "  \"object\": \"chat.completion\",\n",
      "  \"system_fingerprint\": null,\n",
      "  \"usage\": {\n",
      "    \"completion_tokens\": 373,\n",
      "    \"prompt_tokens\": 14,\n",
      "    \"total_tokens\": 387\n",
      "  }\n",
      "}\n"
     ]
    }
   ],
   "source": [
    "response = get_completion(\"What are the benefits of exercise?\")\n",
    "print(response.model_dump_json(indent=2))"
   ]
  },
  {
   "cell_type": "code",
   "execution_count": 6,
   "id": "c6bbd77c",
   "metadata": {},
   "outputs": [
    {
     "name": "stdout",
     "output_type": "stream",
     "text": [
      "{\n",
      "  \"id\": \"chatcmpl-8PvDDvr721oEsPfFh1LeACn9FWjvC\",\n",
      "  \"choices\": [\n",
      "    {\n",
      "      \"finish_reason\": \"stop\",\n",
      "      \"index\": 0,\n",
      "      \"message\": {\n",
      "        \"content\": \"Regular exercise has been extensively studied and proven to provide numerous physical and mental benefits. Here are at least five scientifically-backed advantages of regular exercise:\\n\\n1. Physical Health:\\n   a. Improved Cardiovascular Health: Regular exercise reduces the risk of developing heart diseases by strengthening the heart muscle, improving blood circulation, and lowering blood pressure levels.\\n   b. Weight Management: Engaging in regular physical activity helps with weight control and prevents obesity. It promotes fat loss, increases muscle mass, and boosts metabolism, leading to maintaining a healthy weight.\\n   c. Enhanced Bone Health: Exercise, particularly weight-bearing activities such as running or weightlifting, strengthens bones and reduces the risk of osteoporosis and fractures.\\n   d. Reduced Risk of Chronic Diseases: Regular exercise has been linked to a decreased risk of developing various chronic conditions, including type 2 diabetes, certain types of cancer (e.g., colon and breast), and metabolic syndrome.\\n   e. Increased Immune Function: Moderate-intensity exercise has been found to improve immune system activity and reduce the likelihood of getting common illnesses, such as colds and flu.\\n\\n2. Mental Well-being:\\n   a. Improved Mood and Reduced Depression: Exercise stimulates the release of endorphins, neurotransmitters that promote feelings of happiness and well-being. It has been proven to reduce symptoms of depression, anxiety, and stress.\\n   b. Enhanced Cognitive Function: Regular physical activity positively impacts brain health, enhancing cognitive function, memory, attention span, and overall mental performance.\\n   c. Increased Self-Esteem and Body Image: Engaging in exercise is associated with improved self-esteem, body image, and self-perception. Regular physical activity can contribute to enhanced self-confidence and a more positive self-image.\\n   d. Better Sleep: Regular exercise, when performed earlier in the day or in moderation, improves sleep quality, reduces insomnia symptoms, and helps establish a regular sleep routine.\\n   e. Stress Relief: Exercise acts as a natural stress reliever. It reduces the production of stress hormones, increases the release of endorphins, and promotes relaxation, leading to a reduction in anxiety and an overall improvement in mental well-being.\\n\\nIt is important to note that the benefits of exercise vary from individual to individual and can depend on factors such as overall health, intensity, and duration of exercise, and consistency in maintaining an active lifestyle.\",\n",
      "        \"role\": \"assistant\",\n",
      "        \"function_call\": null,\n",
      "        \"tool_calls\": null\n",
      "      }\n",
      "    }\n",
      "  ],\n",
      "  \"created\": 1701188815,\n",
      "  \"model\": \"gpt-3.5-turbo-0613\",\n",
      "  \"object\": \"chat.completion\",\n",
      "  \"system_fingerprint\": null,\n",
      "  \"usage\": {\n",
      "    \"completion_tokens\": 472,\n",
      "    \"prompt_tokens\": 34,\n",
      "    \"total_tokens\": 506\n",
      "  }\n",
      "}\n"
     ]
    }
   ],
   "source": [
    "response = get_completion(''' In a detailed response, provide at least five scientifically-backed \n",
    "                              benefits of regular exercise, including both physical and \n",
    "                              mental advantages.''')\n",
    "print(response.model_dump_json(indent=2))"
   ]
  },
  {
   "cell_type": "code",
   "execution_count": 7,
   "id": "4c4a1a14",
   "metadata": {},
   "outputs": [
    {
     "name": "stdout",
     "output_type": "stream",
     "text": [
      "{\n",
      "  \"id\": \"chatcmpl-8PvDkbkZjQ2nF48RsT3IRm9tQGpCa\",\n",
      "  \"choices\": [\n",
      "    {\n",
      "      \"finish_reason\": \"stop\",\n",
      "      \"index\": 0,\n",
      "      \"message\": {\n",
      "        \"content\": \"Kesha: Hey Karen! I need your help in improving my GPT prompt for discussing the benefits of exercise. Here's what I have so far: \\\"What are the benefits of exercise?\\\" But I feel like it's a bit generic. How can we make it more specific and engaging for the model?\\n\\nKaren: Hey Kesha! Great to see you're working on optimizing your prompt. I agree, we should definitely make it more specific and engaging. How about we try something like this: \\\"As a Java developer, I often face long hours sitting at a desk. Could you please tell me about the amazing benefits of incorporating exercise into my routine? How does it impact my productivity, energy levels, and overall well-being?\\\"\\n\\nKesha: That's a fantastic suggestion, Karen! It personalizes the prompt and connects it to my role as a Java developer. I can see how this would make the model more likely to generate relevant and accurate responses. However, do you think we should add more context about the potential health risks of a sedentary lifestyle to make it even more effective?\\n\\nKaren: Absolutely, Kesha! Including a mention of the health risks of a sedentary lifestyle will indeed make the prompt more impactful. How about we modify it like this: \\\"As a responsible Java developer, I'm aware of the health risks associated with a sedentary lifestyle. Can you enlighten me with the numerous benefits of exercise that combat these risks? How does exercise improve my productivity, energy levels, and overall well-being?\\\"\\n\\nKesha: I love that addition, Karen! It highlights the responsibility aspect and shows that I'm proactive about my health. This will definitely help the model understand the importance of exercise in countering sedentary threats. Just one more thing, do you think we should add any specific examples to make it clearer?\\n\\nKaren: Absolutely, Kesha! Adding specific examples will provide the model with clear direction and help it generate more informative responses. How about we revise it to include an example like this: \\\"As a responsible Java developer, I'm aware of the health risks associated with a sedentary lifestyle. Can you enlighten me with the numerous benefits of exercise, such as increased cognitive function and reduced risk of chronic diseases? How does exercise improve my productivity, energy levels, and overall well-being?\\\"\\n\\nKesha: That's a brilliant addition, Karen! The specific examples of increased cognitive function and reduced risk of chronic diseases really highlight the tangible benefits of exercise. I believe this final version of the prompt is tailored to optimize the performance of the language model and generate accurate and relevant responses. Thank you so much for your help!\\n\\nKaren: You're welcome, Kesha! I'm glad I could assist you in refining your prompt. I'm confident that this final version will enhance the model's understanding and generate more precise responses. If you need any further assistance, feel free to reach out. Good luck with your GPT prompt!\",\n",
      "        \"role\": \"assistant\",\n",
      "        \"function_call\": null,\n",
      "        \"tool_calls\": null\n",
      "      }\n",
      "    }\n",
      "  ],\n",
      "  \"created\": 1701188848,\n",
      "  \"model\": \"gpt-3.5-turbo-0613\",\n",
      "  \"object\": \"chat.completion\",\n",
      "  \"system_fingerprint\": null,\n",
      "  \"usage\": {\n",
      "    \"completion_tokens\": 600,\n",
      "    \"prompt_tokens\": 136,\n",
      "    \"total_tokens\": 736\n",
      "  }\n",
      "}\n"
     ]
    }
   ],
   "source": [
    "messages =  [  \n",
    "{'role':'system', \n",
    " 'content': '''Kesha is an expert Java developer that solves programming challenges easily with \n",
    "               bug-free code. Karen is an expert GPT prompt engineer that writes prompts that improve\n",
    "               the model performace. Karen's job is to make Kesha's prompts more effective at \n",
    "               generating accurate and relevant responses. Present a conversation between them where \n",
    "               they suggest improvements and reach a final version of the prompt. The prompt should be tailored\n",
    "               to optimize the performance of a large language model. The conversation \n",
    "               ends with the final version of the prompt.'''},    \n",
    "{'role':'user', \n",
    " 'content': '''Here is the GPT prompt: What are the benefits of exercise.'''},  \n",
    "] \n",
    "\n",
    "response = get_completion_from_messages(messages)\n",
    "print(response.model_dump_json(indent=2))"
   ]
  },
  {
   "cell_type": "markdown",
   "id": "61cd8438",
   "metadata": {},
   "source": [
    "## Original Prompt"
   ]
  },
  {
   "cell_type": "code",
   "execution_count": 8,
   "id": "53731102",
   "metadata": {},
   "outputs": [
    {
     "name": "stdout",
     "output_type": "stream",
     "text": [
      "{\n",
      "  \"id\": \"chatcmpl-8PvEOZH30lLGGc9AcrG9gc6yXcd5s\",\n",
      "  \"choices\": [\n",
      "    {\n",
      "      \"finish_reason\": \"stop\",\n",
      "      \"index\": 0,\n",
      "      \"message\": {\n",
      "        \"content\": \"Exercise has numerous benefits for both physical and mental health. Some of the major benefits of exercise include:\\n\\n1. Improved cardiovascular health: Regular exercise helps strengthen your heart, reduces the risk of heart disease, and lowers blood pressure.\\n\\n2. Weight management: Engaging in physical activity helps burn calories, build muscle, and maintain a healthy weight.\\n\\n3. Increased energy levels: Exercise improves the circulation of oxygen and nutrients, enhancing overall energy levels and combating fatigue.\\n\\n4. Stronger muscles and bones: Weight-bearing exercises like resistance training and weightlifting help improve muscle strength and increase bone density, reducing the risk of osteoporosis.\\n\\n5. Improved immune function: Regular exercise can enhance the immune system, reducing the risk of illnesses like the common cold and flu.\\n\\n6. Reduced risk of chronic diseases: Physical activity lowers the risk of chronic diseases such as type 2 diabetes, certain types of cancer, and metabolic syndrome.\\n\\n7. Mood enhancement: Exercise stimulates the release of endorphins, which are known as \\\"feel-good\\\" hormones, improving mood and reducing symptoms of anxiety and depression.\\n\\n8. Better sleep quality: Regular physical activity promotes better sleep, helping individuals fall asleep faster and enjoy deeper, more restful sleep.\\n\\n9. Enhanced brain function: Exercise increases blood flow and oxygen to the brain, which improves cognition, concentration, and memory.\\n\\n10. Increased lifespan: Studies have consistently shown that regular exercise is associated with a longer lifespan and a decreased risk of premature death.\\n\\nIt is important to note that to achieve these benefits, it is recommended to engage in at least 150 minutes of moderate-intensity aerobic activity or 75 minutes of vigorous-intensity aerobic activity per week, along with muscle-strengthening activities on 2 or more days a week.\",\n",
      "        \"role\": \"assistant\",\n",
      "        \"function_call\": null,\n",
      "        \"tool_calls\": null\n",
      "      }\n",
      "    }\n",
      "  ],\n",
      "  \"created\": 1701188888,\n",
      "  \"model\": \"gpt-3.5-turbo-0613\",\n",
      "  \"object\": \"chat.completion\",\n",
      "  \"system_fingerprint\": null,\n",
      "  \"usage\": {\n",
      "    \"completion_tokens\": 353,\n",
      "    \"prompt_tokens\": 14,\n",
      "    \"total_tokens\": 367\n",
      "  }\n",
      "}\n"
     ]
    }
   ],
   "source": [
    "response = get_completion(''' What are the benefits of exercise.''')\n",
    "print(response.model_dump_json(indent=2))"
   ]
  },
  {
   "cell_type": "markdown",
   "id": "0451cd0d",
   "metadata": {},
   "source": [
    "## Tuned prompt"
   ]
  },
  {
   "cell_type": "code",
   "execution_count": 9,
   "id": "4b436533",
   "metadata": {},
   "outputs": [
    {
     "name": "stdout",
     "output_type": "stream",
     "text": [
      "{\n",
      "  \"id\": \"chatcmpl-8PvEtcFuhofC0A2qpRIuti2SKfyCD\",\n",
      "  \"choices\": [\n",
      "    {\n",
      "      \"finish_reason\": \"stop\",\n",
      "      \"index\": 0,\n",
      "      \"message\": {\n",
      "        \"content\": \"Running has numerous cardiovascular benefits for middle-aged adults. Here are some of the key advantages:\\n\\n1. Improved Heart Health: Regular running helps strengthen the heart muscles, making them more efficient at pumping blood. This results in a lower resting heart rate and increased cardiac output. Over time, running can improve overall cardiovascular function and reduce the risk of heart-related conditions.\\n\\n2. Increased Endurance: Running is an excellent way to boost cardiovascular endurance. Through consistent training, middle-aged adults can improve their ability to sustain physical effort for extended periods. As a result, everyday tasks become easier, and individuals can engage in longer-duration activities without feeling fatigued.\\n\\n3. Reduced Risk of Heart Disease: Running has a positive impact on several risk factors associated with heart disease. It aids in lowering blood pressure by promoting healthy blood vessel function and reducing the stiffness of arterial walls. Running also helps improve cholesterol levels by increasing high-density lipoprotein (HDL) or \\\"good\\\" cholesterol and decreasing low-density lipoprotein (LDL) or \\\"bad\\\" cholesterol. Additionally, running helps manage body weight and lowers the risk of developing obesity-related conditions like diabetes, which can impact heart health.\\n\\n4. Enhanced Circulation: Regular running stimulates blood flow, improving circulation throughout the body. This increased blood circulation ensures that oxygen and nutrients are efficiently delivered to organs and tissues. It also facilitates the removal of waste products, promoting overall cardiovascular health.\\n\\n5. Reduced Inflammation: Running has been linked to a decrease in systemic inflammation markers. Chronic inflammation is associated with various heart diseases, including atherosclerosis, as it contributes to plaque buildup in arteries. By reducing inflammation, running helps maintain the health and integrity of blood vessels.\\n\\n6. Improved Cardiorespiratory Efficiency: Running engages the cardiovascular and respiratory systems, leading to improved efficiency. The lungs become better at taking in oxygen, and the body becomes more proficient at utilizing it during physical activity. This increased efficiency translates to improved endurance and performance during various aerobic activities.\\n\\nIt is important for middle-aged adults to consult with a healthcare professional before starting any exercise program, including running, to ensure it is suitable for their individual health and fitness levels.\",\n",
      "        \"role\": \"assistant\",\n",
      "        \"function_call\": null,\n",
      "        \"tool_calls\": null\n",
      "      }\n",
      "    }\n",
      "  ],\n",
      "  \"created\": 1701188919,\n",
      "  \"model\": \"gpt-3.5-turbo-0613\",\n",
      "  \"object\": \"chat.completion\",\n",
      "  \"system_fingerprint\": null,\n",
      "  \"usage\": {\n",
      "    \"completion_tokens\": 434,\n",
      "    \"prompt_tokens\": 39,\n",
      "    \"total_tokens\": 473\n",
      "  }\n",
      "}\n"
     ]
    }
   ],
   "source": [
    "response = get_completion(''' What are the cardiovascular benefits of running \n",
    "                              for middle-aged adults, such as improved heart health, \n",
    "                              increased endurance, and reduced risk of heart disease?''')\n",
    "print(response.model_dump_json(indent=2))"
   ]
  },
  {
   "cell_type": "code",
   "execution_count": null,
   "id": "120b0f19",
   "metadata": {},
   "outputs": [],
   "source": []
  }
 ],
 "metadata": {
  "kernelspec": {
   "display_name": "Python 3 (ipykernel)",
   "language": "python",
   "name": "python3"
  },
  "language_info": {
   "codemirror_mode": {
    "name": "ipython",
    "version": 3
   },
   "file_extension": ".py",
   "mimetype": "text/x-python",
   "name": "python",
   "nbconvert_exporter": "python",
   "pygments_lexer": "ipython3",
   "version": "3.8.9"
  }
 },
 "nbformat": 4,
 "nbformat_minor": 5
}
