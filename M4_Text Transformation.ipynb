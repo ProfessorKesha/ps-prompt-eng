{
 "cells": [
  {
   "cell_type": "markdown",
   "id": "432ba143",
   "metadata": {},
   "source": [
    "# Prompt Engineering for Improved Performance\n",
    "\n",
    "## Module 4: Optimize Prompts for Specific Use Cases\n",
    "### Text Transformation"
   ]
  },
  {
   "cell_type": "markdown",
   "id": "b4caffe1",
   "metadata": {},
   "source": [
    "#### Install the necessary libraries"
   ]
  },
  {
   "cell_type": "code",
   "execution_count": null,
   "id": "509b1e08",
   "metadata": {},
   "outputs": [],
   "source": [
    "pip install openai"
   ]
  },
  {
   "cell_type": "code",
   "execution_count": null,
   "id": "fc97f3ef",
   "metadata": {},
   "outputs": [],
   "source": [
    "pip install openai[datalib]"
   ]
  },
  {
   "cell_type": "code",
   "execution_count": null,
   "id": "5584c760",
   "metadata": {},
   "outputs": [],
   "source": [
    "pip install urllib3==1.26.6 "
   ]
  },
  {
   "cell_type": "code",
   "execution_count": null,
   "id": "f1621606",
   "metadata": {},
   "outputs": [],
   "source": [
    "pip install python-dotenv"
   ]
  },
  {
   "cell_type": "markdown",
   "id": "9e6cc16f",
   "metadata": {},
   "source": [
    "### Import the libraries and enviornment file to gain access to the Open API Key\n",
    "#### The key can be generated here: https://platform.openai.com/account/api-keys"
   ]
  },
  {
   "cell_type": "code",
   "execution_count": 1,
   "id": "fd8d1ec2",
   "metadata": {},
   "outputs": [],
   "source": [
    "import os\n",
    "from openai import OpenAI\n",
    "\n",
    "from dotenv import load_dotenv, find_dotenv\n",
    "_ = load_dotenv(find_dotenv()) # read local .env file"
   ]
  },
  {
   "cell_type": "markdown",
   "id": "9d3964d6",
   "metadata": {},
   "source": [
    "### Authenticate to the API using the API Key\n",
    "#### Pull from environment variables or use openai.api_key = (\"your_key_here\") to hardcode the key"
   ]
  },
  {
   "cell_type": "code",
   "execution_count": 2,
   "id": "0af16d2f",
   "metadata": {},
   "outputs": [],
   "source": [
    "client = OpenAI(\n",
    "  api_key=os.environ['OPENAI_API_KEY']  \n",
    ")"
   ]
  },
  {
   "cell_type": "markdown",
   "id": "7497ba63",
   "metadata": {},
   "source": [
    "## Helper Function"
   ]
  },
  {
   "cell_type": "code",
   "execution_count": 3,
   "id": "6390bc15",
   "metadata": {},
   "outputs": [],
   "source": [
    "def get_completion(prompt):\n",
    "    try:\n",
    "        response = client.chat.completions.create(\n",
    "            model=\"gpt-3.5-turbo\",\n",
    "            messages=[ {'role':'user', 'content':prompt}  ]     \n",
    "        )\n",
    "        \n",
    "        return response\n",
    "    except openai.APIError as e:\n",
    "        print(e.http_status)\n",
    "        print(e.error)\n",
    "        return e.error"
   ]
  },
  {
   "cell_type": "markdown",
   "id": "6272bb18",
   "metadata": {},
   "source": [
    "## Language Translation"
   ]
  },
  {
   "cell_type": "code",
   "execution_count": 4,
   "id": "7d209fc2",
   "metadata": {},
   "outputs": [
    {
     "name": "stdout",
     "output_type": "stream",
     "text": [
      "{\n",
      "  \"id\": \"chatcmpl-8PvuksDgITmJfLi4L9b3VLkLTDJx2\",\n",
      "  \"choices\": [\n",
      "    {\n",
      "      \"finish_reason\": \"stop\",\n",
      "      \"index\": 0,\n",
      "      \"message\": {\n",
      "        \"content\": \"Amo imparare cose nuove!\",\n",
      "        \"role\": \"assistant\",\n",
      "        \"function_call\": null,\n",
      "        \"tool_calls\": null\n",
      "      }\n",
      "    }\n",
      "  ],\n",
      "  \"created\": 1701191514,\n",
      "  \"model\": \"gpt-3.5-turbo-0613\",\n",
      "  \"object\": \"chat.completion\",\n",
      "  \"system_fingerprint\": null,\n",
      "  \"usage\": {\n",
      "    \"completion_tokens\": 9,\n",
      "    \"prompt_tokens\": 24,\n",
      "    \"total_tokens\": 33\n",
      "  }\n",
      "}\n"
     ]
    }
   ],
   "source": [
    "prompt = '''Translate the following sentence from English to Italian: I love learning \n",
    "          new things!'''     \n",
    "    \n",
    "response = get_completion(prompt)\n",
    "print(response.model_dump_json(indent=2))"
   ]
  },
  {
   "cell_type": "code",
   "execution_count": 5,
   "id": "efcae78a",
   "metadata": {},
   "outputs": [
    {
     "name": "stdout",
     "output_type": "stream",
     "text": [
      "{\n",
      "  \"id\": \"chatcmpl-8PvulEtRNRLSwdyfoRhJr7mbnLMCQ\",\n",
      "  \"choices\": [\n",
      "    {\n",
      "      \"finish_reason\": \"stop\",\n",
      "      \"index\": 0,\n",
      "      \"message\": {\n",
      "        \"content\": \"The language in this piece of text is Italian.\",\n",
      "        \"role\": \"assistant\",\n",
      "        \"function_call\": null,\n",
      "        \"tool_calls\": null\n",
      "      }\n",
      "    }\n",
      "  ],\n",
      "  \"created\": 1701191515,\n",
      "  \"model\": \"gpt-3.5-turbo-0613\",\n",
      "  \"object\": \"chat.completion\",\n",
      "  \"system_fingerprint\": null,\n",
      "  \"usage\": {\n",
      "    \"completion_tokens\": 10,\n",
      "    \"prompt_tokens\": 25,\n",
      "    \"total_tokens\": 35\n",
      "  }\n",
      "}\n"
     ]
    }
   ],
   "source": [
    "prompt = 'Detect the language in this piece of text: Amo imparare cose nuove!'\n",
    "\n",
    "response = get_completion(prompt)\n",
    "print(response.model_dump_json(indent=2))"
   ]
  },
  {
   "cell_type": "code",
   "execution_count": 6,
   "id": "aa8dbf8f",
   "metadata": {},
   "outputs": [
    {
     "name": "stdout",
     "output_type": "stream",
     "text": [
      "{\n",
      "  \"id\": \"chatcmpl-8PvunLJEzxctycQiF6ruJz03AHopD\",\n",
      "  \"choices\": [\n",
      "    {\n",
      "      \"finish_reason\": \"stop\",\n",
      "      \"index\": 0,\n",
      "      \"message\": {\n",
      "        \"content\": \"Por favor, no manejes el carro rápido. (South American Spanish)\\nPor favor, no conduzcas el coche rápido. (European Spanish)\",\n",
      "        \"role\": \"assistant\",\n",
      "        \"function_call\": null,\n",
      "        \"tool_calls\": null\n",
      "      }\n",
      "    }\n",
      "  ],\n",
      "  \"created\": 1701191517,\n",
      "  \"model\": \"gpt-3.5-turbo-0613\",\n",
      "  \"object\": \"chat.completion\",\n",
      "  \"system_fingerprint\": null,\n",
      "  \"usage\": {\n",
      "    \"completion_tokens\": 31,\n",
      "    \"prompt_tokens\": 28,\n",
      "    \"total_tokens\": 59\n",
      "  }\n",
      "}\n"
     ]
    }
   ],
   "source": [
    "prompt = '''Translate the following text into South American and European Spanish: \n",
    "            Please do not drive the car fast.'''\n",
    "\n",
    "response = get_completion(prompt)\n",
    "print(response.model_dump_json(indent=2))"
   ]
  },
  {
   "cell_type": "markdown",
   "id": "28f497f3",
   "metadata": {},
   "source": [
    "## Spelling and Grammar "
   ]
  },
  {
   "cell_type": "code",
   "execution_count": 7,
   "id": "91c77f3f",
   "metadata": {},
   "outputs": [
    {
     "name": "stdout",
     "output_type": "stream",
     "text": [
      "{\n",
      "  \"id\": \"chatcmpl-8Pvuq3SbGJz3bhwUX4LU7tZOwUCzp\",\n",
      "  \"choices\": [\n",
      "    {\n",
      "      \"finish_reason\": \"stop\",\n",
      "      \"index\": 0,\n",
      "      \"message\": {\n",
      "        \"content\": \"Me and my friend, we went to the park yesterday. We played ball and had lots of fun. But then, I saw a bird and I tried to catch it. I ran and jumped, but the bird flew away. My friend laughed and told me to be careful. After that, we went home and ate ice cream.\",\n",
      "        \"role\": \"assistant\",\n",
      "        \"function_call\": null,\n",
      "        \"tool_calls\": null\n",
      "      }\n",
      "    }\n",
      "  ],\n",
      "  \"created\": 1701191520,\n",
      "  \"model\": \"gpt-3.5-turbo-0613\",\n",
      "  \"object\": \"chat.completion\",\n",
      "  \"system_fingerprint\": null,\n",
      "  \"usage\": {\n",
      "    \"completion_tokens\": 67,\n",
      "    \"prompt_tokens\": 117,\n",
      "    \"total_tokens\": 184\n",
      "  }\n",
      "}\n"
     ]
    }
   ],
   "source": [
    "prompt = ''' Proofread and correct the spelling and grammar in the following text. \n",
    "             If no errors found, simply state, \"No errors\". \n",
    "             \n",
    "             The text is: Me and my friend, we goes to the park yesterday. We play \n",
    "             ball and have lots of fun. But then, I seen a bird and I tries to catch \n",
    "             it. I run and jump, but the bird flies away. My friend laughts and tells \n",
    "             me to be careful. After that, we goes home and eats ice cream. '''\n",
    "\n",
    "response = get_completion(prompt)\n",
    "print(response.model_dump_json(indent=2))"
   ]
  },
  {
   "cell_type": "code",
   "execution_count": 8,
   "id": "5679e0ad",
   "metadata": {},
   "outputs": [
    {
     "name": "stdout",
     "output_type": "stream",
     "text": [
      "{\n",
      "  \"id\": \"chatcmpl-8Pvuz1SuNsT5ZsCL1lyIqYWkiHNyv\",\n",
      "  \"choices\": [\n",
      "    {\n",
      "      \"finish_reason\": \"stop\",\n",
      "      \"index\": 0,\n",
      "      \"message\": {\n",
      "        \"content\": \"No errors.\",\n",
      "        \"role\": \"assistant\",\n",
      "        \"function_call\": null,\n",
      "        \"tool_calls\": null\n",
      "      }\n",
      "    }\n",
      "  ],\n",
      "  \"created\": 1701191529,\n",
      "  \"model\": \"gpt-3.5-turbo-0613\",\n",
      "  \"object\": \"chat.completion\",\n",
      "  \"system_fingerprint\": null,\n",
      "  \"usage\": {\n",
      "    \"completion_tokens\": 3,\n",
      "    \"prompt_tokens\": 112,\n",
      "    \"total_tokens\": 115\n",
      "  }\n",
      "}\n"
     ]
    }
   ],
   "source": [
    "prompt = ''' Proofread and correct the spelling and grammar in the following text. \n",
    "             If no errors found, simply state, \"No errors\". \n",
    "             \n",
    "             The text is: My friend and I went to the park yesterday. We played ball and \n",
    "             had lots of fun. But then, I saw a bird and tried to catch it. I ran and \n",
    "             jumped, but the bird flew away. My friend laughed and told me to be careful. \n",
    "             After that, we went home and ate ice cream. '''\n",
    "\n",
    "response = get_completion(prompt)\n",
    "print(response.model_dump_json(indent=2))"
   ]
  },
  {
   "cell_type": "markdown",
   "id": "bc12a348",
   "metadata": {},
   "source": [
    "## Tone Adjustment "
   ]
  },
  {
   "cell_type": "markdown",
   "id": "9ca6a8eb",
   "metadata": {},
   "source": [
    "### '80's slang"
   ]
  },
  {
   "cell_type": "code",
   "execution_count": 9,
   "id": "2a0679dd",
   "metadata": {},
   "outputs": [
    {
     "name": "stdout",
     "output_type": "stream",
     "text": [
      "{\n",
      "  \"id\": \"chatcmpl-8Pvv0tSbf27c7hFYBbQR9mUgucJWJ\",\n",
      "  \"choices\": [\n",
      "    {\n",
      "      \"finish_reason\": \"stop\",\n",
      "      \"index\": 0,\n",
      "      \"message\": {\n",
      "        \"content\": \"Dear colleagues, \\n\\nI am pleased to inform you that I have successfully obtained concert tickets for the upcoming performance of my favorite band, The Electric Dreams. They are renowned for their captivating melodies and exceptional guitar solos. I am extremely excited and looking forward to the event. Moreover, I will be dressing in vibrant neon leggings, parachute pants, and jelly shoes while showcasing my impressive dance skills. I am eagerly anticipating a nostalgic experience reminiscent of the vibrant 1985 era. \",\n",
      "        \"role\": \"assistant\",\n",
      "        \"function_call\": null,\n",
      "        \"tool_calls\": null\n",
      "      }\n",
      "    }\n",
      "  ],\n",
      "  \"created\": 1701191530,\n",
      "  \"model\": \"gpt-3.5-turbo-0613\",\n",
      "  \"object\": \"chat.completion\",\n",
      "  \"system_fingerprint\": null,\n",
      "  \"usage\": {\n",
      "    \"completion_tokens\": 95,\n",
      "    \"prompt_tokens\": 135,\n",
      "    \"total_tokens\": 230\n",
      "  }\n",
      "}\n"
     ]
    }
   ],
   "source": [
    "prompt = ''' Translate the following text from slang to formal business language: \n",
    "             \n",
    "             The text is: Hey, dudes and dudettes! Guess what? I just scored some totally \n",
    "             rad concert tickets to see my fave band, The Electric Dreams! They're gonna \n",
    "             rock the house with their gnarly tunes and killer guitar solos. I'm stoked \n",
    "             beyond belief! Gonna rock my neon leggings, parachute pants, and jelly shoes \n",
    "             while busting out my sweet dance moves. Can't wait to party like it's 1985! \n",
    "             It's gonna be like, totally tubular! '''\n",
    "\n",
    "response = get_completion(prompt)\n",
    "print(response.model_dump_json(indent=2))"
   ]
  },
  {
   "cell_type": "markdown",
   "id": "e6b9b33c",
   "metadata": {},
   "source": [
    "### '90's slang"
   ]
  },
  {
   "cell_type": "code",
   "execution_count": 10,
   "id": "53c97785",
   "metadata": {},
   "outputs": [
    {
     "name": "stdout",
     "output_type": "stream",
     "text": [
      "{\n",
      "  \"id\": \"chatcmpl-8PvvBB1O5P50pp6FoVgWhwDqoP2Wm\",\n",
      "  \"choices\": [\n",
      "    {\n",
      "      \"finish_reason\": \"stop\",\n",
      "      \"index\": 0,\n",
      "      \"message\": {\n",
      "        \"content\": \"Dear colleagues,\\nI am delighted to inform you that I have recently acquired a set of highly desirable tickets to an exceptional concert. I will have the pleasure of attending a performance by my all-time favorite musical group, the Spice Girls. Their concert promises to be extraordinary, featuring a dynamic blend of captivating rhythms and impressive choreography. I am truly excited and eager to participate in this event. I plan to dress casually with baggy jeans, a flannel shirt, and chunky sneakers, complementing my dance moves. This celebration will transcend time, transporting us back to the vibrant atmosphere of 1997. It is sure to be an unforgettable experience.\",\n",
      "        \"role\": \"assistant\",\n",
      "        \"function_call\": null,\n",
      "        \"tool_calls\": null\n",
      "      }\n",
      "    }\n",
      "  ],\n",
      "  \"created\": 1701191541,\n",
      "  \"model\": \"gpt-3.5-turbo-0613\",\n",
      "  \"object\": \"chat.completion\",\n",
      "  \"system_fingerprint\": null,\n",
      "  \"usage\": {\n",
      "    \"completion_tokens\": 130,\n",
      "    \"prompt_tokens\": 137,\n",
      "    \"total_tokens\": 267\n",
      "  }\n",
      "}\n"
     ]
    }
   ],
   "source": [
    "prompt = ''' Translate the following text from slang to formal business language: \n",
    "             \n",
    "             The text is: Hey, peeps! Guess what? I just scored some wicked cool tickets \n",
    "             to the dopest concert ever! I'm gonna see my all-time fave band, Spice Girls!\n",
    "             They're gonna rock the stage with their phat beats and fly dance moves. I'm \n",
    "             beyond hyped! Gonna rock my baggy jeans, flannel shirt, and chunky sneakers \n",
    "             while busting out my sick dance grooves. Can't wait to party like \n",
    "             it's 1997! It's gonna be da bomb!'''\n",
    "\n",
    "response = get_completion(prompt)\n",
    "print(response.model_dump_json(indent=2))"
   ]
  },
  {
   "cell_type": "markdown",
   "id": "9e1486fe",
   "metadata": {},
   "source": [
    "### '00s slang"
   ]
  },
  {
   "cell_type": "code",
   "execution_count": 11,
   "id": "cb8c15dd",
   "metadata": {},
   "outputs": [
    {
     "name": "stdout",
     "output_type": "stream",
     "text": [
      "{\n",
      "  \"id\": \"chatcmpl-8PvvL61vb2ebStglsTmlGGWDZMUIz\",\n",
      "  \"choices\": [\n",
      "    {\n",
      "      \"finish_reason\": \"stop\",\n",
      "      \"index\": 0,\n",
      "      \"message\": {\n",
      "        \"content\": \"Dear colleagues,\\n\\nI am delighted to inform you that I have successfully acquired tickets to a highly esteemed concert. I will have the pleasure of witnessing the internationally renowned band, Linkin Park, performing live on stage. Their incredible guitar solos and captivating stage presence will undoubtedly leave a lasting impression. I am extremely enthusiastic about this occasion and plan to dress stylishly in low-rise jeans, a fashionable graphic tee, and chunky sneakers, all while showcasing my exceptional dance skills. I eagerly anticipate experiencing a memorable evening reminiscent of the vibrant party atmosphere of the year 2004. This event promises to be truly exceptional.\",\n",
      "        \"role\": \"assistant\",\n",
      "        \"function_call\": null,\n",
      "        \"tool_calls\": null\n",
      "      }\n",
      "    }\n",
      "  ],\n",
      "  \"created\": 1701191551,\n",
      "  \"model\": \"gpt-3.5-turbo-0613\",\n",
      "  \"object\": \"chat.completion\",\n",
      "  \"system_fingerprint\": null,\n",
      "  \"usage\": {\n",
      "    \"completion_tokens\": 122,\n",
      "    \"prompt_tokens\": 137,\n",
      "    \"total_tokens\": 259\n",
      "  }\n",
      "}\n"
     ]
    }
   ],
   "source": [
    "prompt = ''' Translate the following text from slang to formal business language: \n",
    "             \n",
    "             The text is:  Hey, guys! Guess what? I just snagged some awesome tix to the \n",
    "             sickest concert ever! I'm gonna catch my favorite band, Linkin Park, live in \n",
    "             action! They're gonna rock the stage with their killer riffs and epic energy.\n",
    "             I'm so pumped! Gonna rock my low-rise jeans, graphic tee, and chunky sneakers\n",
    "             while busting out my sick dance moves. Can't wait to party like \n",
    "             it's 2004! It's gonna be off the chain!'''\n",
    "\n",
    "response = get_completion(prompt)\n",
    "print(response.model_dump_json(indent=2))"
   ]
  },
  {
   "cell_type": "markdown",
   "id": "a2365cab",
   "metadata": {},
   "source": [
    "### Current slang"
   ]
  },
  {
   "cell_type": "code",
   "execution_count": 12,
   "id": "56799dc4",
   "metadata": {},
   "outputs": [
    {
     "name": "stdout",
     "output_type": "stream",
     "text": [
      "{\n",
      "  \"id\": \"chatcmpl-8PvvZ9MSMaYrfX09zPfzUeakzXRw6\",\n",
      "  \"choices\": [\n",
      "    {\n",
      "      \"finish_reason\": \"stop\",\n",
      "      \"index\": 0,\n",
      "      \"message\": {\n",
      "        \"content\": \"Dear colleagues, \\n\\nI wanted to inform you that I have recently obtained tickets to a highly anticipated concert that I am truly excited about. The artist performing is widely recognized and admired, known for their remarkable talent and impressive vocal abilities. This event promises to be a phenomenal experience, filled with captivating music and exhilarating performances. \\n\\nI am enthusiastic about dressing stylishly for this occasion, ensuring that I am wearing the latest and most trendy fashion. Additionally, I am looking forward to showcasing my exceptional dancing skills. The energy at this concert is expected to be extraordinary, reminiscent of a futuristic experience. \\n\\nI am greatly anticipating this event and believe it will be truly exceptional.\",\n",
      "        \"role\": \"assistant\",\n",
      "        \"function_call\": null,\n",
      "        \"tool_calls\": null\n",
      "      }\n",
      "    }\n",
      "  ],\n",
      "  \"created\": 1701191565,\n",
      "  \"model\": \"gpt-3.5-turbo-0613\",\n",
      "  \"object\": \"chat.completion\",\n",
      "  \"system_fingerprint\": null,\n",
      "  \"usage\": {\n",
      "    \"completion_tokens\": 133,\n",
      "    \"prompt_tokens\": 128,\n",
      "    \"total_tokens\": 261\n",
      "  }\n",
      "}\n"
     ]
    }
   ],
   "source": [
    "prompt = ''' Translate the following text from slang to formal business language: \n",
    "             \n",
    "             The text is:  Hey, fam! Guess what? I just scored some lit tickets to the \n",
    "             sickest concert ever! I'm gonna catch my absolute favorite artist, and \n",
    "             they're gonna slay the stage with their fire beats and killer vocals. I'm so \n",
    "             hyped! Gonna rock my fresh kicks, drip in the trendiest threads, \n",
    "             and bust out my killer dance moves. Can't wait to vibe like it's 2023! \n",
    "             It's gonna be absolutely vibes!'''\n",
    "\n",
    "response = get_completion(prompt)\n",
    "print(response.model_dump_json(indent=2))"
   ]
  },
  {
   "cell_type": "markdown",
   "id": "57588b0d",
   "metadata": {},
   "source": [
    "## Convert from one format to another"
   ]
  },
  {
   "cell_type": "markdown",
   "id": "8b91369c",
   "metadata": {},
   "source": [
    "### Translate to HTML"
   ]
  },
  {
   "cell_type": "code",
   "execution_count": 13,
   "id": "6e7b20b4",
   "metadata": {},
   "outputs": [
    {
     "name": "stdout",
     "output_type": "stream",
     "text": [
      "{\n",
      "  \"id\": \"chatcmpl-8PvvkbRtuQRfxp3Wt7Oh3W0SN4W9P\",\n",
      "  \"choices\": [\n",
      "    {\n",
      "      \"finish_reason\": \"stop\",\n",
      "      \"index\": 0,\n",
      "      \"message\": {\n",
      "        \"content\": \"<ul>\\n  <li>Item 1: Cat</li>\\n  <li>Item 2: Dog</li>\\n  <li>Item 3: Horse</li>\\n  <li>Item 4: Cow</li>\\n</ul>\",\n",
      "        \"role\": \"assistant\",\n",
      "        \"function_call\": null,\n",
      "        \"tool_calls\": null\n",
      "      }\n",
      "    }\n",
      "  ],\n",
      "  \"created\": 1701191576,\n",
      "  \"model\": \"gpt-3.5-turbo-0613\",\n",
      "  \"object\": \"chat.completion\",\n",
      "  \"system_fingerprint\": null,\n",
      "  \"usage\": {\n",
      "    \"completion_tokens\": 53,\n",
      "    \"prompt_tokens\": 45,\n",
      "    \"total_tokens\": 98\n",
      "  }\n",
      "}\n"
     ]
    }
   ],
   "source": [
    "prompt = ''' Translate the following list to HTML: \n",
    "\n",
    "             Item 1: Cat\n",
    "             Item 2: Dog\n",
    "             Item 3: Horse\n",
    "             Item 4: Cow\n",
    "             \n",
    "             '''\n",
    "\n",
    "response = get_completion(prompt)\n",
    "print(response.model_dump_json(indent=2))"
   ]
  },
  {
   "cell_type": "markdown",
   "id": "536cc710",
   "metadata": {},
   "source": [
    "### Translate to JSON"
   ]
  },
  {
   "cell_type": "code",
   "execution_count": 14,
   "id": "aadd1b4f",
   "metadata": {},
   "outputs": [
    {
     "name": "stdout",
     "output_type": "stream",
     "text": [
      "{\n",
      "  \"id\": \"chatcmpl-8PvvsvN1M6JyqRWbU4x9kdjuHBVQe\",\n",
      "  \"choices\": [\n",
      "    {\n",
      "      \"finish_reason\": \"stop\",\n",
      "      \"index\": 0,\n",
      "      \"message\": {\n",
      "        \"content\": \"[\\\"cat\\\",\\\"dog\\\",\\\"horse\\\",\\\"cow\\\"]\",\n",
      "        \"role\": \"assistant\",\n",
      "        \"function_call\": null,\n",
      "        \"tool_calls\": null\n",
      "      }\n",
      "    }\n",
      "  ],\n",
      "  \"created\": 1701191584,\n",
      "  \"model\": \"gpt-3.5-turbo-0613\",\n",
      "  \"object\": \"chat.completion\",\n",
      "  \"system_fingerprint\": null,\n",
      "  \"usage\": {\n",
      "    \"completion_tokens\": 9,\n",
      "    \"prompt_tokens\": 23,\n",
      "    \"total_tokens\": 32\n",
      "  }\n",
      "}\n"
     ]
    }
   ],
   "source": [
    "prompt = ' Translate the following list to JSON: cat, dog, horse, cow. '\n",
    "\n",
    "response = get_completion(prompt)\n",
    "print(response.model_dump_json(indent=2))"
   ]
  },
  {
   "cell_type": "markdown",
   "id": "83baab46",
   "metadata": {},
   "source": [
    "### Translate to SQL statement"
   ]
  },
  {
   "cell_type": "code",
   "execution_count": 15,
   "id": "7fb93841",
   "metadata": {},
   "outputs": [
    {
     "name": "stdout",
     "output_type": "stream",
     "text": [
      "{\n",
      "  \"id\": \"chatcmpl-8PvvtZfCBaDXQZCHWcuIe0qdj64CI\",\n",
      "  \"choices\": [\n",
      "    {\n",
      "      \"finish_reason\": \"stop\",\n",
      "      \"index\": 0,\n",
      "      \"message\": {\n",
      "        \"content\": \"INSERT INTO animals (name) VALUES ('cat');\\nINSERT INTO animals (name) VALUES ('dog');\\nINSERT INTO animals (name) VALUES ('horse');\\nINSERT INTO animals (name) VALUES ('cow');\",\n",
      "        \"role\": \"assistant\",\n",
      "        \"function_call\": null,\n",
      "        \"tool_calls\": null\n",
      "      }\n",
      "    }\n",
      "  ],\n",
      "  \"created\": 1701191585,\n",
      "  \"model\": \"gpt-3.5-turbo-0613\",\n",
      "  \"object\": \"chat.completion\",\n",
      "  \"system_fingerprint\": null,\n",
      "  \"usage\": {\n",
      "    \"completion_tokens\": 40,\n",
      "    \"prompt_tokens\": 26,\n",
      "    \"total_tokens\": 66\n",
      "  }\n",
      "}\n"
     ]
    }
   ],
   "source": [
    "prompt = ' Translate the following list to a SQL insert statements: cat, dog, horse, cow. '\n",
    "\n",
    "response = get_completion(prompt)\n",
    "print(response.model_dump_json(indent=2))"
   ]
  },
  {
   "cell_type": "markdown",
   "id": "8e65df41",
   "metadata": {},
   "source": [
    "### Translate to Java"
   ]
  },
  {
   "cell_type": "code",
   "execution_count": 16,
   "id": "840d5aed",
   "metadata": {},
   "outputs": [
    {
     "name": "stdout",
     "output_type": "stream",
     "text": [
      "{\n",
      "  \"id\": \"chatcmpl-8PvvxGi1fd7mxKmTlvnv3XjQAdc0j\",\n",
      "  \"choices\": [\n",
      "    {\n",
      "      \"finish_reason\": \"stop\",\n",
      "      \"index\": 0,\n",
      "      \"message\": {\n",
      "        \"content\": \"To insert the given values into a database, you can create a Java function with the following code:\\n\\n```java\\nimport java.sql.*;\\n\\npublic class InsertIntoDatabase {\\n    \\n    // Function to insert values into database\\n    public static void insertValues() {\\n        // Connection parameters for the database\\n        String url = \\\"jdbc:mysql://localhost:3306/database_name\\\";\\n        String username = \\\"your_username\\\";\\n        String password = \\\"your_password\\\";\\n        \\n        try {\\n            // Establishing the database connection\\n            Connection connection = DriverManager.getConnection(url, username, password);\\n            \\n            // Creating a SQL statement\\n            Statement statement = connection.createStatement();\\n            \\n            // Values to be inserted\\n            String[] values = {\\\"cat\\\", \\\"dog\\\", \\\"horse\\\", \\\"cow\\\"};\\n            \\n            // Loop through the values and insert them into the database\\n            for (String value : values) {\\n                String sql = \\\"INSERT INTO table_name (column_name) VALUES ('\\\" + value + \\\"');\\\";\\n                statement.executeUpdate(sql);\\n            }\\n            \\n            // Closing the statement and the connection\\n            statement.close();\\n            connection.close();\\n            \\n            System.out.println(\\\"Values inserted successfully!\\\");\\n            \\n        } catch (SQLException e) {\\n            e.printStackTrace();\\n        }\\n    }\\n    \\n    // Main method to test the function\\n    public static void main(String[] args) {\\n        insertValues();\\n    }\\n}\\n```\\n\\nMake sure to replace the following placeholders in the code with your actual database and table names:\\n\\n- `database_name`: Replace this with the name of your database.\\n- `your_username`: Replace this with your database username.\\n- `your_password`: Replace this with your database password.\\n- `table_name`: Replace this with the name of the table where you want to insert the values.\\n- `column_name`: Replace this with the name of the column where you want to insert the values.\\n\\nNote: This code assumes you are using MySQL database. If you are using a different database, you may need to adjust the JDBC driver and the connection URL accordingly.\",\n",
      "        \"role\": \"assistant\",\n",
      "        \"function_call\": null,\n",
      "        \"tool_calls\": null\n",
      "      }\n",
      "    }\n",
      "  ],\n",
      "  \"created\": 1701191589,\n",
      "  \"model\": \"gpt-3.5-turbo-0613\",\n",
      "  \"object\": \"chat.completion\",\n",
      "  \"system_fingerprint\": null,\n",
      "  \"usage\": {\n",
      "    \"completion_tokens\": 411,\n",
      "    \"prompt_tokens\": 45,\n",
      "    \"total_tokens\": 456\n",
      "  }\n",
      "}\n"
     ]
    }
   ],
   "source": [
    "prompt = ''' Translate the following list to a Java function that inserts the \n",
    "             following values into a database: cat, dog, horse, cow. Also provide the \n",
    "             function code written in Java.'''\n",
    "\n",
    "response = get_completion(prompt)\n",
    "print(response.model_dump_json(indent=2))"
   ]
  },
  {
   "cell_type": "markdown",
   "id": "166b7dd9",
   "metadata": {},
   "source": [
    "## Hands-on Challenge  - You try it out! \n",
    "### Write a prompt to perform tone adjustment and language translation of your chosen text."
   ]
  },
  {
   "cell_type": "code",
   "execution_count": null,
   "id": "ff197b3b",
   "metadata": {},
   "outputs": [],
   "source": []
  }
 ],
 "metadata": {
  "kernelspec": {
   "display_name": "Python 3 (ipykernel)",
   "language": "python",
   "name": "python3"
  },
  "language_info": {
   "codemirror_mode": {
    "name": "ipython",
    "version": 3
   },
   "file_extension": ".py",
   "mimetype": "text/x-python",
   "name": "python",
   "nbconvert_exporter": "python",
   "pygments_lexer": "ipython3",
   "version": "3.8.9"
  }
 },
 "nbformat": 4,
 "nbformat_minor": 5
}
