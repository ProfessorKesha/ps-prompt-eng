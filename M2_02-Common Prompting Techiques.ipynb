{
 "cells": [
  {
   "cell_type": "markdown",
   "id": "432ba143",
   "metadata": {},
   "source": [
    "# Prompt Engineering for Improved Performance\n",
    "\n",
    "## Module 2: Prompting at a Glance\n",
    "### Video 2: Common Prompting Techniques"
   ]
  },
  {
   "cell_type": "markdown",
   "id": "b4caffe1",
   "metadata": {},
   "source": [
    "#### Install the necessary libraries"
   ]
  },
  {
   "cell_type": "code",
   "execution_count": null,
   "id": "509b1e08",
   "metadata": {},
   "outputs": [],
   "source": [
    "pip install openai"
   ]
  },
  {
   "cell_type": "code",
   "execution_count": null,
   "id": "fc97f3ef",
   "metadata": {},
   "outputs": [],
   "source": [
    "pip install openai[datalib]"
   ]
  },
  {
   "cell_type": "code",
   "execution_count": null,
   "id": "5584c760",
   "metadata": {},
   "outputs": [],
   "source": [
    "pip install urllib3==1.26.6 "
   ]
  },
  {
   "cell_type": "code",
   "execution_count": null,
   "id": "f1621606",
   "metadata": {},
   "outputs": [],
   "source": [
    "pip install python-dotenv"
   ]
  },
  {
   "cell_type": "markdown",
   "id": "9e6cc16f",
   "metadata": {},
   "source": [
    "### Import the libraries and enviornment file to gain access to the Open API Key\n",
    "#### The key can be generated here: https://platform.openai.com/account/api-keys"
   ]
  },
  {
   "cell_type": "code",
   "execution_count": 1,
   "id": "fd8d1ec2",
   "metadata": {},
   "outputs": [],
   "source": [
    "import os\n",
    "from openai import OpenAI\n",
    "\n",
    "from dotenv import load_dotenv, find_dotenv\n",
    "_ = load_dotenv(find_dotenv()) # read local .env file"
   ]
  },
  {
   "cell_type": "markdown",
   "id": "9d3964d6",
   "metadata": {},
   "source": [
    "### Authenticate to the API using the API Key\n",
    "#### Pull from environment variables or use openai.api_key = (\"your_key_here\") to hardcode the key"
   ]
  },
  {
   "cell_type": "code",
   "execution_count": 2,
   "id": "0af16d2f",
   "metadata": {},
   "outputs": [],
   "source": [
    "client = OpenAI(\n",
    "  api_key=os.environ['OPENAI_API_KEY']  \n",
    ")"
   ]
  },
  {
   "cell_type": "markdown",
   "id": "46c46ed5",
   "metadata": {},
   "source": [
    "### Zero-Shot Learning"
   ]
  },
  {
   "cell_type": "code",
   "execution_count": 3,
   "id": "63338c31",
   "metadata": {},
   "outputs": [],
   "source": [
    "message =  [ {'role':'user', 'content':'Recommend 3 books in this genre: Mystery'}  ]"
   ]
  },
  {
   "cell_type": "code",
   "execution_count": 4,
   "id": "f5529c6b",
   "metadata": {},
   "outputs": [],
   "source": [
    "def zero_shot_learning():\n",
    "    try:\n",
    "        response = client.chat.completions.create(\n",
    "            model=\"gpt-3.5-turbo\",\n",
    "            messages=message\n",
    "        )\n",
    "\n",
    "        return response\n",
    "    except openai.APIError as e:\n",
    "        print(e.http_status)\n",
    "        print(e.error)\n",
    "        return e.error    "
   ]
  },
  {
   "cell_type": "code",
   "execution_count": 5,
   "id": "2f883cf2",
   "metadata": {},
   "outputs": [
    {
     "name": "stdout",
     "output_type": "stream",
     "text": [
      "{\n",
      "  \"id\": \"chatcmpl-8PVlg2FZBQo0HujowpbYaAgFEgOWO\",\n",
      "  \"choices\": [\n",
      "    {\n",
      "      \"finish_reason\": \"stop\",\n",
      "      \"index\": 0,\n",
      "      \"message\": {\n",
      "        \"content\": \"1. \\\"Gone Girl\\\" by Gillian Flynn: This psychological thriller follows the disappearance of Amy Dunne and the investigation into her husband, Nick, as the prime suspect. Twists and turns make this book a compelling mystery that keeps readers guessing until the very end.\\n\\n2. \\\"The Girl with the Dragon Tattoo\\\" by Stieg Larsson: This international bestseller introduces the enigmatic character Lisbeth Salander, a skilled hacker and investigator. The book follows the story of journalist Mikael Blomkvist and Salander as they uncover a dark family secret and delve into a web of corruption and murder.\\n\\n3. \\\"The Cuckoo's Calling\\\" by Robert Galbraith (pseudonym of J.K. Rowling): The first book in the Cormoran Strike series, this novel introduces the brilliant detective Cormoran Strike and his assistant, Robin Ellacott. When a supermodel's death is ruled as suicide, Strike begins to suspect foul play, leading him down a complex and dangerous path as he unravels the truth behind her mysterious demise.\",\n",
      "        \"role\": \"assistant\",\n",
      "        \"function_call\": null,\n",
      "        \"tool_calls\": null\n",
      "      }\n",
      "    }\n",
      "  ],\n",
      "  \"created\": 1701091008,\n",
      "  \"model\": \"gpt-3.5-turbo-0613\",\n",
      "  \"object\": \"chat.completion\",\n",
      "  \"system_fingerprint\": null,\n",
      "  \"usage\": {\n",
      "    \"completion_tokens\": 215,\n",
      "    \"prompt_tokens\": 16,\n",
      "    \"total_tokens\": 231\n",
      "  }\n",
      "}\n"
     ]
    }
   ],
   "source": [
    "response = zero_shot_learning()\n",
    "print(response.model_dump_json(indent=2))"
   ]
  },
  {
   "cell_type": "markdown",
   "id": "3d52be73",
   "metadata": {},
   "source": [
    "### Few-Shot Learning"
   ]
  },
  {
   "cell_type": "code",
   "execution_count": 6,
   "id": "3b406d1e",
   "metadata": {},
   "outputs": [],
   "source": [
    "messages =  [          \n",
    "    {'role':'system', 'content':''' \n",
    "                            Your job is to recommend 6 books in the Mystery genre.\n",
    "                            \n",
    "                            My favorite authors are: Louise Penny, Ann Cleeves, Harlan Coben, and Lee Child.\n",
    "                            \n",
    "                            Output the recommendations in JSON format using these elements:\n",
    "                            -Title\n",
    "                            -Author\n",
    "                            -Description\n",
    "                            -Rating\n",
    "                            -Length\n",
    "                        '''} \n",
    "]"
   ]
  },
  {
   "cell_type": "code",
   "execution_count": 7,
   "id": "28fd16c4",
   "metadata": {},
   "outputs": [],
   "source": [
    "def few_shot_learning():\n",
    "    try:\n",
    "        response = client.chat.completions.create(\n",
    "            model=\"gpt-3.5-turbo\",\n",
    "            messages=messages\n",
    "        )\n",
    "\n",
    "        return response\n",
    "    except openai.APIError as e:\n",
    "        print(e.http_status)\n",
    "        print(e.error)\n",
    "        return e.error"
   ]
  },
  {
   "cell_type": "code",
   "execution_count": 8,
   "id": "f536b150",
   "metadata": {},
   "outputs": [
    {
     "name": "stdout",
     "output_type": "stream",
     "text": [
      "{\n",
      "  \"id\": \"chatcmpl-8PVm01Ze9R1lC5q1249k6kxqC4SPC\",\n",
      "  \"choices\": [\n",
      "    {\n",
      "      \"finish_reason\": \"stop\",\n",
      "      \"index\": 0,\n",
      "      \"message\": {\n",
      "        \"content\": \"{\\n  \\\"books\\\": [\\n    {\\n      \\\"title\\\": \\\"Still Life\\\",\\n      \\\"author\\\": \\\"Louise Penny\\\",\\n      \\\"description\\\": \\\"Chief Inspector Armand Gamache of the Sûreté du Québec and his team of investigators are called in to the scene of a suspicious death in a rural village south of Montreal.\\\",\\n      \\\"rating\\\": 4.2,\\n      \\\"length\\\": \\\"320 pages\\\"\\n    },\\n    {\\n      \\\"title\\\": \\\"The Seagull\\\",\\n      \\\"author\\\": \\\"Ann Cleeves\\\",\\n      \\\"description\\\": \\\"Detective Inspector Vera Stanhope discovers the body of a young man on the beach, shot with a hunting rifle.\\\",\\n      \\\"rating\\\": 4.1,\\n      \\\"length\\\": \\\"384 pages\\\"\\n    },\\n    {\\n      \\\"title\\\": \\\"Gone for Good\\\",\\n      \\\"author\\\": \\\"Harlan Coben\\\",\\n      \\\"description\\\": \\\"Will Klein's brother, Ken, disappeared 11 years ago, and Will has been searching for him ever since. But when Will's girlfriend disappears, Will gets drawn into a web of deceit and secrets.\\\",\\n      \\\"rating\\\": 4.0,\\n      \\\"length\\\": \\\"496 pages\\\"\\n    },\\n    {\\n      \\\"title\\\": \\\"The Affair\\\",\\n      \\\"author\\\": \\\"Lee Child\\\",\\n      \\\"description\\\": \\\"In this prequel to the Jack Reacher series, Reacher is still in the Army and gets involved in a dangerous investigation. As the truth emerges, Reacher is faced with a choice that will change his life forever.\\\",\\n      \\\"rating\\\": 4.3,\\n      \\\"length\\\": \\\"416 pages\\\"\\n    },\\n    {\\n      \\\"title\\\": \\\"A Fatal Grace\\\",\\n      \\\"author\\\": \\\"Louise Penny\\\",\\n      \\\"description\\\": \\\"Chief Inspector Armand Gamache investigates the murder of a woman in a peaceful village in Quebec. As he digs deeper, he uncovers dark secrets and long-held grudges.\\\",\\n      \\\"rating\\\": 4.4,\\n      \\\"length\\\": \\\"320 pages\\\"\\n    },\\n    {\\n      \\\"title\\\": \\\"Raven Black\\\",\\n      \\\"author\\\": \\\"Ann Cleeves\\\",\\n      \\\"description\\\": \\\"Detective Inspector Jimmy Perez is called to investigate the murder of a teenage girl on a remote Scottish island. As he delves into the island's secrets, he realizes that everyone is hiding something.\\\",\\n      \\\"rating\\\": 4.5,\\n      \\\"length\\\": \\\"400 pages\\\"\\n    }\\n  ]\\n}\",\n",
      "        \"role\": \"assistant\",\n",
      "        \"function_call\": null,\n",
      "        \"tool_calls\": null\n",
      "      }\n",
      "    }\n",
      "  ],\n",
      "  \"created\": 1701091028,\n",
      "  \"model\": \"gpt-3.5-turbo-0613\",\n",
      "  \"object\": \"chat.completion\",\n",
      "  \"system_fingerprint\": null,\n",
      "  \"usage\": {\n",
      "    \"completion_tokens\": 497,\n",
      "    \"prompt_tokens\": 79,\n",
      "    \"total_tokens\": 576\n",
      "  }\n",
      "}\n"
     ]
    }
   ],
   "source": [
    "response = few_shot_learning()\n",
    "print(response.model_dump_json(indent=2))"
   ]
  },
  {
   "cell_type": "markdown",
   "id": "05aea113",
   "metadata": {},
   "source": [
    "### Instruction Prompting"
   ]
  },
  {
   "cell_type": "code",
   "execution_count": 9,
   "id": "7acac34a",
   "metadata": {},
   "outputs": [],
   "source": [
    "instructions = ['''  Write a creative story about a magical adventure. Please make it whimsical \n",
    "                     and light-hearted, emphasizing the importance of friendship and bravery. \n",
    "                     Ensure the story is around 500 words in length.''', \n",
    "                '''  Build a Python function that calculates the factorial of a given integer. \n",
    "                     Ensure the function takes an input parameter 'n' and returns the factorial value. \n",
    "                     Please optimize the function for efficiency and handle edge cases such as negative \n",
    "                     numbers and zero. Provide clear comments and use appropriate variable names \n",
    "                     for readability. ''', \n",
    "                '''  Design a RESTful API for a blog application. The API should support CRUD operations \n",
    "                     (Create, Read, Update, Delete) for blog posts, comments, and user accounts. \n",
    "                     Ensure the API follows REST principles and uses appropriate HTTP methods and status codes. \n",
    "                     Document the API endpoints, request/response formats, and authentication/authorization \n",
    "                     mechanisms''']"
   ]
  },
  {
   "cell_type": "code",
   "execution_count": 10,
   "id": "0533bbcf",
   "metadata": {},
   "outputs": [],
   "source": [
    "def instruction_prompt(instruction=0):\n",
    "    try:\n",
    "        response = client.completions.create(\n",
    "            model=\"text-davinci-003\",\n",
    "            prompt=instructions[instruction],\n",
    "            max_tokens=500 #response size\n",
    "        )\n",
    "\n",
    "        return response\n",
    "    except openai.APIError as e:\n",
    "        print(e.http_status)\n",
    "        print(e.error)\n",
    "        return e.error"
   ]
  },
  {
   "cell_type": "code",
   "execution_count": 11,
   "id": "9096e599",
   "metadata": {},
   "outputs": [
    {
     "name": "stdout",
     "output_type": "stream",
     "text": [
      "{\n",
      "  \"id\": \"cmpl-8PVmafbhtatFxGgNn89FF1t57qSBe\",\n",
      "  \"choices\": [\n",
      "    {\n",
      "      \"finish_reason\": \"length\",\n",
      "      \"index\": 0,\n",
      "      \"logprobs\": null,\n",
      "      \"text\": \"\\n\\nOnce upon a time in a far away land, there lived three brave and adventurous friends – Bree, Cyra and Teeko. \\n\\nThe three friends lived in a small village towards the foothills of the glorious Magma Mountains. Life in their village was peaceful and happy; however, the friends had grown restless of the everyday monotony and were looking for a new adventure. \\n\\nOne day, as chance would have it, the friends met one of the magicians that lived in the Magma Mountains. The old and wise magician was headed back to his home after a long journey and stopped for a long rest in the village. \\n\\nThe friends quickly befriended the old magician and told him about their need for a new adventure. The magician was instantly intrigued and decided to teach the friends a few tricks of his magical craft. \\n\\nThe next day, the morning sky shone in a flurry of orange and pink hues as the magician and his three pupils set out for the Magma Mountains. On their way to the magical peaks, they were joined by a talking parrot called Paki – a friend the old magician had made along his travels. \\n\\nThroughout their journey, Paki shared numerous stories of what was waiting for them at the Magma Mountains and taught the friends many valuable lessons about friendship, braveness and courage. \\n\\nFinally, after days and nights of traveling, the four of them reached the magical peaks. In awe, they saw that the mountains were surrounded by a beautiful wreath of white mist. Singing birds, twittering butterflies and lush greenery filled every corner of the magical land, and as they went further up the peaks, they saw that every tree and rock was made of solid gold! \\n\\nThe old Magician sat down on a golden boulder and watched as his pupils explored the mysterious land. A cooing dove flew down from one of the trees and handed them a magical medallion. The old Magician saw the look of wonder in the eyes of his young friends and told them it would take them to the heart of the Magma Mountains.\\n\\nThe old Magician bid them goodbye saying he had taught them all he could and that the rest of their adventure was up to them. Taking the magical medallion in hand, the three brave friends stepped forward into the heart of the mountain. \\n\\nUpon entering the magical peak, they stumbled upon a vast dragon\"\n",
      "    }\n",
      "  ],\n",
      "  \"created\": 1701091064,\n",
      "  \"model\": \"text-davinci-003\",\n",
      "  \"object\": \"text_completion\",\n",
      "  \"system_fingerprint\": null,\n",
      "  \"usage\": {\n",
      "    \"completion_tokens\": 500,\n",
      "    \"prompt_tokens\": 44,\n",
      "    \"total_tokens\": 544\n",
      "  },\n",
      "  \"warning\": \"This model version is deprecated. Migrate before January 4, 2024 to avoid disruption of service. Learn more https://platform.openai.com/docs/deprecations\"\n",
      "}\n"
     ]
    }
   ],
   "source": [
    "response = instruction_prompt()\n",
    "print(response.model_dump_json(indent=2))"
   ]
  },
  {
   "cell_type": "code",
   "execution_count": 12,
   "id": "d46bbb3d",
   "metadata": {},
   "outputs": [
    {
     "name": "stdout",
     "output_type": "stream",
     "text": [
      "{\n",
      "  \"id\": \"cmpl-8PVmiuGFffsDJxbmEF083TzGobWpI\",\n",
      "  \"choices\": [\n",
      "    {\n",
      "      \"finish_reason\": \"stop\",\n",
      "      \"index\": 0,\n",
      "      \"logprobs\": null,\n",
      "      \"text\": \"\\n                     \\ndef factorial(n): \\n    \\\"\\\"\\\" \\n    Function to compute factorial of n \\n  \\n    Parameters: \\n    n (int): Integer whose factorial needs to be computed \\n  \\n    Returns: \\n    fact (int): Computed factorial \\n    \\\"\\\"\\\"\\n  \\n    # edge case: if n is negative return None\\n    if n<0:\\n        return None\\n  \\n    # edge case: if n is 0, return 1\\n    if n==0:\\n        return 1\\n  \\n    # calculate the factorial\\n    fact =1\\n    for x in range(1,n+1):\\n        fact *= x\\n    \\n    # return the calculated factorial\\n    return fact\"\n",
      "    }\n",
      "  ],\n",
      "  \"created\": 1701091072,\n",
      "  \"model\": \"text-davinci-003\",\n",
      "  \"object\": \"text_completion\",\n",
      "  \"system_fingerprint\": null,\n",
      "  \"usage\": {\n",
      "    \"completion_tokens\": 165,\n",
      "    \"prompt_tokens\": 74,\n",
      "    \"total_tokens\": 239\n",
      "  },\n",
      "  \"warning\": \"This model version is deprecated. Migrate before January 4, 2024 to avoid disruption of service. Learn more https://platform.openai.com/docs/deprecations\"\n",
      "}\n"
     ]
    }
   ],
   "source": [
    "response = instruction_prompt(1)\n",
    "print(response.model_dump_json(indent=2))"
   ]
  },
  {
   "cell_type": "code",
   "execution_count": 13,
   "id": "a9fefb97",
   "metadata": {},
   "outputs": [],
   "source": [
    "def factorial(n):\n",
    "    \"\"\"\n",
    "    Calculates the factorial value of an integer n.\n",
    "    \n",
    "    Parameters: \n",
    "    n (int): Input integer. \n",
    "    \n",
    "    Returns: \n",
    "    result (int): Factorial value for input integer.\n",
    "    \"\"\"\n",
    "    #Edge Cases\n",
    "    if n < 0:\n",
    "        return False\n",
    "        # If input is negative, then return false\n",
    "    elif n == 0:\n",
    "        return 1\n",
    "        # If input is zero, then return 1 \n",
    "    else:\n",
    "        result = 1\n",
    "        # Set result equal to 1\n",
    "        # Loop through each element of range, start at 1 and go until n\n",
    "        for i in range(1, n + 1):\n",
    "            result *= i\n",
    "            # Multiply result by i until i is equal to n\n",
    "            \n",
    "        return result\n",
    "        # Return result"
   ]
  },
  {
   "cell_type": "code",
   "execution_count": 14,
   "id": "867fa4f2",
   "metadata": {},
   "outputs": [
    {
     "name": "stdout",
     "output_type": "stream",
     "text": [
      "3628800\n"
     ]
    }
   ],
   "source": [
    "factorial = factorial(10)\n",
    "print(factorial)"
   ]
  },
  {
   "cell_type": "code",
   "execution_count": 15,
   "id": "9334580d",
   "metadata": {},
   "outputs": [
    {
     "name": "stdout",
     "output_type": "stream",
     "text": [
      "{\n",
      "  \"id\": \"cmpl-8PVmmkctbA6QovFoQBZvsPriTNqH3\",\n",
      "  \"choices\": [\n",
      "    {\n",
      "      \"finish_reason\": \"length\",\n",
      "      \"index\": 0,\n",
      "      \"logprobs\": null,\n",
      "      \"text\": \".\\n\\nAPI Endpoints: \\n\\nUser Accounts Endpoint \\n\\n• Create a new user account: POST /account \\nRequest: \\n{ \\n    \\\"username\\\": \\\"<username>\\\", \\n    \\\"password\\\": \\\"<password>\\\" \\n    \\\"email\\\": \\\"<email address>\\\" \\n }\\n Response: \\n Status: 201 Created \\n { \\n    \\\"id\\\": \\\"<user id>\\\", \\n    \\\"username\\\": \\\"<username>\\\" \\n }\\n\\n• Get an existing user account: GET /accounts/<user id> \\nResponse: \\nStatus: 200 OK \\n{ \\n    \\\"id\\\": \\\"<user id>\\\", \\n    \\\"username\\\": \\\"<username>\\\", \\n    \\\"email\\\": \\\"<email address>\\\" \\n} \\n\\n• Update an existing user account: PUT /accounts/<user id> \\nRequest: \\n{\\n   \\\"password\\\": \\\"<new password>\\\" \\n}\\nResponse: \\nStatus: 200 OK \\n{ \\n    \\\"id\\\": \\\"<user id>\\\", \\n    \\\"username\\\": \\\"<username>\\\", \\n    \\\"email\\\": \\\"<email address>\\\" \\n} \\n\\n• Delete an existing user account: DELETE /accounts/<user id> \\nResponse: \\nStatus: 204 No Content\\n\\nBlog Post Endpoint \\n\\n• Create a new blog post: POST /posts \\nRequest: \\n{ \\n    \\\"title\\\": \\\"<title>\\\", \\n    \\\"content\\\": \\\"<content>\\\", \\n    \\\"author\\\": \\\"<user id>\\\" \\n } \\nResponse: \\nStatus: 201 Created \\n{ \\n    \\\"id\\\": \\\"<post id>\\\", \\n    \\\"title\\\": \\\"<title>\\\", \\n    \\\"content\\\": \\\"<content>\\\", \\n    \\\"author\\\": \\\"<user id>\\\" \\n} \\n\\n• Get an existing blog post: GET /posts/<post id> \\nResponse: \\nStatus: 200 OK \\n  { \\n    \\\"id\\\": \\\"<post id>\\\", \\n    \\\"title\\\": \\\"<title>\\\", \\n    \\\"content\\\": \\\"<content>\\\", \\n    \\\"author\\\": \\\"<user id>\\\" \\n  }\\n  \\n• Update an existing blog post: PUT /posts/<post id> \\nRequest: \"\n",
      "    }\n",
      "  ],\n",
      "  \"created\": 1701091076,\n",
      "  \"model\": \"text-davinci-003\",\n",
      "  \"object\": \"text_completion\",\n",
      "  \"system_fingerprint\": null,\n",
      "  \"usage\": {\n",
      "    \"completion_tokens\": 500,\n",
      "    \"prompt_tokens\": 81,\n",
      "    \"total_tokens\": 581\n",
      "  },\n",
      "  \"warning\": \"This model version is deprecated. Migrate before January 4, 2024 to avoid disruption of service. Learn more https://platform.openai.com/docs/deprecations\"\n",
      "}\n"
     ]
    }
   ],
   "source": [
    "response = instruction_prompt(2)\n",
    "print(response.model_dump_json(indent=2))"
   ]
  }
 ],
 "metadata": {
  "kernelspec": {
   "display_name": "Python 3 (ipykernel)",
   "language": "python",
   "name": "python3"
  },
  "language_info": {
   "codemirror_mode": {
    "name": "ipython",
    "version": 3
   },
   "file_extension": ".py",
   "mimetype": "text/x-python",
   "name": "python",
   "nbconvert_exporter": "python",
   "pygments_lexer": "ipython3",
   "version": "3.8.9"
  }
 },
 "nbformat": 4,
 "nbformat_minor": 5
}
