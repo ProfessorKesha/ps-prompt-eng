{
 "cells": [
  {
   "cell_type": "markdown",
   "id": "432ba143",
   "metadata": {},
   "source": [
    "# Prompt Engineering for Improved Performance\n",
    "\n",
    "## Module 4: Optimize Prompts for Specific Use Cases\n",
    "### Summarizing and Expanding Text"
   ]
  },
  {
   "cell_type": "markdown",
   "id": "b4caffe1",
   "metadata": {},
   "source": [
    "#### Install the necessary libraries"
   ]
  },
  {
   "cell_type": "code",
   "execution_count": null,
   "id": "509b1e08",
   "metadata": {},
   "outputs": [],
   "source": [
    "pip install openai"
   ]
  },
  {
   "cell_type": "code",
   "execution_count": null,
   "id": "fc97f3ef",
   "metadata": {},
   "outputs": [],
   "source": [
    "pip install openai[datalib]"
   ]
  },
  {
   "cell_type": "code",
   "execution_count": null,
   "id": "5584c760",
   "metadata": {},
   "outputs": [],
   "source": [
    "pip install urllib3==1.26.6 "
   ]
  },
  {
   "cell_type": "code",
   "execution_count": null,
   "id": "f1621606",
   "metadata": {},
   "outputs": [],
   "source": [
    "pip install python-dotenv"
   ]
  },
  {
   "cell_type": "markdown",
   "id": "9e6cc16f",
   "metadata": {},
   "source": [
    "### Import the libraries and enviornment file to gain access to the Open API Key\n",
    "#### The key can be generated here: https://platform.openai.com/account/api-keys"
   ]
  },
  {
   "cell_type": "code",
   "execution_count": 7,
   "id": "fd8d1ec2",
   "metadata": {},
   "outputs": [],
   "source": [
    "import os\n",
    "from openai import OpenAI\n",
    "\n",
    "from dotenv import load_dotenv, find_dotenv\n",
    "_ = load_dotenv(find_dotenv()) # read local .env file"
   ]
  },
  {
   "cell_type": "markdown",
   "id": "9d3964d6",
   "metadata": {},
   "source": [
    "### Authenticate to the API using the API Key\n",
    "#### Pull from environment variables or use openai.api_key = (\"your_key_here\") to hardcode the key"
   ]
  },
  {
   "cell_type": "code",
   "execution_count": 8,
   "id": "0af16d2f",
   "metadata": {},
   "outputs": [],
   "source": [
    "client = OpenAI(\n",
    "  api_key=os.environ['OPENAI_API_KEY']  \n",
    ")"
   ]
  },
  {
   "cell_type": "code",
   "execution_count": 9,
   "id": "116a4cc1",
   "metadata": {},
   "outputs": [],
   "source": [
    "def get_completion_from_messages(messages):\n",
    "    try:\n",
    "        response = client.chat.completions.create(\n",
    "            model=\"gpt-3.5-turbo\",\n",
    "            messages=messages\n",
    "        )\n",
    "        \n",
    "        return response\n",
    "    except openai.APIError as e:\n",
    "        print(e.http_status)\n",
    "        print(e.error)\n",
    "        return e.error    "
   ]
  },
  {
   "cell_type": "code",
   "execution_count": 10,
   "id": "790747cf",
   "metadata": {},
   "outputs": [],
   "source": [
    "def summarize(content_to_summarize, criteria):\n",
    "    \n",
    "    messages =  [  \n",
    "        {'role':'system', \n",
    "                 'content': ''' You are an AI assistant that is an expert at summarizing the content found \n",
    "                             on websites. Your goal is to summarize a website based on the given criteria.'''},    \n",
    "        {'role':'user', \n",
    "                 'content': 'Your content to summarize is: ' + \n",
    "                             content_to_summarize + \n",
    "                            ' Here is the criteria: ' + \n",
    "                             criteria},  \n",
    "    ] \n",
    "    \n",
    "    return get_completion_from_messages(messages) "
   ]
  },
  {
   "cell_type": "code",
   "execution_count": 11,
   "id": "08406b82",
   "metadata": {},
   "outputs": [],
   "source": [
    "def expand(content_to_expand):\n",
    "    messages =  [  \n",
    "        {'role':'system', \n",
    "                 'content': ''' As a customer service AI assistant, your goal is generate an email reply \n",
    "                             to a customer after reading their review of The Oregon Trail game. Thank the \n",
    "                             customer if their review is positive. Apologize if the review is negative. Be \n",
    "                             concise and professional in your response. '''},    \n",
    "        {'role':'user', \n",
    "                 'content': content_to_expand},  \n",
    "    ] \n",
    "    \n",
    "    return get_completion_from_messages(messages) "
   ]
  },
  {
   "cell_type": "markdown",
   "id": "4db753a2",
   "metadata": {},
   "source": [
    "## Summarize website for a student"
   ]
  },
  {
   "cell_type": "code",
   "execution_count": 12,
   "id": "863b450c",
   "metadata": {},
   "outputs": [
    {
     "name": "stdout",
     "output_type": "stream",
     "text": [
      "{\n",
      "  \"id\": \"chatcmpl-8PviYGIW2fg3jWS24m95B4SPmhLWt\",\n",
      "  \"choices\": [\n",
      "    {\n",
      "      \"finish_reason\": \"stop\",\n",
      "      \"index\": 0,\n",
      "      \"message\": {\n",
      "        \"content\": \"The website \\\"pluralsight.com\\\" offers a variety of resources and tools specifically designed for students looking to enhance their skills. Pluralsight provides an extensive library of online courses, tutorials, and learning paths in various fields, including technology, software development, design, and business. Students can access valuable content created by industry experts and experienced instructors, helping them acquire new knowledge and improve their skillset. Pluralsight's platform also offers hands-on practice opportunities and assessments, allowing students to apply what they've learned and gauge their progress. With its student-centric approach, Pluralsight aims to empower individuals to develop and master the skills required to succeed in their academic studies and future careers.\",\n",
      "        \"role\": \"assistant\",\n",
      "        \"function_call\": null,\n",
      "        \"tool_calls\": null\n",
      "      }\n",
      "    }\n",
      "  ],\n",
      "  \"created\": 1701190758,\n",
      "  \"model\": \"gpt-3.5-turbo-0613\",\n",
      "  \"object\": \"chat.completion\",\n",
      "  \"system_fingerprint\": null,\n",
      "  \"usage\": {\n",
      "    \"completion_tokens\": 141,\n",
      "    \"prompt_tokens\": 72,\n",
      "    \"total_tokens\": 213\n",
      "  }\n",
      "}\n"
     ]
    }
   ],
   "source": [
    "response = summarize(\"https://www.pluralsight.com/product/skills\", \"Summarize for a student\")\n",
    "print(response.model_dump_json(indent=2))"
   ]
  },
  {
   "cell_type": "markdown",
   "id": "a3f9f010",
   "metadata": {},
   "source": [
    "## Summarize website for a software engineer"
   ]
  },
  {
   "cell_type": "code",
   "execution_count": 13,
   "id": "fc9d37cf",
   "metadata": {},
   "outputs": [
    {
     "name": "stdout",
     "output_type": "stream",
     "text": [
      "{\n",
      "  \"id\": \"chatcmpl-8Pvinpt0oJkLMzuxR2l6vhFBwO8jM\",\n",
      "  \"choices\": [\n",
      "    {\n",
      "      \"finish_reason\": \"stop\",\n",
      "      \"index\": 0,\n",
      "      \"message\": {\n",
      "        \"content\": \"The website, pluralsight.com, offers a product called Skills that is relevant for software engineers. Skills is a platform that provides a variety of online courses and learning paths to enhance and expand their software engineering expertise. The platform offers courses on a wide range of topics, including programming languages, software development methodologies, cloud computing, mobile app development, data science, and more. Software engineers can access these courses at their own pace and from the comfort of their own homes. By using Skills, software engineers can stay up-to-date with the latest technologies, learn new skills, and improve their existing programming knowledge.\",\n",
      "        \"role\": \"assistant\",\n",
      "        \"function_call\": null,\n",
      "        \"tool_calls\": null\n",
      "      }\n",
      "    }\n",
      "  ],\n",
      "  \"created\": 1701190773,\n",
      "  \"model\": \"gpt-3.5-turbo-0613\",\n",
      "  \"object\": \"chat.completion\",\n",
      "  \"system_fingerprint\": null,\n",
      "  \"usage\": {\n",
      "    \"completion_tokens\": 121,\n",
      "    \"prompt_tokens\": 72,\n",
      "    \"total_tokens\": 193\n",
      "  }\n",
      "}\n"
     ]
    }
   ],
   "source": [
    "response = summarize(\"https://www.pluralsight.com/product/skills\", \"Summarize for software engineer\")\n",
    "print(response.model_dump_json(indent=2))"
   ]
  },
  {
   "cell_type": "markdown",
   "id": "0c690d0b",
   "metadata": {},
   "source": [
    "## Summarize for a sales person"
   ]
  },
  {
   "cell_type": "code",
   "execution_count": 14,
   "id": "16748d1d",
   "metadata": {},
   "outputs": [
    {
     "name": "stdout",
     "output_type": "stream",
     "text": [
      "{\n",
      "  \"id\": \"chatcmpl-8Pvj0L90FOvSJrBloQiubGkgUrbG4\",\n",
      "  \"choices\": [\n",
      "    {\n",
      "      \"finish_reason\": \"stop\",\n",
      "      \"index\": 0,\n",
      "      \"message\": {\n",
      "        \"content\": \"Pluralsight is an online platform that provides skill development and training for professionals. It offers a vast range of courses and learning paths in various industries, such as software development, IT, data science, cybersecurity, and more. With a subscription to Pluralsight, salespersons can enhance their skills and stay up-to-date with the latest trends and technologies in their field.\\n\\nThe platform offers interactive and engaging content, including video tutorials, assessments, and hands-on exercises. Salespeople can learn at their own pace and access the courses from anywhere at any time. Pluralsight also provides personalized recommendations to help sales professionals focus on the most relevant and beneficial content for their career growth.\\n\\nWith a Pluralsight subscription, salespersons can gain practical knowledge and expertise in areas like sales techniques, customer relationship management, negotiation skills, and communication strategies. The comprehensive learning experience empowers salespeople to excel in their roles and drive business success.\\n\\nIn addition to individual learning, Pluralsight offers team and enterprise plans, allowing sales organizations to train their entire workforce efficiently. The platform also provides analytics and reporting features that enable sales managers to track their team's progress and measure the impact of the training.\\n\\nOverall, Pluralsight is an invaluable resource for salespersons seeking to expand their knowledge, improve their skills, and achieve greater success in their careers.\",\n",
      "        \"role\": \"assistant\",\n",
      "        \"function_call\": null,\n",
      "        \"tool_calls\": null\n",
      "      }\n",
      "    }\n",
      "  ],\n",
      "  \"created\": 1701190786,\n",
      "  \"model\": \"gpt-3.5-turbo-0613\",\n",
      "  \"object\": \"chat.completion\",\n",
      "  \"system_fingerprint\": null,\n",
      "  \"usage\": {\n",
      "    \"completion_tokens\": 272,\n",
      "    \"prompt_tokens\": 73,\n",
      "    \"total_tokens\": 345\n",
      "  }\n",
      "}\n"
     ]
    }
   ],
   "source": [
    "response = summarize(\"https://www.pluralsight.com/product/skills\", \"Summarize for a sales person\")\n",
    "print(response.model_dump_json(indent=2))"
   ]
  },
  {
   "cell_type": "markdown",
   "id": "293c3003",
   "metadata": {},
   "source": [
    "## Summarize website with a sentence limit"
   ]
  },
  {
   "cell_type": "code",
   "execution_count": 15,
   "id": "9478d5ce",
   "metadata": {},
   "outputs": [
    {
     "name": "stdout",
     "output_type": "stream",
     "text": [
      "{\n",
      "  \"id\": \"chatcmpl-8PvjIH1BSPsR3R4TVdvqv70cYNKlg\",\n",
      "  \"choices\": [\n",
      "    {\n",
      "      \"finish_reason\": \"stop\",\n",
      "      \"index\": 0,\n",
      "      \"message\": {\n",
      "        \"content\": \"Pluralsight Skills is a platform that provides online training courses and assessments for individuals and businesses to develop their skills in technology and creative fields.\",\n",
      "        \"role\": \"assistant\",\n",
      "        \"function_call\": null,\n",
      "        \"tool_calls\": null\n",
      "      }\n",
      "    }\n",
      "  ],\n",
      "  \"created\": 1701190804,\n",
      "  \"model\": \"gpt-3.5-turbo-0613\",\n",
      "  \"object\": \"chat.completion\",\n",
      "  \"system_fingerprint\": null,\n",
      "  \"usage\": {\n",
      "    \"completion_tokens\": 29,\n",
      "    \"prompt_tokens\": 72,\n",
      "    \"total_tokens\": 101\n",
      "  }\n",
      "}\n"
     ]
    }
   ],
   "source": [
    "response = summarize(\"https://www.pluralsight.com/product/skills\", \"Summarize in one sentence\")\n",
    "print(response.model_dump_json(indent=2))"
   ]
  },
  {
   "cell_type": "markdown",
   "id": "8cd988d8",
   "metadata": {},
   "source": [
    "## Summarize with a focus on costs"
   ]
  },
  {
   "cell_type": "code",
   "execution_count": 16,
   "id": "bec3da61",
   "metadata": {},
   "outputs": [
    {
     "name": "stdout",
     "output_type": "stream",
     "text": [
      "{\n",
      "  \"id\": \"chatcmpl-8PvjLm9Ymj2We2ODrOOlx0X3AUGaO\",\n",
      "  \"choices\": [\n",
      "    {\n",
      "      \"finish_reason\": \"stop\",\n",
      "      \"index\": 0,\n",
      "      \"message\": {\n",
      "        \"content\": \"Pluralsight is an online learning platform that provides access to a wide range of courses and learning paths to enhance skills and expertise in various fields. When it comes to costs, Pluralsight offers subscription plans that are priced based on the number of features and benefits they provide. The plans include personal, professional, and enterprise subscriptions. Personal plans are geared towards individual learners and come in monthly and annual options. The professional and enterprise plans cater to businesses and offer additional features such as enhanced analytics and team management capabilities. The pricing for these plans is available by request. Pluralsight also provides a 10-day free trial to give potential subscribers a taste of the platform's offerings before committing to a paid subscription.\",\n",
      "        \"role\": \"assistant\",\n",
      "        \"function_call\": null,\n",
      "        \"tool_calls\": null\n",
      "      }\n",
      "    }\n",
      "  ],\n",
      "  \"created\": 1701190807,\n",
      "  \"model\": \"gpt-3.5-turbo-0613\",\n",
      "  \"object\": \"chat.completion\",\n",
      "  \"system_fingerprint\": null,\n",
      "  \"usage\": {\n",
      "    \"completion_tokens\": 144,\n",
      "    \"prompt_tokens\": 74,\n",
      "    \"total_tokens\": 218\n",
      "  }\n",
      "}\n"
     ]
    }
   ],
   "source": [
    "response = summarize(\"https://www.pluralsight.com/product/skills\", \"Summarize with a focus on costs\")\n",
    "print(response.model_dump_json(indent=2))"
   ]
  },
  {
   "cell_type": "markdown",
   "id": "0dfe6600",
   "metadata": {},
   "source": [
    "## Summarize with a word limit."
   ]
  },
  {
   "cell_type": "code",
   "execution_count": 17,
   "id": "5425a150",
   "metadata": {},
   "outputs": [
    {
     "name": "stdout",
     "output_type": "stream",
     "text": [
      "{\n",
      "  \"id\": \"chatcmpl-8PvjXXYOscloAKQcvI5TO53sCYCeI\",\n",
      "  \"choices\": [\n",
      "    {\n",
      "      \"finish_reason\": \"stop\",\n",
      "      \"index\": 0,\n",
      "      \"message\": {\n",
      "        \"content\": \"Pluralsight is an online platform that offers skill development courses targeting individuals and businesses. They provide a wide variety of learning opportunities, from software development to cloud computing, helping individuals and teams enhance their skills and stay up-to-date with the latest technologies.\",\n",
      "        \"role\": \"assistant\",\n",
      "        \"function_call\": null,\n",
      "        \"tool_calls\": null\n",
      "      }\n",
      "    }\n",
      "  ],\n",
      "  \"created\": 1701190819,\n",
      "  \"model\": \"gpt-3.5-turbo-0613\",\n",
      "  \"object\": \"chat.completion\",\n",
      "  \"system_fingerprint\": null,\n",
      "  \"usage\": {\n",
      "    \"completion_tokens\": 51,\n",
      "    \"prompt_tokens\": 75,\n",
      "    \"total_tokens\": 126\n",
      "  }\n",
      "}\n"
     ]
    }
   ],
   "source": [
    "response = summarize(\"https://www.pluralsight.com/product/skills\", \"Summarize in 50 words or less\")\n",
    "print(response.model_dump_json(indent=2))"
   ]
  },
  {
   "cell_type": "markdown",
   "id": "62c279fa",
   "metadata": {},
   "source": [
    "## Summarize for a short tweet"
   ]
  },
  {
   "cell_type": "code",
   "execution_count": 18,
   "id": "2b3970cf",
   "metadata": {},
   "outputs": [
    {
     "name": "stdout",
     "output_type": "stream",
     "text": [
      "{\n",
      "  \"id\": \"chatcmpl-8PvjdIMXjBZ0D4zdgxFvQKMwCgr3b\",\n",
      "  \"choices\": [\n",
      "    {\n",
      "      \"finish_reason\": \"stop\",\n",
      "      \"index\": 0,\n",
      "      \"message\": {\n",
      "        \"content\": \"Pluralsight is a platform that offers online courses and skill development programs.\",\n",
      "        \"role\": \"assistant\",\n",
      "        \"function_call\": null,\n",
      "        \"tool_calls\": null\n",
      "      }\n",
      "    }\n",
      "  ],\n",
      "  \"created\": 1701190825,\n",
      "  \"model\": \"gpt-3.5-turbo-0613\",\n",
      "  \"object\": \"chat.completion\",\n",
      "  \"system_fingerprint\": null,\n",
      "  \"usage\": {\n",
      "    \"completion_tokens\": 16,\n",
      "    \"prompt_tokens\": 73,\n",
      "    \"total_tokens\": 89\n",
      "  }\n",
      "}\n"
     ]
    }
   ],
   "source": [
    "response = summarize(\"https://www.pluralsight.com/product/skills\", \"Summarize for a short tweet\")\n",
    "print(response.model_dump_json(indent=2))"
   ]
  },
  {
   "cell_type": "markdown",
   "id": "c26a123c",
   "metadata": {},
   "source": [
    "## Expanding Text"
   ]
  },
  {
   "cell_type": "code",
   "execution_count": 19,
   "id": "4605c1a3",
   "metadata": {},
   "outputs": [],
   "source": [
    "# Negative review for The Oregon Trail game\n",
    "neg_review = ''' I lost The Oregon Trail and it was a frustrating experience. The game's challenges \n",
    "                 felt insurmountable and the decisions seemed to lead to constant setbacks. \n",
    "                 Managing resources was a constant struggle, leaving me feeling helpless. \n",
    "                 The lack of clear instructions and overwhelming obstacles made the journey disheartening. \n",
    "                 The Oregon Trail left me disappointed and discouraged, with a sense of defeat rather than \n",
    "                 triumph. ''' \n",
    "\n",
    "# Positive review for The Oregon Trail game\n",
    "pos_review = ''' I conquered The Oregon Trail and emerged triumphant! The game's immersive challenges and \n",
    "              strategic choices made for an unforgettable adventure. From overcoming obstacles to managing \n",
    "              resources, every decision felt crucial. The satisfaction of reaching the destination was \n",
    "              unparalleled. The Oregon Trail is an absolute must-play for those seeking an epic journey of \n",
    "              victory and resilience.'''"
   ]
  },
  {
   "cell_type": "code",
   "execution_count": 20,
   "id": "4f4a94db",
   "metadata": {},
   "outputs": [
    {
     "name": "stdout",
     "output_type": "stream",
     "text": [
      "{\n",
      "  \"id\": \"chatcmpl-8PvjfDEx2EhRhoMhJDx9HRDmP9CrJ\",\n",
      "  \"choices\": [\n",
      "    {\n",
      "      \"finish_reason\": \"stop\",\n",
      "      \"index\": 0,\n",
      "      \"message\": {\n",
      "        \"content\": \"Dear Customer,\\n\\nThank you for taking the time to share your experience with The Oregon Trail. We apologize for the frustration and disappointment you encountered while playing the game. Your feedback is important to us, and we appreciate your honesty. We will take your comments into consideration as we continue to improve the game and provide a more enjoyable experience for all players.\\n\\nIf you require any assistance or have further concerns, please don't hesitate to reach out to our customer support team. We are here to help.\\n\\nThank you again for your feedback.\\n\\nBest regards,\\n[Your Name]\",\n",
      "        \"role\": \"assistant\",\n",
      "        \"function_call\": null,\n",
      "        \"tool_calls\": null\n",
      "      }\n",
      "    }\n",
      "  ],\n",
      "  \"created\": 1701190827,\n",
      "  \"model\": \"gpt-3.5-turbo-0613\",\n",
      "  \"object\": \"chat.completion\",\n",
      "  \"system_fingerprint\": null,\n",
      "  \"usage\": {\n",
      "    \"completion_tokens\": 112,\n",
      "    \"prompt_tokens\": 158,\n",
      "    \"total_tokens\": 270\n",
      "  }\n",
      "}\n"
     ]
    }
   ],
   "source": [
    "response = expand(neg_review)\n",
    "print(response.model_dump_json(indent=2))"
   ]
  },
  {
   "cell_type": "code",
   "execution_count": 21,
   "id": "742c792b",
   "metadata": {},
   "outputs": [
    {
     "name": "stdout",
     "output_type": "stream",
     "text": [
      "{\n",
      "  \"id\": \"chatcmpl-8PvjsF6nD2vWLVyZAo9HRMaevFM7h\",\n",
      "  \"choices\": [\n",
      "    {\n",
      "      \"finish_reason\": \"stop\",\n",
      "      \"index\": 0,\n",
      "      \"message\": {\n",
      "        \"content\": \"Dear [Customer],\\n\\nThank you for taking the time to share your positive review of The Oregon Trail game. We are delighted to hear that you enjoyed the immersive challenges and strategic choices that made the game an unforgettable adventure. It is great to know that every decision felt crucial and that reaching the destination brought you unparalleled satisfaction. Your feedback is highly appreciated, and we hope you continue to have epic journeys of victory and resilience.\\n\\nBest regards,\\n[Your Name]\",\n",
      "        \"role\": \"assistant\",\n",
      "        \"function_call\": null,\n",
      "        \"tool_calls\": null\n",
      "      }\n",
      "    }\n",
      "  ],\n",
      "  \"created\": 1701190840,\n",
      "  \"model\": \"gpt-3.5-turbo-0613\",\n",
      "  \"object\": \"chat.completion\",\n",
      "  \"system_fingerprint\": null,\n",
      "  \"usage\": {\n",
      "    \"completion_tokens\": 90,\n",
      "    \"prompt_tokens\": 143,\n",
      "    \"total_tokens\": 233\n",
      "  }\n",
      "}\n"
     ]
    }
   ],
   "source": [
    "response = expand(pos_review)\n",
    "print(response.model_dump_json(indent=2))"
   ]
  },
  {
   "cell_type": "markdown",
   "id": "2c7b04b1",
   "metadata": {},
   "source": [
    "## Hands-on Challenge  - You try it out! \n",
    "### Summarize book reviews for a specific audience with word-limit constraints."
   ]
  },
  {
   "cell_type": "code",
   "execution_count": 22,
   "id": "f966657f",
   "metadata": {},
   "outputs": [],
   "source": [
    "book_review1 = ''' \"Becoming\" by Michelle Obama is a captivating and inspiring memoir that everyone \n",
    "                   should read. Her authenticity and powerful storytelling will resonate deeply. \n",
    "                   It's a remarkable journey of resilience and personal growth that leaves you feeling \n",
    "                   motivated and empowered. Don't miss the opportunity to be moved by her incredible story.'''\n",
    "\n",
    "book_review2 = ''' \"Becoming\" by Michelle Obama fell short of my expectations, lacking depth and offering \n",
    "                    a superficial glimpse into her life. The narrative felt self-indulgent and failed to \n",
    "                    delve into substantial issues. The book lacked the introspection and critical analysis \n",
    "                    I had hoped for. However, within its pages, there is still a glimmer of inspiration that\n",
    "                    might resonate with some readers.'''"
   ]
  }
 ],
 "metadata": {
  "kernelspec": {
   "display_name": "Python 3 (ipykernel)",
   "language": "python",
   "name": "python3"
  },
  "language_info": {
   "codemirror_mode": {
    "name": "ipython",
    "version": 3
   },
   "file_extension": ".py",
   "mimetype": "text/x-python",
   "name": "python",
   "nbconvert_exporter": "python",
   "pygments_lexer": "ipython3",
   "version": "3.8.9"
  }
 },
 "nbformat": 4,
 "nbformat_minor": 5
}
