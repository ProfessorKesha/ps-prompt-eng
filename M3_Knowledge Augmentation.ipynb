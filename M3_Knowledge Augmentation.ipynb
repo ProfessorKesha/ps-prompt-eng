{
 "cells": [
  {
   "cell_type": "markdown",
   "id": "432ba143",
   "metadata": {},
   "source": [
    "# Prompt Engineering for Improved Performance\n",
    "\n",
    "## Module 3: Master Advanced Prompting Techniques\n",
    "### Knowledge Augmentation"
   ]
  },
  {
   "cell_type": "markdown",
   "id": "b4caffe1",
   "metadata": {},
   "source": [
    "#### Install the necessary libraries"
   ]
  },
  {
   "cell_type": "code",
   "execution_count": null,
   "id": "509b1e08",
   "metadata": {},
   "outputs": [],
   "source": [
    "pip install openai"
   ]
  },
  {
   "cell_type": "code",
   "execution_count": null,
   "id": "fc97f3ef",
   "metadata": {},
   "outputs": [],
   "source": [
    "pip install openai[datalib]"
   ]
  },
  {
   "cell_type": "code",
   "execution_count": null,
   "id": "5584c760",
   "metadata": {},
   "outputs": [],
   "source": [
    "pip install urllib3==1.26.6 "
   ]
  },
  {
   "cell_type": "code",
   "execution_count": null,
   "id": "f1621606",
   "metadata": {},
   "outputs": [],
   "source": [
    "pip install python-dotenv"
   ]
  },
  {
   "cell_type": "markdown",
   "id": "9e6cc16f",
   "metadata": {},
   "source": [
    "### Import the libraries and enviornment file to gain access to the Open API Key\n",
    "#### The key can be generated here: https://platform.openai.com/account/api-keys"
   ]
  },
  {
   "cell_type": "code",
   "execution_count": 1,
   "id": "fd8d1ec2",
   "metadata": {},
   "outputs": [],
   "source": [
    "import os\n",
    "from openai import OpenAI\n",
    "\n",
    "from dotenv import load_dotenv, find_dotenv\n",
    "_ = load_dotenv(find_dotenv()) # read local .env file"
   ]
  },
  {
   "cell_type": "markdown",
   "id": "9d3964d6",
   "metadata": {},
   "source": [
    "### Authenticate to the API using the API Key\n",
    "#### Pull from environment variables or use openai.api_key = (\"your_key_here\") to hardcode the key"
   ]
  },
  {
   "cell_type": "code",
   "execution_count": 2,
   "id": "0af16d2f",
   "metadata": {},
   "outputs": [],
   "source": [
    "client = OpenAI(\n",
    "  api_key=os.environ['OPENAI_API_KEY']  \n",
    ")"
   ]
  },
  {
   "cell_type": "code",
   "execution_count": 3,
   "id": "4ec6da2c",
   "metadata": {},
   "outputs": [],
   "source": [
    "def get_completion(prompt):\n",
    "    try:\n",
    "        response = client.chat.completions.create(\n",
    "            model=\"gpt-3.5-turbo\",\n",
    "            messages=[ {'role':'user', 'content':prompt}  ]     \n",
    "        )\n",
    "        \n",
    "        return response\n",
    "    except openai.APIError as e:\n",
    "        print(e.http_status)\n",
    "        print(e.error)\n",
    "        return e.error    "
   ]
  },
  {
   "cell_type": "code",
   "execution_count": 4,
   "id": "116a4cc1",
   "metadata": {},
   "outputs": [],
   "source": [
    "def get_completion_from_messages(messages):\n",
    "    try:\n",
    "        response = client.chat.completions.create(\n",
    "            model=\"gpt-3.5-turbo\",\n",
    "            messages=messages    \n",
    "        )\n",
    "        \n",
    "        return response\n",
    "    except openai.APIError as e:\n",
    "        print(e.http_status)\n",
    "        print(e.error)\n",
    "        return e.error    "
   ]
  },
  {
   "cell_type": "markdown",
   "id": "652168c4",
   "metadata": {},
   "source": [
    "## Example 1"
   ]
  },
  {
   "cell_type": "code",
   "execution_count": 5,
   "id": "5b7a06b7",
   "metadata": {},
   "outputs": [
    {
     "name": "stdout",
     "output_type": "stream",
     "text": [
      "{\n",
      "  \"id\": \"chatcmpl-8PuxQPTKUyaenUMkPHNh0QZkq8P1O\",\n",
      "  \"choices\": [\n",
      "    {\n",
      "      \"finish_reason\": \"stop\",\n",
      "      \"index\": 0,\n",
      "      \"message\": {\n",
      "        \"content\": \"I'm sorry, but as an AI language model, I don't have access to real-time flight information, including specific flight routes for Kesha Air or any other airline. To obtain accurate and up-to-date flight routes, it is recommended to visit the official website of the airline or use a reputable online flight search platform.\",\n",
      "        \"role\": \"assistant\",\n",
      "        \"function_call\": null,\n",
      "        \"tool_calls\": null\n",
      "      }\n",
      "    }\n",
      "  ],\n",
      "  \"created\": 1701187836,\n",
      "  \"model\": \"gpt-3.5-turbo-0613\",\n",
      "  \"object\": \"chat.completion\",\n",
      "  \"system_fingerprint\": null,\n",
      "  \"usage\": {\n",
      "    \"completion_tokens\": 65,\n",
      "    \"prompt_tokens\": 17,\n",
      "    \"total_tokens\": 82\n",
      "  }\n",
      "}\n"
     ]
    }
   ],
   "source": [
    "response = get_completion(\"Tell me the flight routes on Kesha Air.\")\n",
    "print(response.model_dump_json(indent=2))"
   ]
  },
  {
   "cell_type": "code",
   "execution_count": 6,
   "id": "e6a32a19",
   "metadata": {},
   "outputs": [],
   "source": [
    "system_message = \"\"\"\n",
    "You are an AI assistant that helps customers book flights on \n",
    "the Kesha Air airline. \n",
    "\n",
    "Follow these steps to answer the customer queries.\n",
    "\n",
    "Step 1: First decide whether the user is \\\n",
    "asking a question about a specific airline or flight route. \\\n",
    "\n",
    "Step 2: If the user is asking about \\\n",
    "specific flight routes, identify whether \\\n",
    "the flight routes are in the following list.\n",
    "\n",
    "All available Flight Routes:\n",
    "\n",
    "1. Airline: Kesha Air\n",
    "   Flight Route: ATL to MIA\n",
    "   Length: 2 hours\n",
    "   Seat Options: First, Business, Economy\n",
    "   Cost: $399.99\n",
    "\n",
    "2. Airline: Kesha Air\n",
    "   Flight Route: CHS to LGA\n",
    "   Length: 5 hours\n",
    "   Seat Options: First, Economy, Basic\n",
    "   Cost: $799.99\n",
    "   \n",
    "3. Airline: Kesha Air\n",
    "   Flight Route: LAX to MSY\n",
    "   Length: 3 hours\n",
    "   Seat Options: First, Business, Economy, Basic\n",
    "   Cost: $599.99\n",
    "   \n",
    "4. Airline: Pluralsight Air\n",
    "   Flight Route: MIA to SEA\n",
    "   Length: 4 hours\n",
    "   Seat Options: First, Business, Economy\n",
    "   Cost: $999.99\n",
    "   \n",
    "5. Airline: Kesha Air\n",
    "   Flight Route: AUS to ATL\n",
    "   Length: 2 hours\n",
    "   Seat Options: First, Business, Economy\n",
    "   Cost: $299.99\n",
    "\n",
    "Step 3: If the message contains flight routes \\\n",
    "in the list above, list any assumptions that the \\\n",
    "user is making in their \\\n",
    "message e.g. that Flight Route 5 is cheaper than \\\n",
    "Flight Route 1, or that Flight Route 5 only has First class seat options. \n",
    "\n",
    "Step 4: If the user made any assumptions, \\\n",
    "figure out whether the assumption is true based on your \\\n",
    "flight routes information. \n",
    "\n",
    "Step 5: First, politely correct the \\\n",
    "customer's incorrect assumptions if applicable. \\\n",
    "Only mention or reference flight routes in the list of \\\n",
    "5 available flight routes, as these are the only 5 \\\n",
    "flight routes available on Kesha Air. \\\n",
    "Answer the customer in a friendly tone.\n",
    "\n",
    "Use the following format:\n",
    "Step 1: <step 1 reasoning>\n",
    "Step 2: <step 2 reasoning>\n",
    "Step 3: <step 3 reasoning>\n",
    "Step 4: <step 4 reasoning>\n",
    "\n",
    "<hr>\n",
    "\n",
    "Response to user: <response to customer>\n",
    "\n",
    "\"\"\""
   ]
  },
  {
   "cell_type": "code",
   "execution_count": 7,
   "id": "d429c543",
   "metadata": {},
   "outputs": [
    {
     "name": "stdout",
     "output_type": "stream",
     "text": [
      "{\n",
      "  \"id\": \"chatcmpl-8PuxYl0jpU5EyaLuyujR5B0f3thdR\",\n",
      "  \"choices\": [\n",
      "    {\n",
      "      \"finish_reason\": \"stop\",\n",
      "      \"index\": 0,\n",
      "      \"message\": {\n",
      "        \"content\": \"Step 1: The user is asking about specific flight routes.\\nStep 2: The flight routes that include ATL are:\\n- ATL to MIA\\n- AUS to ATL\\nStep 3: The assumption made by the user is that these are the only flight routes available.\\nStep 4: The assumption is true based on the available flight routes information.\\n\\nResponse to user: We have two flight routes that include ATL: ATL to MIA and AUS to ATL. How can I assist you further with these routes?\",\n",
      "        \"role\": \"assistant\",\n",
      "        \"function_call\": null,\n",
      "        \"tool_calls\": null\n",
      "      }\n",
      "    }\n",
      "  ],\n",
      "  \"created\": 1701187844,\n",
      "  \"model\": \"gpt-3.5-turbo-0613\",\n",
      "  \"object\": \"chat.completion\",\n",
      "  \"system_fingerprint\": null,\n",
      "  \"usage\": {\n",
      "    \"completion_tokens\": 106,\n",
      "    \"prompt_tokens\": 515,\n",
      "    \"total_tokens\": 621\n",
      "  }\n",
      "}\n"
     ]
    }
   ],
   "source": [
    "messages =  [  \n",
    "{'role':'system', \n",
    " 'content': system_message},    \n",
    "{'role':'user', \n",
    " 'content': \"Which routes do you have that include ATL?\"},  \n",
    "] \n",
    "\n",
    "response = get_completion_from_messages(messages)\n",
    "print(response.model_dump_json(indent=2))"
   ]
  },
  {
   "cell_type": "code",
   "execution_count": 8,
   "id": "9b1e5278",
   "metadata": {},
   "outputs": [
    {
     "name": "stdout",
     "output_type": "stream",
     "text": [
      "{\n",
      "  \"id\": \"chatcmpl-8PuxlHyP5NA3fLJqs2Y8qHuiF6T1v\",\n",
      "  \"choices\": [\n",
      "    {\n",
      "      \"finish_reason\": \"stop\",\n",
      "      \"index\": 0,\n",
      "      \"message\": {\n",
      "        \"content\": \"Step 1: We are determining if the user is asking about a specific airline or flight route.\\nStep 2: The user is asking about the price difference between two flight routes: ATL to MIA and AUS to ATL.\\nStep 3: The user assumes that ATL to MIA is cheaper than AUS to ATL.\\nStep 4: The user's assumption is incorrect as the actual cost for ATL to MIA is $399.99, while the actual cost for AUS to ATL is $299.99.\\n\\nResponse to user: The price difference between ATL to MIA and AUS to ATL is actually the opposite of what you assumed. The cost for ATL to MIA is $399.99, while the cost for AUS to ATL is $299.99. If you have any further questions or need assistance with booking, feel free to ask!\",\n",
      "        \"role\": \"assistant\",\n",
      "        \"function_call\": null,\n",
      "        \"tool_calls\": null\n",
      "      }\n",
      "    }\n",
      "  ],\n",
      "  \"created\": 1701187857,\n",
      "  \"model\": \"gpt-3.5-turbo-0613\",\n",
      "  \"object\": \"chat.completion\",\n",
      "  \"system_fingerprint\": null,\n",
      "  \"usage\": {\n",
      "    \"completion_tokens\": 177,\n",
      "    \"prompt_tokens\": 519,\n",
      "    \"total_tokens\": 696\n",
      "  }\n",
      "}\n"
     ]
    }
   ],
   "source": [
    "messages =  [  \n",
    "{'role':'system', \n",
    " 'content': system_message},    \n",
    "{'role':'user', \n",
    " 'content': \"Why is ATL to MIA cheaper than AUS to ATL?\"},  \n",
    "] \n",
    "\n",
    "response = get_completion_from_messages(messages)\n",
    "print(response.model_dump_json(indent=2))"
   ]
  },
  {
   "cell_type": "code",
   "execution_count": 9,
   "id": "176d0cd4",
   "metadata": {},
   "outputs": [
    {
     "name": "stdout",
     "output_type": "stream",
     "text": [
      "{\n",
      "  \"id\": \"chatcmpl-8PuxzQoLaNOX42EDgHE99j59DpY8K\",\n",
      "  \"choices\": [\n",
      "    {\n",
      "      \"finish_reason\": \"stop\",\n",
      "      \"index\": 0,\n",
      "      \"message\": {\n",
      "        \"content\": \"Step 1: The user is asking about a specific flight route.\\nStep 2: The flight route MIA to SEA is not available on Kesha Air.\\nStep 3: N/A\\nStep 4: N/A\\n\\nResponse to user: I'm sorry, but Kesha Air does not offer a flight route from MIA to SEA. We have other flight routes available, such as ATL to MIA, CHS to LGA, LAX to MSY, and AUS to ATL. Let me know if I can assist you with any of these options.\",\n",
      "        \"role\": \"assistant\",\n",
      "        \"function_call\": null,\n",
      "        \"tool_calls\": null\n",
      "      }\n",
      "    }\n",
      "  ],\n",
      "  \"created\": 1701187871,\n",
      "  \"model\": \"gpt-3.5-turbo-0613\",\n",
      "  \"object\": \"chat.completion\",\n",
      "  \"system_fingerprint\": null,\n",
      "  \"usage\": {\n",
      "    \"completion_tokens\": 117,\n",
      "    \"prompt_tokens\": 519,\n",
      "    \"total_tokens\": 636\n",
      "  }\n",
      "}\n"
     ]
    }
   ],
   "source": [
    "messages =  [  \n",
    "{'role':'system', \n",
    " 'content': system_message},    \n",
    "{'role':'user', \n",
    " 'content': \"Which seat options are avialble for MIA to SEA?\"},  \n",
    "] \n",
    "\n",
    "response = get_completion_from_messages(messages)\n",
    "print(response.model_dump_json(indent=2))"
   ]
  },
  {
   "cell_type": "code",
   "execution_count": 10,
   "id": "561397f0",
   "metadata": {},
   "outputs": [
    {
     "name": "stdout",
     "output_type": "stream",
     "text": [
      "{\n",
      "  \"id\": \"chatcmpl-8Puy8KWWo2smpJBl0VshxFj58pini\",\n",
      "  \"choices\": [\n",
      "    {\n",
      "      \"finish_reason\": \"stop\",\n",
      "      \"index\": 0,\n",
      "      \"message\": {\n",
      "        \"content\": \"Step 1: The user is asking about specific flight routes.\\nStep 2: The user is asking about Flight Route 1 and Flight Route 4, leaving from ATL.\\n\\nResponse to user: Thank you for your inquiry. Unfortunately, Flight Route 4, leaving from ATL, is not available on Kesha Air. We currently offer Flight Route 1, which is from ATL to MIA. It is a 2-hour flight with seat options of First, Business, and Economy. The cost is $399.99. Let me know if you have any other questions or if there's anything else I can assist you with.\",\n",
      "        \"role\": \"assistant\",\n",
      "        \"function_call\": null,\n",
      "        \"tool_calls\": null\n",
      "      }\n",
      "    }\n",
      "  ],\n",
      "  \"created\": 1701187880,\n",
      "  \"model\": \"gpt-3.5-turbo-0613\",\n",
      "  \"object\": \"chat.completion\",\n",
      "  \"system_fingerprint\": null,\n",
      "  \"usage\": {\n",
      "    \"completion_tokens\": 128,\n",
      "    \"prompt_tokens\": 523,\n",
      "    \"total_tokens\": 651\n",
      "  }\n",
      "}\n"
     ]
    }
   ],
   "source": [
    "messages =  [  \n",
    "{'role':'system', \n",
    " 'content': system_message},    \n",
    "{'role':'user', \n",
    " 'content': \"Do you recommend Flight Route 1. or Flight Route 4. leaving from ATL\"},  \n",
    "] \n",
    "\n",
    "response = get_completion_from_messages(messages)\n",
    "print(response.model_dump_json(indent=2))"
   ]
  },
  {
   "cell_type": "code",
   "execution_count": 11,
   "id": "9cf85246",
   "metadata": {},
   "outputs": [
    {
     "name": "stdout",
     "output_type": "stream",
     "text": [
      "{\n",
      "  \"id\": \"chatcmpl-8PuyIs2vISNabi26mNFpVrkajcK5J\",\n",
      "  \"choices\": [\n",
      "    {\n",
      "      \"finish_reason\": \"stop\",\n",
      "      \"index\": 0,\n",
      "      \"message\": {\n",
      "        \"content\": \"Step 1: The user is asking a question about a specific flight route.\\nStep 2: The flight route \\\"100\\\" is not in the list of available flight routes.\\nStep 3: N/A\\nStep 4: N/A\\n\\nResponse to user: I'm sorry, but I couldn't find any information about Flight Route 100. Could you please provide me with a valid flight route from the list of available flight routes?\",\n",
      "        \"role\": \"assistant\",\n",
      "        \"function_call\": null,\n",
      "        \"tool_calls\": null\n",
      "      }\n",
      "    }\n",
      "  ],\n",
      "  \"created\": 1701187890,\n",
      "  \"model\": \"gpt-3.5-turbo-0613\",\n",
      "  \"object\": \"chat.completion\",\n",
      "  \"system_fingerprint\": null,\n",
      "  \"usage\": {\n",
      "    \"completion_tokens\": 89,\n",
      "    \"prompt_tokens\": 514,\n",
      "    \"total_tokens\": 603\n",
      "  }\n",
      "}\n"
     ]
    }
   ],
   "source": [
    "messages =  [  \n",
    "{'role':'system', \n",
    " 'content': system_message},    \n",
    "{'role':'user', \n",
    " 'content': \"Do you recommend Flight Route 100.\"},  \n",
    "] \n",
    "\n",
    "response = get_completion_from_messages(messages)\n",
    "print(response.model_dump_json(indent=2))"
   ]
  },
  {
   "cell_type": "markdown",
   "id": "9be1035d",
   "metadata": {},
   "source": [
    "## Example 2"
   ]
  },
  {
   "cell_type": "code",
   "execution_count": 12,
   "id": "08792d77",
   "metadata": {},
   "outputs": [],
   "source": [
    "system_message = \"\"\"\n",
    "You are an AI assistant that helps customers with salary negotiation. \\\n",
    "\n",
    "You first greet the customer, then collect their desired salary and city where they currently live. \\\n",
    "\n",
    "You analyze the salary data to provide valid talking points to help the customer, \\\n",
    "negotiate their desired salary. \\\n",
    "\n",
    "You will also answer any other questions the customer has related to the salary data.\\\n",
    "\n",
    "Here is the salary data you will use to help the cusomter negotiate their salary. \\\n",
    "The first row is a column header and the following rows contain the salary data.\n",
    "\n",
    "Average Salary,Job Title,City\n",
    "225000,Software Engineering Manager,Atlanta\n",
    "175000,Software Engineer,Atlanta\n",
    "135000,Business Analyst,Atlanta\n",
    "60000,Web Developer,Atlanta\n",
    "125000,Data Scientist,Atlanta\n",
    "325000,Software Engineering Manager,New York City\n",
    "275000,Software Engineer,New York City\n",
    "235000,Business Analyst,New York City\n",
    "160000,Web Developer,New York City\n",
    "225000,Data Scientist,New York City\n",
    "425000,Software Engineering Manager,San Francisco\n",
    "375000,Software Engineer,San Francisco\n",
    "235000,Business Analyst,San Francisco\n",
    "260000,Web Developer,San Francisco\n",
    "325000,Data Scientist,San Francisco\n",
    "200000,Software Engineering Manager,Dallas\n",
    "150000,Software Engineer,Dallas\n",
    "115000,Business Analyst,Dallas\n",
    "45000,Web Developer,Dallas\n",
    "100000,Data Scientist,Dallas\n",
    "\"\"\""
   ]
  },
  {
   "cell_type": "code",
   "execution_count": 13,
   "id": "3a411f5c",
   "metadata": {},
   "outputs": [
    {
     "name": "stdout",
     "output_type": "stream",
     "text": [
      "{\n",
      "  \"id\": \"chatcmpl-8PuyPfICHM231swOYO0Qz3Fmu9DcU\",\n",
      "  \"choices\": [\n",
      "    {\n",
      "      \"finish_reason\": \"stop\",\n",
      "      \"index\": 0,\n",
      "      \"message\": {\n",
      "        \"content\": \"Hello! Nice to meet you. I see that your desired salary is $100,000 and you currently live in Atlanta. Allow me to analyze the salary data to provide you with some valid talking points to negotiate your desired salary.\",\n",
      "        \"role\": \"assistant\",\n",
      "        \"function_call\": null,\n",
      "        \"tool_calls\": null\n",
      "      }\n",
      "    }\n",
      "  ],\n",
      "  \"created\": 1701187897,\n",
      "  \"model\": \"gpt-3.5-turbo-0613\",\n",
      "  \"object\": \"chat.completion\",\n",
      "  \"system_fingerprint\": null,\n",
      "  \"usage\": {\n",
      "    \"completion_tokens\": 46,\n",
      "    \"prompt_tokens\": 316,\n",
      "    \"total_tokens\": 362\n",
      "  }\n",
      "}\n"
     ]
    }
   ],
   "source": [
    "messages =  [  \n",
    "{'role':'system', \n",
    " 'content': system_message},    \n",
    "{'role':'user', \n",
    " 'content': \"My desired salary is 100,000. I live in Atlanta.\"},  \n",
    "] \n",
    "\n",
    "response = get_completion_from_messages(messages)\n",
    "print(response.model_dump_json(indent=2))"
   ]
  },
  {
   "cell_type": "code",
   "execution_count": 14,
   "id": "e541b7f2",
   "metadata": {},
   "outputs": [
    {
     "name": "stdout",
     "output_type": "stream",
     "text": [
      "{\n",
      "  \"id\": \"chatcmpl-8PuyVtjp1GpOJkZ3YHpvwEGSWX1HL\",\n",
      "  \"choices\": [\n",
      "    {\n",
      "      \"finish_reason\": \"stop\",\n",
      "      \"index\": 0,\n",
      "      \"message\": {\n",
      "        \"content\": \"Thank you for sharing your desired salary. May I also know the city where you currently live?\",\n",
      "        \"role\": \"assistant\",\n",
      "        \"function_call\": null,\n",
      "        \"tool_calls\": null\n",
      "      }\n",
      "    }\n",
      "  ],\n",
      "  \"created\": 1701187903,\n",
      "  \"model\": \"gpt-3.5-turbo-0613\",\n",
      "  \"object\": \"chat.completion\",\n",
      "  \"system_fingerprint\": null,\n",
      "  \"usage\": {\n",
      "    \"completion_tokens\": 19,\n",
      "    \"prompt_tokens\": 311,\n",
      "    \"total_tokens\": 330\n",
      "  }\n",
      "}\n"
     ]
    }
   ],
   "source": [
    "messages =  [  \n",
    "{'role':'system', \n",
    " 'content': system_message},    \n",
    "{'role':'user', \n",
    " 'content': \"My desired salary is 100,000.\"},  \n",
    "] \n",
    "\n",
    "response = get_completion_from_messages(messages)\n",
    "print(response.model_dump_json(indent=2))"
   ]
  },
  {
   "cell_type": "markdown",
   "id": "2a48749b",
   "metadata": {},
   "source": [
    "## ^^ Hands-on Challenge: Turn this code into a chatbot that prompts the user for the response"
   ]
  },
  {
   "cell_type": "code",
   "execution_count": 15,
   "id": "cfcd27cf",
   "metadata": {},
   "outputs": [
    {
     "name": "stdout",
     "output_type": "stream",
     "text": [
      "{\n",
      "  \"id\": \"chatcmpl-8PuyZWVsr7olqh9SbTrEWqv4HE9vJ\",\n",
      "  \"choices\": [\n",
      "    {\n",
      "      \"finish_reason\": \"stop\",\n",
      "      \"index\": 0,\n",
      "      \"message\": {\n",
      "        \"content\": \"The average engineering salary in Atlanta is $225,000.\",\n",
      "        \"role\": \"assistant\",\n",
      "        \"function_call\": null,\n",
      "        \"tool_calls\": null\n",
      "      }\n",
      "    }\n",
      "  ],\n",
      "  \"created\": 1701187907,\n",
      "  \"model\": \"gpt-3.5-turbo-0613\",\n",
      "  \"object\": \"chat.completion\",\n",
      "  \"system_fingerprint\": null,\n",
      "  \"usage\": {\n",
      "    \"completion_tokens\": 12,\n",
      "    \"prompt_tokens\": 323,\n",
      "    \"total_tokens\": 335\n",
      "  }\n",
      "}\n"
     ]
    }
   ],
   "source": [
    "messages =  [  \n",
    "{'role':'system', \n",
    " 'content': system_message},    \n",
    "{'role':'user', \n",
    " 'content': \"My desired salary is 100,000. I live in Atlanta. What's the average engineering salary?\"},  \n",
    "] \n",
    "\n",
    "response = get_completion_from_messages(messages)\n",
    "print(response.model_dump_json(indent=2))"
   ]
  },
  {
   "cell_type": "code",
   "execution_count": 16,
   "id": "deb6ea97",
   "metadata": {},
   "outputs": [
    {
     "name": "stdout",
     "output_type": "stream",
     "text": [
      "{\n",
      "  \"id\": \"chatcmpl-8PuybQGht86IeGbGwg73Adid3Ine3\",\n",
      "  \"choices\": [\n",
      "    {\n",
      "      \"finish_reason\": \"stop\",\n",
      "      \"index\": 0,\n",
      "      \"message\": {\n",
      "        \"content\": \"Based on the current roles in Atlanta, we can forecast the roles that will be needed in the future. Please note that this forecast is based on the current data and may not reflect any specific changes or trends in the job market. \\n\\nBased on the salary data, the average salary for a Software Engineering Manager in Atlanta is $225,000, for a Software Engineer is $175,000, for a Business Analyst is $135,000, for a Web Developer is $60,000, and for a Data Scientist is $125,000.\\n\\nFrom this data, we can see that software engineering roles and data science roles are in high demand in Atlanta. As technology continues to evolve, the demand for software engineers and data scientists is expected to grow. This means that there may be increased job opportunities in these fields in the future.\\n\\nHowever, it's important to note that the job market can be influenced by various factors, such as economic conditions, industry trends, and technological advancements. It is always a good idea to stay updated on the latest trends and skills in your desired field to increase your chances of finding the right job opportunities and negotiating a higher salary.\",\n",
      "        \"role\": \"assistant\",\n",
      "        \"function_call\": null,\n",
      "        \"tool_calls\": null\n",
      "      }\n",
      "    }\n",
      "  ],\n",
      "  \"created\": 1701187909,\n",
      "  \"model\": \"gpt-3.5-turbo-0613\",\n",
      "  \"object\": \"chat.completion\",\n",
      "  \"system_fingerprint\": null,\n",
      "  \"usage\": {\n",
      "    \"completion_tokens\": 232,\n",
      "    \"prompt_tokens\": 330,\n",
      "    \"total_tokens\": 562\n",
      "  }\n",
      "}\n"
     ]
    }
   ],
   "source": [
    "messages =  [  \n",
    "{'role':'system', \n",
    " 'content': system_message},    \n",
    "{'role':'user', \n",
    " 'content': \"My desired salary is 100,000. I live in Atlanta. Can you forecast the roles that will be needed based on current roles?\"},  \n",
    "] \n",
    "\n",
    "response = get_completion_from_messages(messages)\n",
    "print(response.model_dump_json(indent=2))"
   ]
  },
  {
   "cell_type": "code",
   "execution_count": null,
   "id": "f986f409",
   "metadata": {},
   "outputs": [],
   "source": []
  }
 ],
 "metadata": {
  "kernelspec": {
   "display_name": "Python 3 (ipykernel)",
   "language": "python",
   "name": "python3"
  },
  "language_info": {
   "codemirror_mode": {
    "name": "ipython",
    "version": 3
   },
   "file_extension": ".py",
   "mimetype": "text/x-python",
   "name": "python",
   "nbconvert_exporter": "python",
   "pygments_lexer": "ipython3",
   "version": "3.8.9"
  }
 },
 "nbformat": 4,
 "nbformat_minor": 5
}
