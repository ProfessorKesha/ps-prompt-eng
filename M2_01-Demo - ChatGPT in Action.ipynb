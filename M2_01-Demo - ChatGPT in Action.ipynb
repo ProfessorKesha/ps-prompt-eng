{
 "cells": [
  {
   "cell_type": "markdown",
   "id": "432ba143",
   "metadata": {},
   "source": [
    "# Prompt Engineering for Improved Performance\n",
    "\n",
    "## Module 2: Prompting at a Glance\n",
    "### Demo: ChatGPT in Action"
   ]
  },
  {
   "cell_type": "markdown",
   "id": "b4caffe1",
   "metadata": {},
   "source": [
    "#### Install the necessary libraries"
   ]
  },
  {
   "cell_type": "code",
   "execution_count": null,
   "id": "509b1e08",
   "metadata": {},
   "outputs": [],
   "source": [
    "pip install openai"
   ]
  },
  {
   "cell_type": "code",
   "execution_count": null,
   "id": "fc97f3ef",
   "metadata": {},
   "outputs": [],
   "source": [
    "pip install openai[datalib]"
   ]
  },
  {
   "cell_type": "code",
   "execution_count": null,
   "id": "5584c760",
   "metadata": {},
   "outputs": [],
   "source": [
    "pip install urllib3==1.26.6 "
   ]
  },
  {
   "cell_type": "code",
   "execution_count": null,
   "id": "f1621606",
   "metadata": {},
   "outputs": [],
   "source": [
    "pip install python-dotenv"
   ]
  },
  {
   "cell_type": "markdown",
   "id": "9e6cc16f",
   "metadata": {},
   "source": [
    "### Import the libraries and enviornment file to gain access to the Open API Key\n",
    "#### The key can be generated here: https://platform.openai.com/account/api-keys"
   ]
  },
  {
   "cell_type": "code",
   "execution_count": 1,
   "id": "fd8d1ec2",
   "metadata": {},
   "outputs": [],
   "source": [
    "import os\n",
    "from openai import OpenAI\n",
    "\n",
    "from dotenv import load_dotenv, find_dotenv\n",
    "_ = load_dotenv(find_dotenv()) # read local .env file"
   ]
  },
  {
   "cell_type": "markdown",
   "id": "9d3964d6",
   "metadata": {},
   "source": [
    "### Authenticate to the API using the API Key\n",
    "#### Pull from environment variables or use openai.api_key = (\"your_key_here\") to hardcode the key"
   ]
  },
  {
   "cell_type": "code",
   "execution_count": 2,
   "id": "0af16d2f",
   "metadata": {},
   "outputs": [],
   "source": [
    "client = OpenAI(\n",
    "  api_key=os.environ['OPENAI_API_KEY']  \n",
    ")"
   ]
  },
  {
   "cell_type": "markdown",
   "id": "46c46ed5",
   "metadata": {},
   "source": [
    "### Prompt "
   ]
  },
  {
   "cell_type": "code",
   "execution_count": 3,
   "id": "077fbd09",
   "metadata": {},
   "outputs": [],
   "source": [
    "messages =  [  \n",
    "                    \n",
    "    {'role':'system', 'content':''' \n",
    "                            You are an AI assistant that generates personalized book recommendations based \n",
    "                            on user preferences. \n",
    "\n",
    "                            \n",
    "                            Examples:\n",
    "                            \n",
    "                            1. Input: User profile - Age: 25, \n",
    "                              Preferred genres: Fantasy, Mystery, Science Fiction, \n",
    "                              Favorite authors: J.K. Rowling, Agatha Christie.\n",
    "                              \n",
    "                               Output: Book recommendation - \"The Night Circus\" \n",
    "                               by Erin Morgenstern. It combines elements of fantasy and \n",
    "                               mystery, making it a captivating read. After finishing it, \n",
    "                               I recommend diving into \"The Girl with the Dragon Tattoo\" \n",
    "                               by Stieg Larsson for an intriguing crime thriller.\n",
    "                               \n",
    "                     \n",
    "                            2. Input:  User profile - Age: 40, Preferred genres: Historical Fiction, \n",
    "                               Biography, Classics, Favorite authors: Jane Austen, George Orwell.\n",
    "                              \n",
    "                               Output: Book recommendation - \"The Guernsey Literary and Potato Peel Pie Society\"\n",
    "                               by Mary Ann Shaffer and Annie Barrows. It beautifully captures the essence of \n",
    "                               historical fiction and explores human connections. As a follow-up, I suggest \n",
    "                               reading \"To Kill a Mockingbird\" by Harper Lee for a classic that delves \n",
    "                               into social issues.\n",
    "                               \n",
    "                            Constraints:\n",
    "                            \n",
    "                            Ensure the generated recommendations are within the user's preferred genres and \n",
    "                            align with their favorite authors. Do not recommend the books in the example. \n",
    "                            Also, maintain a friendly and engaging tone throughout the generated response.\n",
    "\n",
    "\n",
    "\n",
    "                        '''},    \n",
    "   {'role':'user', 'content':'User profile - Age: 12, Preferred genres: Science Fiction, \\\n",
    "                           Favorite authors: Madeleine L\\'Engle, Judy Blume'},  #Input Data\n",
    "    \n",
    "   {'role':'user', 'content':'Can you recommend 5 books for this user?'}  #Instruction\n",
    "]"
   ]
  },
  {
   "cell_type": "markdown",
   "id": "c5f48cff",
   "metadata": {},
   "source": [
    "### ChatGPT LLM"
   ]
  },
  {
   "cell_type": "code",
   "execution_count": 4,
   "id": "8be04dea",
   "metadata": {},
   "outputs": [],
   "source": [
    "response = client.chat.completions.create(\n",
    "            model=\"gpt-3.5-turbo\",\n",
    "            messages=messages)"
   ]
  },
  {
   "cell_type": "code",
   "execution_count": 5,
   "id": "2f883cf2",
   "metadata": {},
   "outputs": [
    {
     "name": "stdout",
     "output_type": "stream",
     "text": [
      "{\n",
      "  \"id\": \"chatcmpl-8PVh8tLeiieNdKeSnEqnmSjiORM5B\",\n",
      "  \"choices\": [\n",
      "    {\n",
      "      \"finish_reason\": \"stop\",\n",
      "      \"index\": 0,\n",
      "      \"message\": {\n",
      "        \"content\": \"Of course! Based on your profile, I have some great book recommendations for you. Here are five books that I think you'll enjoy:\\n\\n1. \\\"A Wrinkle in Time\\\" by Madeleine L'Engle: This classic science fiction novel follows the adventures of Meg Murry as she travels through time and space to rescue her father. It's a captivating story that will take you on an extraordinary journey.\\n\\n2. \\\"The Giver\\\" by Lois Lowry: This thought-provoking dystopian novel explores a world where everything is perfectly controlled. Follow Jonas as he discovers the dark secrets behind his seemingly utopian society.\\n\\n3. \\\"Ender's Game\\\" by Orson Scott Card: Join Ender Wiggin, a young genius, as he battles alien invaders in a futuristic world. This gripping science fiction novel is filled with action, strategy, and moral dilemmas.\\n\\n4. \\\"From the Mixed-Up Files of Mrs. Basil E. Frankweiler\\\" by E.L. Konigsburg: While not science fiction, this mystery novel is sure to captivate you. Follow Claudia and her brother as they run away from home and uncover the secrets of the Metropolitan Museum of Art.\\n\\n5. \\\"Bridge to Terabithia\\\" by Katherine Paterson: This heartwarming and bittersweet tale tells the story of friendship between Jess and Leslie as they create their own magical world, Terabithia. It's a powerful exploration of imagination and friendship.\\n\\nI hope you enjoy these recommendations! Happy reading!\",\n",
      "        \"role\": \"assistant\",\n",
      "        \"function_call\": null,\n",
      "        \"tool_calls\": null\n",
      "      }\n",
      "    }\n",
      "  ],\n",
      "  \"created\": 1701090726,\n",
      "  \"model\": \"gpt-3.5-turbo-0613\",\n",
      "  \"object\": \"chat.completion\",\n",
      "  \"system_fingerprint\": null,\n",
      "  \"usage\": {\n",
      "    \"completion_tokens\": 307,\n",
      "    \"prompt_tokens\": 354,\n",
      "    \"total_tokens\": 661\n",
      "  }\n",
      "}\n"
     ]
    }
   ],
   "source": [
    "print(response.model_dump_json(indent=2))"
   ]
  },
  {
   "cell_type": "code",
   "execution_count": null,
   "id": "505d33d6",
   "metadata": {},
   "outputs": [],
   "source": []
  }
 ],
 "metadata": {
  "kernelspec": {
   "display_name": "Python 3 (ipykernel)",
   "language": "python",
   "name": "python3"
  },
  "language_info": {
   "codemirror_mode": {
    "name": "ipython",
    "version": 3
   },
   "file_extension": ".py",
   "mimetype": "text/x-python",
   "name": "python",
   "nbconvert_exporter": "python",
   "pygments_lexer": "ipython3",
   "version": "3.8.9"
  }
 },
 "nbformat": 4,
 "nbformat_minor": 5
}
