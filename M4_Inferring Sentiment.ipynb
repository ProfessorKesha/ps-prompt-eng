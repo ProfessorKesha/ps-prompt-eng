{
 "cells": [
  {
   "cell_type": "markdown",
   "id": "432ba143",
   "metadata": {},
   "source": [
    "# Prompt Engineering for Improved Performance\n",
    "\n",
    "## Module 4: Optimize Prompts for Specific Use Cases\n",
    "### Inferring Sentiment"
   ]
  },
  {
   "cell_type": "markdown",
   "id": "b4caffe1",
   "metadata": {},
   "source": [
    "#### Install the necessary libraries"
   ]
  },
  {
   "cell_type": "code",
   "execution_count": null,
   "id": "509b1e08",
   "metadata": {},
   "outputs": [],
   "source": [
    "pip install openai"
   ]
  },
  {
   "cell_type": "code",
   "execution_count": null,
   "id": "fc97f3ef",
   "metadata": {},
   "outputs": [],
   "source": [
    "pip install openai[datalib]"
   ]
  },
  {
   "cell_type": "code",
   "execution_count": null,
   "id": "5584c760",
   "metadata": {},
   "outputs": [],
   "source": [
    "pip install urllib3==1.26.6 "
   ]
  },
  {
   "cell_type": "code",
   "execution_count": null,
   "id": "f1621606",
   "metadata": {},
   "outputs": [],
   "source": [
    "pip install python-dotenv"
   ]
  },
  {
   "cell_type": "markdown",
   "id": "9e6cc16f",
   "metadata": {},
   "source": [
    "### Import the libraries and enviornment file to gain access to the Open API Key\n",
    "#### The key can be generated here: https://platform.openai.com/account/api-keys"
   ]
  },
  {
   "cell_type": "code",
   "execution_count": 1,
   "id": "fd8d1ec2",
   "metadata": {},
   "outputs": [],
   "source": [
    "import os\n",
    "from openai import OpenAI\n",
    "\n",
    "from dotenv import load_dotenv, find_dotenv\n",
    "_ = load_dotenv(find_dotenv()) # read local .env file"
   ]
  },
  {
   "cell_type": "markdown",
   "id": "9d3964d6",
   "metadata": {},
   "source": [
    "### Authenticate to the API using the API Key\n",
    "#### Pull from environment variables or use openai.api_key = (\"your_key_here\") to hardcode the key"
   ]
  },
  {
   "cell_type": "code",
   "execution_count": 2,
   "id": "0af16d2f",
   "metadata": {},
   "outputs": [],
   "source": [
    "client = OpenAI(\n",
    "  api_key=os.environ['OPENAI_API_KEY']  \n",
    ")"
   ]
  },
  {
   "cell_type": "markdown",
   "id": "7497ba63",
   "metadata": {},
   "source": [
    "## Helper Function"
   ]
  },
  {
   "cell_type": "code",
   "execution_count": 3,
   "id": "6390bc15",
   "metadata": {},
   "outputs": [],
   "source": [
    "def get_completion(prompt):\n",
    "    try:\n",
    "        response = client.chat.completions.create(\n",
    "            model=\"gpt-3.5-turbo\",\n",
    "            messages=[ {'role':'user', 'content':prompt}  ]     \n",
    "        )\n",
    "        \n",
    "        return response\n",
    "    except openai.APIError as e:\n",
    "        print(e.http_status)\n",
    "        print(e.error)\n",
    "        return e.error   "
   ]
  },
  {
   "cell_type": "code",
   "execution_count": 4,
   "id": "7d209fc2",
   "metadata": {},
   "outputs": [],
   "source": [
    "text = ''' Artificial intelligence has revolutionized various industries, including \n",
    "           healthcare, finance, and transportation. Through advanced algorithms and \n",
    "           machine learning techniques, AI has enabled more accurate diagnoses, \n",
    "           personalized financial recommendations, and autonomous vehicles. However, \n",
    "           along with its benefits,there are concerns about privacy, ethical implications, \n",
    "           and job displacement. The integration of AI into society raises questions \n",
    "           about data security, algorithm biases, and the impact on \n",
    "           human labor. It is crucial to explore the potential of AI while addressing \n",
    "           these challenges to ensure a responsible and equitable AI-powered future.  '''"
   ]
  },
  {
   "cell_type": "markdown",
   "id": "fb63a621",
   "metadata": {},
   "source": [
    "## Infer Topics"
   ]
  },
  {
   "cell_type": "code",
   "execution_count": 5,
   "id": "38e67fa6",
   "metadata": {},
   "outputs": [
    {
     "name": "stdout",
     "output_type": "stream",
     "text": [
      "{\n",
      "  \"id\": \"chatcmpl-8PvX87xlzgRU6DnAfMaj8IZ6kLByN\",\n",
      "  \"choices\": [\n",
      "    {\n",
      "      \"finish_reason\": \"stop\",\n",
      "      \"index\": 0,\n",
      "      \"message\": {\n",
      "        \"content\": \"The topics being discussed in the text are: \\n1. The revolutionization of various industries by artificial intelligence.\\n2. The benefits of AI in healthcare, finance, and transportation.\\n3. Concerns about privacy, ethical implications, and job displacement.\\n4. Questions regarding data security, algorithm biases, and the impact on human labor.\\n5. The need to explore the potential of AI while addressing these challenges.\",\n",
      "        \"role\": \"assistant\",\n",
      "        \"function_call\": null,\n",
      "        \"tool_calls\": null\n",
      "      }\n",
      "    }\n",
      "  ],\n",
      "  \"created\": 1701190050,\n",
      "  \"model\": \"gpt-3.5-turbo-0613\",\n",
      "  \"object\": \"chat.completion\",\n",
      "  \"system_fingerprint\": null,\n",
      "  \"usage\": {\n",
      "    \"completion_tokens\": 82,\n",
      "    \"prompt_tokens\": 139,\n",
      "    \"total_tokens\": 221\n",
      "  }\n",
      "}\n"
     ]
    }
   ],
   "source": [
    "prompt = ''' What topics are being discussed in the following text: '''     \n",
    "    \n",
    "response = get_completion(prompt + text)\n",
    "print(response.model_dump_json(indent=2))"
   ]
  },
  {
   "cell_type": "code",
   "execution_count": 6,
   "id": "6880f27e",
   "metadata": {},
   "outputs": [
    {
     "name": "stdout",
     "output_type": "stream",
     "text": [
      "{\n",
      "  \"id\": \"chatcmpl-8PvXHd5S3gQskshM86mykhxu080WV\",\n",
      "  \"choices\": [\n",
      "    {\n",
      "      \"finish_reason\": \"stop\",\n",
      "      \"index\": 0,\n",
      "      \"message\": {\n",
      "        \"content\": \"{\\n  \\\"topics\\\": [\\n    \\\"Artificial\\\", \\n    \\\"intelligence\\\", \\n    \\\"revolutionized\\\", \\n    \\\"industries\\\", \\n    \\\"healthcare\\\", \\n    \\\"finance\\\"\\n  ]\\n}\",\n",
      "        \"role\": \"assistant\",\n",
      "        \"function_call\": null,\n",
      "        \"tool_calls\": null\n",
      "      }\n",
      "    }\n",
      "  ],\n",
      "  \"created\": 1701190059,\n",
      "  \"model\": \"gpt-3.5-turbo-0613\",\n",
      "  \"object\": \"chat.completion\",\n",
      "  \"system_fingerprint\": null,\n",
      "  \"usage\": {\n",
      "    \"completion_tokens\": 43,\n",
      "    \"prompt_tokens\": 165,\n",
      "    \"total_tokens\": 208\n",
      "  }\n",
      "}\n"
     ]
    }
   ],
   "source": [
    "prompt = ''' Determine six topics that are being discussed in the \n",
    "             provided text.\n",
    "\n",
    "             Make each topic one word. \n",
    "\n",
    "             Format your response in JSON.\n",
    "\n",
    "             The text sample is: \n",
    "         '''     \n",
    "    \n",
    "response = get_completion(prompt + text)\n",
    "print(response.model_dump_json(indent=2))"
   ]
  },
  {
   "cell_type": "markdown",
   "id": "e27ed7c9",
   "metadata": {},
   "source": [
    "## Infer Emotion"
   ]
  },
  {
   "cell_type": "code",
   "execution_count": 7,
   "id": "ac961beb",
   "metadata": {},
   "outputs": [
    {
     "name": "stdout",
     "output_type": "stream",
     "text": [
      "{\n",
      "  \"id\": \"chatcmpl-8PvXNDlSGVLRFIrd6Ps1TDKC74rDu\",\n",
      "  \"choices\": [\n",
      "    {\n",
      "      \"finish_reason\": \"stop\",\n",
      "      \"index\": 0,\n",
      "      \"message\": {\n",
      "        \"content\": \"excitement, fascination, optimism, concern\",\n",
      "        \"role\": \"assistant\",\n",
      "        \"function_call\": null,\n",
      "        \"tool_calls\": null\n",
      "      }\n",
      "    }\n",
      "  ],\n",
      "  \"created\": 1701190065,\n",
      "  \"model\": \"gpt-3.5-turbo-0613\",\n",
      "  \"object\": \"chat.completion\",\n",
      "  \"system_fingerprint\": null,\n",
      "  \"usage\": {\n",
      "    \"completion_tokens\": 9,\n",
      "    \"prompt_tokens\": 138,\n",
      "    \"total_tokens\": 147\n",
      "  }\n",
      "}\n"
     ]
    }
   ],
   "source": [
    "prompt = ''' Identify a list of emotions in this text: '''     \n",
    "    \n",
    "response = get_completion(prompt + text)\n",
    "print(response.model_dump_json(indent=2))"
   ]
  },
  {
   "cell_type": "code",
   "execution_count": 8,
   "id": "55fe1c70",
   "metadata": {},
   "outputs": [
    {
     "name": "stdout",
     "output_type": "stream",
     "text": [
      "{\n",
      "  \"id\": \"chatcmpl-8PvXOXRAAgtCRxfR5fJfXg35rHy9c\",\n",
      "  \"choices\": [\n",
      "    {\n",
      "      \"finish_reason\": \"stop\",\n",
      "      \"index\": 0,\n",
      "      \"message\": {\n",
      "        \"content\": \"anger|fear|frustration|skepticism|distrust|concern\",\n",
      "        \"role\": \"assistant\",\n",
      "        \"function_call\": null,\n",
      "        \"tool_calls\": null\n",
      "      }\n",
      "    }\n",
      "  ],\n",
      "  \"created\": 1701190066,\n",
      "  \"model\": \"gpt-3.5-turbo-0613\",\n",
      "  \"object\": \"chat.completion\",\n",
      "  \"system_fingerprint\": null,\n",
      "  \"usage\": {\n",
      "    \"completion_tokens\": 20,\n",
      "    \"prompt_tokens\": 183,\n",
      "    \"total_tokens\": 203\n",
      "  }\n",
      "}\n"
     ]
    }
   ],
   "source": [
    "prompt = ''' Identify a list of emotions that this text will invoke by a reader\n",
    "             that doesn't like artificial intelligence and the current advancements. \n",
    "             Determine no more than six emotions. Format your answer in a pipe delimited\n",
    "             list.\n",
    "             \n",
    "             The text sample is: \n",
    "         '''     \n",
    "    \n",
    "response = get_completion(prompt + text)\n",
    "print(response.model_dump_json(indent=2))"
   ]
  },
  {
   "cell_type": "markdown",
   "id": "cdd50c9d",
   "metadata": {},
   "source": [
    "## Infer Sentiment (Postivie, Negative, Neutral)"
   ]
  },
  {
   "cell_type": "code",
   "execution_count": 9,
   "id": "486550d6",
   "metadata": {},
   "outputs": [
    {
     "name": "stdout",
     "output_type": "stream",
     "text": [
      "{\n",
      "  \"id\": \"chatcmpl-8PvXRdxvwSWRwvEiT0VB9woDuP3Bn\",\n",
      "  \"choices\": [\n",
      "    {\n",
      "      \"finish_reason\": \"stop\",\n",
      "      \"index\": 0,\n",
      "      \"message\": {\n",
      "        \"content\": \"The sentiment of the text is mixed. While it acknowledges the benefits and potential of artificial intelligence, it also raises concerns about privacy, ethical implications, job displacement, data security, algorithm biases, and the impact on human labor.\",\n",
      "        \"role\": \"assistant\",\n",
      "        \"function_call\": null,\n",
      "        \"tool_calls\": null\n",
      "      }\n",
      "    }\n",
      "  ],\n",
      "  \"created\": 1701190069,\n",
      "  \"model\": \"gpt-3.5-turbo-0613\",\n",
      "  \"object\": \"chat.completion\",\n",
      "  \"system_fingerprint\": null,\n",
      "  \"usage\": {\n",
      "    \"completion_tokens\": 45,\n",
      "    \"prompt_tokens\": 138,\n",
      "    \"total_tokens\": 183\n",
      "  }\n",
      "}\n"
     ]
    }
   ],
   "source": [
    "prompt = ''' What is the sentiment of the following text: '''     \n",
    "    \n",
    "response = get_completion(prompt + text)\n",
    "print(response.model_dump_json(indent=2))"
   ]
  },
  {
   "cell_type": "code",
   "execution_count": 10,
   "id": "64cd4b42",
   "metadata": {},
   "outputs": [
    {
     "name": "stdout",
     "output_type": "stream",
     "text": [
      "{\n",
      "  \"id\": \"chatcmpl-8PvXXUnykx8ZGdh2DOnO0FCwRIUcW\",\n",
      "  \"choices\": [\n",
      "    {\n",
      "      \"finish_reason\": \"stop\",\n",
      "      \"index\": 0,\n",
      "      \"message\": {\n",
      "        \"content\": \"neutral\",\n",
      "        \"role\": \"assistant\",\n",
      "        \"function_call\": null,\n",
      "        \"tool_calls\": null\n",
      "      }\n",
      "    }\n",
      "  ],\n",
      "  \"created\": 1701190075,\n",
      "  \"model\": \"gpt-3.5-turbo-0613\",\n",
      "  \"object\": \"chat.completion\",\n",
      "  \"system_fingerprint\": null,\n",
      "  \"usage\": {\n",
      "    \"completion_tokens\": 1,\n",
      "    \"prompt_tokens\": 164,\n",
      "    \"total_tokens\": 165\n",
      "  }\n",
      "}\n"
     ]
    }
   ],
   "source": [
    "prompt = ''' What is the sentiment of the provided text.\n",
    "\n",
    "             Provide the answer in one word as either \"positive\", \"negative\", or \"neutral\"\n",
    "             \n",
    "             The text sample is:\n",
    "         '''     \n",
    "    \n",
    "response = get_completion(prompt + text)\n",
    "print(response.model_dump_json(indent=2))"
   ]
  },
  {
   "cell_type": "markdown",
   "id": "e06630a5",
   "metadata": {},
   "source": [
    "## Infer if a given topic exists in the text"
   ]
  },
  {
   "cell_type": "code",
   "execution_count": 11,
   "id": "141c2617",
   "metadata": {},
   "outputs": [],
   "source": [
    "topic_list2 = [\n",
    "    \"machine learning\", \"technology\", \"security\", \n",
    "    \"equity\", \"job replacement\"\n",
    "]"
   ]
  },
  {
   "cell_type": "code",
   "execution_count": 12,
   "id": "10226cb2",
   "metadata": {},
   "outputs": [],
   "source": [
    "topic_list1 = [\n",
    "    \"farming\", \"climate change\", \"weather\", \n",
    "    \"drought\", \"organic seeds\"\n",
    "]"
   ]
  },
  {
   "cell_type": "code",
   "execution_count": 13,
   "id": "2f86e9a3",
   "metadata": {},
   "outputs": [
    {
     "name": "stdout",
     "output_type": "stream",
     "text": [
      "{\n",
      "  \"id\": \"chatcmpl-8PvXYSlr4hPAEGgrs6Dd2P5umw639\",\n",
      "  \"choices\": [\n",
      "    {\n",
      "      \"finish_reason\": \"stop\",\n",
      "      \"index\": 0,\n",
      "      \"message\": {\n",
      "        \"content\": \"List of topics: farming, climate change, weather, drought, organic seeds\\n\\nText sample:  Artificial intelligence has revolutionized various industries, including \\nhealthcare, finance, and transportation. Through advanced algorithms and \\nmachine learning techniques, AI has enabled more accurate diagnoses, \\npersonalized financial recommendations, and autonomous vehicles. However, \\nalong with its benefits,there are concerns about privacy, ethical implications, \\nand job displacement. The integration of AI into society raises questions \\nabout data security, algorithm biases, and the impact on \\nhuman labor. It is crucial to explore the potential of AI while addressing \\nthese challenges to ensure a responsible and equitable AI-powered future.  \\n\\nAnswer:\\n\\n- Farming: No\\n- Climate change: No\\n- Weather: No\\n- Drought: No\\n- Organic seeds: No\",\n",
      "        \"role\": \"assistant\",\n",
      "        \"function_call\": null,\n",
      "        \"tool_calls\": null\n",
      "      }\n",
      "    }\n",
      "  ],\n",
      "  \"created\": 1701190076,\n",
      "  \"model\": \"gpt-3.5-turbo-0613\",\n",
      "  \"object\": \"chat.completion\",\n",
      "  \"system_fingerprint\": null,\n",
      "  \"usage\": {\n",
      "    \"completion_tokens\": 165,\n",
      "    \"prompt_tokens\": 310,\n",
      "    \"total_tokens\": 475\n",
      "  }\n",
      "}\n"
     ]
    }
   ],
   "source": [
    "prompt = f'''\n",
    "            Determine if each item in the following list of \n",
    "            topics is a topic in the provided text.\n",
    "\n",
    "            List of topics: {\", \".join(topic_list1)}\n",
    "\n",
    "            Text sample: {text}\n",
    "            \n",
    "            Provide your answer as list with yes or no for each topic.            \n",
    "        '''\n",
    "\n",
    "response = get_completion(prompt + text)\n",
    "print(response.model_dump_json(indent=2))"
   ]
  },
  {
   "cell_type": "code",
   "execution_count": 14,
   "id": "a1032f87",
   "metadata": {},
   "outputs": [
    {
     "name": "stdout",
     "output_type": "stream",
     "text": [
      "{\n",
      "  \"id\": \"chatcmpl-8PvXtPRg87R5nGH6RbxBiXB9n4N1G\",\n",
      "  \"choices\": [\n",
      "    {\n",
      "      \"finish_reason\": \"stop\",\n",
      "      \"index\": 0,\n",
      "      \"message\": {\n",
      "        \"content\": \"List of topics: machine learning, technology, security, equity, job replacement\\n\\nText sample: Artificial intelligence has revolutionized various industries, including healthcare, finance, and transportation. Through advanced algorithms and machine learning techniques, AI has enabled more accurate diagnoses, personalized financial recommendations, and autonomous vehicles. However, along with its benefits, there are concerns about privacy, ethical implications, and job displacement. The integration of AI into society raises questions about data security, algorithm biases, and the impact on human labor. It is crucial to explore the potential of AI while addressing these challenges to ensure a responsible and equitable AI-powered future.\\n\\nYes to machine learning.\\nYes to technology.\\nYes to security.\\nYes to equity.\\nYes to job replacement.\",\n",
      "        \"role\": \"assistant\",\n",
      "        \"function_call\": null,\n",
      "        \"tool_calls\": null\n",
      "      }\n",
      "    }\n",
      "  ],\n",
      "  \"created\": 1701190097,\n",
      "  \"model\": \"gpt-3.5-turbo-0613\",\n",
      "  \"object\": \"chat.completion\",\n",
      "  \"system_fingerprint\": null,\n",
      "  \"usage\": {\n",
      "    \"completion_tokens\": 145,\n",
      "    \"prompt_tokens\": 310,\n",
      "    \"total_tokens\": 455\n",
      "  }\n",
      "}\n"
     ]
    }
   ],
   "source": [
    "prompt = f'''\n",
    "            Determine if each item in the following list of \n",
    "            topics is a topic in the provided text.\n",
    "\n",
    "            List of topics: {\", \".join(topic_list2)}\n",
    "\n",
    "            Text sample: {text}\n",
    "            \n",
    "            Provide your answer as list with yes or no for each topic.            \n",
    "        '''\n",
    "\n",
    "response = get_completion(prompt + text)\n",
    "print(response.model_dump_json(indent=2))"
   ]
  },
  {
   "cell_type": "markdown",
   "id": "f91a0edd",
   "metadata": {},
   "source": [
    "## Hands-on Challenge  - You try it out! \n",
    "### Identify a list of emotions in the provided text"
   ]
  },
  {
   "cell_type": "code",
   "execution_count": 15,
   "id": "aa13017f",
   "metadata": {},
   "outputs": [],
   "source": [
    "text = '''\n",
    "        The state of the world today evokes a complex tapestry of emotions - from profound \n",
    "        concern over pressing issues to glimpses of hope and resilience amidst adversity. \n",
    "        It's disheartening to witness the challenges we face, yet inspiring to witness the \n",
    "        indomitable human spirit and collective efforts striving for positive change. We must \n",
    "        acknowledge the deep divides and injustices while holding onto optimism for a brighter future. \n",
    "        It is a time that calls for unity, empathy, and unwavering determination to shape a world that \n",
    "        fosters compassion, equality, and sustainability for generations to come.\n",
    "       '''"
   ]
  }
 ],
 "metadata": {
  "kernelspec": {
   "display_name": "Python 3 (ipykernel)",
   "language": "python",
   "name": "python3"
  },
  "language_info": {
   "codemirror_mode": {
    "name": "ipython",
    "version": 3
   },
   "file_extension": ".py",
   "mimetype": "text/x-python",
   "name": "python",
   "nbconvert_exporter": "python",
   "pygments_lexer": "ipython3",
   "version": "3.8.9"
  }
 },
 "nbformat": 4,
 "nbformat_minor": 5
}
