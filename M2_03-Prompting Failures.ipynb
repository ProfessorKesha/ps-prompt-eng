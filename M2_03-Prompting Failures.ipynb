{
 "cells": [
  {
   "cell_type": "markdown",
   "id": "432ba143",
   "metadata": {},
   "source": [
    "# Prompt Engineering for Improved Performance\n",
    "\n",
    "## Module 2: Prompting at a Glance\n",
    "### Video 3: Prompting Failures"
   ]
  },
  {
   "cell_type": "markdown",
   "id": "b4caffe1",
   "metadata": {},
   "source": [
    "#### Install the necessary libraries"
   ]
  },
  {
   "cell_type": "code",
   "execution_count": null,
   "id": "509b1e08",
   "metadata": {},
   "outputs": [],
   "source": [
    "pip install openai"
   ]
  },
  {
   "cell_type": "code",
   "execution_count": null,
   "id": "fc97f3ef",
   "metadata": {},
   "outputs": [],
   "source": [
    "pip install openai[datalib]"
   ]
  },
  {
   "cell_type": "code",
   "execution_count": null,
   "id": "5584c760",
   "metadata": {},
   "outputs": [],
   "source": [
    "pip install urllib3==1.26.6 "
   ]
  },
  {
   "cell_type": "code",
   "execution_count": null,
   "id": "f1621606",
   "metadata": {},
   "outputs": [],
   "source": [
    "pip install python-dotenv"
   ]
  },
  {
   "cell_type": "markdown",
   "id": "9e6cc16f",
   "metadata": {},
   "source": [
    "### Import the libraries and enviornment file to gain access to the Open API Key\n",
    "#### The key can be generated here: https://platform.openai.com/account/api-keys"
   ]
  },
  {
   "cell_type": "code",
   "execution_count": 1,
   "id": "fd8d1ec2",
   "metadata": {},
   "outputs": [],
   "source": [
    "import os\n",
    "from openai import OpenAI\n",
    "\n",
    "from dotenv import load_dotenv, find_dotenv\n",
    "_ = load_dotenv(find_dotenv()) # read local .env file"
   ]
  },
  {
   "cell_type": "markdown",
   "id": "9d3964d6",
   "metadata": {},
   "source": [
    "### Authenticate to the API using the API Key\n",
    "#### Pull from environment variables or use openai.api_key = (\"your_key_here\") to hardcode the key"
   ]
  },
  {
   "cell_type": "code",
   "execution_count": 2,
   "id": "0af16d2f",
   "metadata": {},
   "outputs": [],
   "source": [
    "client = OpenAI(\n",
    "  api_key=os.environ['OPENAI_API_KEY']  \n",
    ")"
   ]
  },
  {
   "cell_type": "markdown",
   "id": "46c46ed5",
   "metadata": {},
   "source": [
    "### Prompt failures"
   ]
  },
  {
   "cell_type": "code",
   "execution_count": 3,
   "id": "dcef2cb4",
   "metadata": {},
   "outputs": [],
   "source": [
    "def prompt_foundation(prompt, temperature=0):\n",
    "    try:\n",
    "        response = client.completions.create(\n",
    "            model=\"text-davinci-003\",\n",
    "            prompt=prompt,\n",
    "            max_tokens=250,\n",
    "            temperature=temperature\n",
    "        )\n",
    "        \n",
    "        return response\n",
    "    except openai.APIError as e:\n",
    "        print(e.http_status)\n",
    "        print(e.error)\n",
    "        return e.error    "
   ]
  },
  {
   "cell_type": "code",
   "execution_count": 4,
   "id": "f5529c6b",
   "metadata": {},
   "outputs": [],
   "source": [
    "def prompt_fine_tuned(prompt):\n",
    "    try:\n",
    "        response = client.chat.completions.create(\n",
    "            model=\"gpt-3.5-turbo\",\n",
    "            messages=[ {'role':'user', 'content':prompt}  ]     \n",
    "        )\n",
    "        \n",
    "        return response\n",
    "    except openai.APIError as e:\n",
    "        print(e.http_status)\n",
    "        print(e.error)\n",
    "        return e.error    "
   ]
  },
  {
   "cell_type": "markdown",
   "id": "0eb60cde",
   "metadata": {},
   "source": [
    "#### Prompt that is too vague"
   ]
  },
  {
   "cell_type": "code",
   "execution_count": 6,
   "id": "0e4279fe",
   "metadata": {},
   "outputs": [
    {
     "name": "stdout",
     "output_type": "stream",
     "text": [
      "{\n",
      "  \"id\": \"cmpl-8PWUcro1RTu1tknLI7YGk1PS5aI6J\",\n",
      "  \"choices\": [\n",
      "    {\n",
      "      \"finish_reason\": \"stop\",\n",
      "      \"index\": 0,\n",
      "      \"logprobs\": null,\n",
      "      \"text\": \"\\n\\nThe current political situation in the United States is marked by extreme polarization. The country has been divided along increasingly partisan and ideological lines, as Democrats and Republicans battle for power and policy influence. The November 2020 election saw current President Joe Biden take the White House, while the Senate remains under Republican control. President Biden has pushed a liberal agenda that includes the pursuit of a $1.9 trillion relief package, while Republicans have maintained their opposition to large-scale government spending. Additionally, the country is transitioning from the Trump administration, which threatened important elements of the freedom and democracy, and has left behind an incredibly divided population. Social and racial tensions remain high, as the country continues to grapple with issues of police brutality and systemic racism. There also continues to be immense uncertainty around the immediate future of the pandemic, the economy, and foreign relations.\"\n",
      "    }\n",
      "  ],\n",
      "  \"created\": 1701093794,\n",
      "  \"model\": \"text-davinci-003\",\n",
      "  \"object\": \"text_completion\",\n",
      "  \"system_fingerprint\": null,\n",
      "  \"usage\": {\n",
      "    \"completion_tokens\": 170,\n",
      "    \"prompt_tokens\": 9,\n",
      "    \"total_tokens\": 179\n",
      "  },\n",
      "  \"warning\": \"This model version is deprecated. Migrate before January 4, 2024 to avoid disruption of service. Learn more https://platform.openai.com/docs/deprecations\"\n",
      "}\n"
     ]
    }
   ],
   "source": [
    "response1 = prompt_foundation(\"Tell me everything about the current political situation.\", 1)\n",
    "print(response1.model_dump_json(indent=2))"
   ]
  },
  {
   "cell_type": "code",
   "execution_count": 7,
   "id": "06b1c6b8",
   "metadata": {},
   "outputs": [
    {
     "name": "stdout",
     "output_type": "stream",
     "text": [
      "{\n",
      "  \"id\": \"chatcmpl-8PWUgVjSs7D0zO8ozcvjSEFcnKzeW\",\n",
      "  \"choices\": [\n",
      "    {\n",
      "      \"finish_reason\": \"stop\",\n",
      "      \"index\": 0,\n",
      "      \"message\": {\n",
      "        \"content\": \"The current political situation varies depending on the country and region. As an AI, I don't have access to real-time data, so I can't provide you with an up-to-date analysis of every country's political situation. However, I can highlight some general global trends:\\n\\n1. COVID-19 Pandemic: The ongoing global pandemic has had a significant impact on politics worldwide. Governments have faced challenges in managing public health, economic downturns, and vaccine distribution. The crisis has also raised questions about leadership, governance, and the role of international cooperation.\\n\\n2. Global Economic Challenges: Several countries are grappling with economic crises, recessions, or slow growth. Rising inequality, unemployment, and a growing wealth gap have become key political concerns.\\n\\n3. Climate Change and Environmental Issues: Environmental concerns have gained prominence, leading to increased attention on climate change policy and sustainable development. Climate activism and the search for renewable energy alternatives have become significant political issues.\\n\\n4. Populist Movements: In recent years, many countries have witnessed the rise of populist movements and politicians, often fueled by people's dissatisfaction with mainstream politics or perceived economic and social inequalities.\\n\\n5. Social Justice Movements: Black Lives Matter, MeToo, LGBTQ+ rights, and other social justice movements have significantly influenced political discourse. These movements have brought issues like systemic racism, gender equality, and LGBTQ+ rights into the forefront of political debates.\\n\\n6. Geopolitical Conflicts: Tensions and conflicts exist in various regions, including the Middle East, the Korean Peninsula, and Eastern Europe. These conflicts often have complex political undertones and involve international actors.\\n\\n7. Technological Advancements: The rapid advancement of technology, including artificial intelligence, automation, and social media, has raised new policy challenges. Governments are addressing issues such as data privacy, cybersecurity, and the regulation of social media platforms.\\n\\nIt is important to note that the political situation is dynamic and subject to change. To have a detailed understanding of the current political situation, it is recommended to consult reliable news sources and stay informed about specific countries or regions of interest.\",\n",
      "        \"role\": \"assistant\",\n",
      "        \"function_call\": null,\n",
      "        \"tool_calls\": null\n",
      "      }\n",
      "    }\n",
      "  ],\n",
      "  \"created\": 1701093798,\n",
      "  \"model\": \"gpt-3.5-turbo-0613\",\n",
      "  \"object\": \"chat.completion\",\n",
      "  \"system_fingerprint\": null,\n",
      "  \"usage\": {\n",
      "    \"completion_tokens\": 417,\n",
      "    \"prompt_tokens\": 16,\n",
      "    \"total_tokens\": 433\n",
      "  }\n",
      "}\n"
     ]
    }
   ],
   "source": [
    "response2 = prompt_fine_tuned(\"Tell me everything about the current political situation.\")\n",
    "print(response2.model_dump_json(indent=2))"
   ]
  },
  {
   "cell_type": "markdown",
   "id": "396dd0d4",
   "metadata": {},
   "source": [
    "#### Prompt that contains bias and leading language"
   ]
  },
  {
   "cell_type": "code",
   "execution_count": 8,
   "id": "b8c45b8f",
   "metadata": {},
   "outputs": [
    {
     "name": "stdout",
     "output_type": "stream",
     "text": [
      "{\n",
      "  \"id\": \"cmpl-8PWVKYnDDWaEqDFj4XgKbwYgpvVdP\",\n",
      "  \"choices\": [\n",
      "    {\n",
      "      \"finish_reason\": \"stop\",\n",
      "      \"index\": 0,\n",
      "      \"logprobs\": null,\n",
      "      \"text\": \"\\n\\nPeople often find vegan diets restrictive and unhealthy because they are unfamiliar with plant-based foods and find it challenging to maintain adequate nutrition through vegan sources. Additionally, without the right knowledge and resources, it can be hard to access a variety of vegan foods that may provide adequate levels of essential nutrients, vitamins, and minerals. Finally, some people fear that their plant-based diet lacks adequate protein, fat, and calories to support good health.\"\n",
      "    }\n",
      "  ],\n",
      "  \"created\": 1701093838,\n",
      "  \"model\": \"text-davinci-003\",\n",
      "  \"object\": \"text_completion\",\n",
      "  \"system_fingerprint\": null,\n",
      "  \"usage\": {\n",
      "    \"completion_tokens\": 89,\n",
      "    \"prompt_tokens\": 11,\n",
      "    \"total_tokens\": 100\n",
      "  },\n",
      "  \"warning\": \"This model version is deprecated. Migrate before January 4, 2024 to avoid disruption of service. Learn more https://platform.openai.com/docs/deprecations\"\n",
      "}\n"
     ]
    }
   ],
   "source": [
    "response3 = prompt_foundation(\"Why do people find vegan diets so restrictive and unhealthy?\", 1)\n",
    "print(response3.model_dump_json(indent=2))"
   ]
  },
  {
   "cell_type": "code",
   "execution_count": 9,
   "id": "3f3a2fab",
   "metadata": {},
   "outputs": [
    {
     "name": "stdout",
     "output_type": "stream",
     "text": [
      "{\n",
      "  \"id\": \"chatcmpl-8PWVNyf3YaQNSdhEXI7L09xpGtWZb\",\n",
      "  \"choices\": [\n",
      "    {\n",
      "      \"finish_reason\": \"stop\",\n",
      "      \"index\": 0,\n",
      "      \"message\": {\n",
      "        \"content\": \"There are several reasons why people may perceive vegan diets as restrictive or unhealthy:\\n\\n1. Limited food choices: Vegans exclude all animal products, including meat, dairy, eggs, and honey. This restricts their food choices, especially in non-vegan-friendly environments where finding suitable options can be challenging.\\n\\n2. Nutrient deficiencies: Some individuals worry that vegans may struggle to obtain essential nutrients, particularly vitamin B12, iron, calcium, and omega-3 fatty acids. These nutrients are typically found in high amounts in animal products. However, with proper planning and understanding, vegans can obtain these nutrients from plant-based sources or through supplements.\\n\\n3. Belief that animal products are necessary for optimal health: Many people are accustomed to a diet that includes animal products and believe that they are essential for good health or the attainment of specific nutrients. However, it is possible to meet all nutrient requirements through a well-planned vegan diet.\\n\\n4. Lack of understanding or knowledge: Some people may have misconceptions about vegan diets, assuming they consist only of lettuce and carrots. However, a balanced vegan diet can be rich in fruits, vegetables, legumes, whole grains, nuts, and seeds, providing all necessary nutrients for good health.\\n\\nIt is important to note that numerous scientific studies have shown that well-planned vegan diets can be nutritionally adequate and provide various health benefits, including the reduced risk of heart disease, certain types of cancer, and improved weight management. However, it is always important to consult a healthcare professional or a registered dietitian before making any significant dietary changes.\",\n",
      "        \"role\": \"assistant\",\n",
      "        \"function_call\": null,\n",
      "        \"tool_calls\": null\n",
      "      }\n",
      "    }\n",
      "  ],\n",
      "  \"created\": 1701093841,\n",
      "  \"model\": \"gpt-3.5-turbo-0613\",\n",
      "  \"object\": \"chat.completion\",\n",
      "  \"system_fingerprint\": null,\n",
      "  \"usage\": {\n",
      "    \"completion_tokens\": 317,\n",
      "    \"prompt_tokens\": 18,\n",
      "    \"total_tokens\": 335\n",
      "  }\n",
      "}\n"
     ]
    }
   ],
   "source": [
    "response4 = prompt_fine_tuned(\"Why do people find vegan diets so restrictive and unhealthy?\")\n",
    "print(response4.model_dump_json(indent=2))"
   ]
  },
  {
   "cell_type": "markdown",
   "id": "de8f85f6",
   "metadata": {},
   "source": [
    "#### Prompt that reqeusts information the model wasn't trained on"
   ]
  },
  {
   "cell_type": "code",
   "execution_count": 10,
   "id": "2f883cf2",
   "metadata": {},
   "outputs": [
    {
     "name": "stdout",
     "output_type": "stream",
     "text": [
      "{\n",
      "  \"id\": \"cmpl-8PWW4UqLBwjTtDqHr2LQybLOGMqBP\",\n",
      "  \"choices\": [\n",
      "    {\n",
      "      \"finish_reason\": \"stop\",\n",
      "      \"index\": 0,\n",
      "      \"logprobs\": null,\n",
      "      \"text\": \"\\n\\nghay'cha' SuvwI' qoDwI' 'ej 'e' yIHoH.\"\n",
      "    }\n",
      "  ],\n",
      "  \"created\": 1701093884,\n",
      "  \"model\": \"text-davinci-003\",\n",
      "  \"object\": \"text_completion\",\n",
      "  \"system_fingerprint\": null,\n",
      "  \"usage\": {\n",
      "    \"completion_tokens\": 29,\n",
      "    \"prompt_tokens\": 17,\n",
      "    \"total_tokens\": 46\n",
      "  },\n",
      "  \"warning\": \"This model version is deprecated. Migrate before January 4, 2024 to avoid disruption of service. Learn more https://platform.openai.com/docs/deprecations\"\n",
      "}\n"
     ]
    }
   ],
   "source": [
    "response5 = prompt_foundation(\"Translate the following sentence into Klingon: 'The dog is sitting on the rug.\")\n",
    "print(response5.model_dump_json(indent=2))"
   ]
  },
  {
   "cell_type": "code",
   "execution_count": 11,
   "id": "7e26c5f1",
   "metadata": {},
   "outputs": [
    {
     "name": "stdout",
     "output_type": "stream",
     "text": [
      "{\n",
      "  \"id\": \"chatcmpl-8PWW5WY42gf2LeIZyn7INGXraOAUT\",\n",
      "  \"choices\": [\n",
      "    {\n",
      "      \"finish_reason\": \"stop\",\n",
      "      \"index\": 0,\n",
      "      \"message\": {\n",
      "        \"content\": \"'ej cha'logh vIparHa'.\",\n",
      "        \"role\": \"assistant\",\n",
      "        \"function_call\": null,\n",
      "        \"tool_calls\": null\n",
      "      }\n",
      "    }\n",
      "  ],\n",
      "  \"created\": 1701093885,\n",
      "  \"model\": \"gpt-3.5-turbo-0613\",\n",
      "  \"object\": \"chat.completion\",\n",
      "  \"system_fingerprint\": null,\n",
      "  \"usage\": {\n",
      "    \"completion_tokens\": 11,\n",
      "    \"prompt_tokens\": 24,\n",
      "    \"total_tokens\": 35\n",
      "  }\n",
      "}\n"
     ]
    }
   ],
   "source": [
    "response6 = prompt_fine_tuned(\"Translate the following sentence into Klingon: 'The dog is sitting on the rug.\")\n",
    "print(response6.model_dump_json(indent=2))"
   ]
  },
  {
   "cell_type": "code",
   "execution_count": 12,
   "id": "1c505820",
   "metadata": {},
   "outputs": [
    {
     "name": "stdout",
     "output_type": "stream",
     "text": [
      "{\n",
      "  \"id\": \"cmpl-8PWW6F9QBldeGL7GJ5BZlBSJ5l9nv\",\n",
      "  \"choices\": [\n",
      "    {\n",
      "      \"finish_reason\": \"length\",\n",
      "      \"index\": 0,\n",
      "      \"logprobs\": null,\n",
      "      \"text\": \"\\n\\nThe kingdom of Pluralsightopia was founded in the year 1250 by King John I. He was a wise and just ruler who brought peace and prosperity to the kingdom.\\n\\nIn 1290, King John I was succeeded by his son, King Richard I. He was a brave and courageous leader who led the kingdom to victory in the Battle of Pluralsightopia against the neighboring kingdom of Techtopia. This battle was fought on June 15th, 1290 and is remembered as one of the most significant battles in Pluralsightopian history.\\n\\nIn 1320, King Richard I was succeeded by his son, King Edward I. He was a wise and generous ruler who established the first university in Pluralsightopia. He also built the first castle in the kingdom, which still stands today.\\n\\nIn 1350, King Edward I was succeeded by his son, King Henry I. He was a strong and ambitious leader who expanded the kingdom's borders and increased its wealth. He also established the first parliament in Pluralsightopia.\\n\\nIn 1380, King Henry I was succeeded by his son, King John II. He was a wise and just ruler who brought peace and stability\"\n",
      "    }\n",
      "  ],\n",
      "  \"created\": 1701093886,\n",
      "  \"model\": \"text-davinci-003\",\n",
      "  \"object\": \"text_completion\",\n",
      "  \"system_fingerprint\": null,\n",
      "  \"usage\": {\n",
      "    \"completion_tokens\": 250,\n",
      "    \"prompt_tokens\": 38,\n",
      "    \"total_tokens\": 288\n",
      "  },\n",
      "  \"warning\": \"This model version is deprecated. Migrate before January 4, 2024 to avoid disruption of service. Learn more https://platform.openai.com/docs/deprecations\"\n",
      "}\n"
     ]
    }
   ],
   "source": [
    "response7 = prompt_foundation(''' Describe the historical events \n",
    "                              that took place in the kingdom of Pluralsightopia, \n",
    "                              including specific dates, notable figures, and significant battles. ''')\n",
    "print(response7.model_dump_json(indent=2))"
   ]
  },
  {
   "cell_type": "code",
   "execution_count": 13,
   "id": "504a2922",
   "metadata": {},
   "outputs": [
    {
     "name": "stdout",
     "output_type": "stream",
     "text": [
      "{\n",
      "  \"id\": \"chatcmpl-8PWWC5w5CQPR6N7NMsUaVDWfQrFc0\",\n",
      "  \"choices\": [\n",
      "    {\n",
      "      \"finish_reason\": \"stop\",\n",
      "      \"index\": 0,\n",
      "      \"message\": {\n",
      "        \"content\": \"I apologize, but it appears that the kingdom of Pluralsightopia does not exist. It seems to be a fictional kingdom. Can I assist you with any other historical events or topics?\",\n",
      "        \"role\": \"assistant\",\n",
      "        \"function_call\": null,\n",
      "        \"tool_calls\": null\n",
      "      }\n",
      "    }\n",
      "  ],\n",
      "  \"created\": 1701093892,\n",
      "  \"model\": \"gpt-3.5-turbo-0613\",\n",
      "  \"object\": \"chat.completion\",\n",
      "  \"system_fingerprint\": null,\n",
      "  \"usage\": {\n",
      "    \"completion_tokens\": 39,\n",
      "    \"prompt_tokens\": 40,\n",
      "    \"total_tokens\": 79\n",
      "  }\n",
      "}\n"
     ]
    }
   ],
   "source": [
    "response8 = prompt_fine_tuned(''' Describe the historical events \n",
    "                              that took place in the kingdom of Pluralsightopia, \n",
    "                              including specific dates, notable figures, and significant battles. ''')\n",
    "print(response8.model_dump_json(indent=2))"
   ]
  },
  {
   "cell_type": "code",
   "execution_count": null,
   "id": "4ec6da2c",
   "metadata": {},
   "outputs": [],
   "source": []
  }
 ],
 "metadata": {
  "kernelspec": {
   "display_name": "Python 3 (ipykernel)",
   "language": "python",
   "name": "python3"
  },
  "language_info": {
   "codemirror_mode": {
    "name": "ipython",
    "version": 3
   },
   "file_extension": ".py",
   "mimetype": "text/x-python",
   "name": "python",
   "nbconvert_exporter": "python",
   "pygments_lexer": "ipython3",
   "version": "3.8.9"
  }
 },
 "nbformat": 4,
 "nbformat_minor": 5
}
