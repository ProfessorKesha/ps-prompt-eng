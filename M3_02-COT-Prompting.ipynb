{
 "cells": [
  {
   "cell_type": "markdown",
   "id": "432ba143",
   "metadata": {},
   "source": [
    "# Prompt Engineering for Improved Performance\n",
    "\n",
    "## Module 3: Master Advanced Prompting Techniques\n",
    "### Video 3: Chain of Thought Prompting (CoT)"
   ]
  },
  {
   "cell_type": "markdown",
   "id": "b4caffe1",
   "metadata": {},
   "source": [
    "#### Install the necessary libraries"
   ]
  },
  {
   "cell_type": "code",
   "execution_count": null,
   "id": "509b1e08",
   "metadata": {},
   "outputs": [],
   "source": [
    "pip install openai"
   ]
  },
  {
   "cell_type": "code",
   "execution_count": null,
   "id": "fc97f3ef",
   "metadata": {},
   "outputs": [],
   "source": [
    "pip install openai[datalib]"
   ]
  },
  {
   "cell_type": "code",
   "execution_count": null,
   "id": "5584c760",
   "metadata": {},
   "outputs": [],
   "source": [
    "pip install urllib3==1.26.6 "
   ]
  },
  {
   "cell_type": "code",
   "execution_count": null,
   "id": "f1621606",
   "metadata": {},
   "outputs": [],
   "source": [
    "pip install python-dotenv"
   ]
  },
  {
   "cell_type": "markdown",
   "id": "9e6cc16f",
   "metadata": {},
   "source": [
    "### Import the libraries and enviornment file to gain access to the Open API Key\n",
    "#### The key can be generated here: https://platform.openai.com/account/api-keys"
   ]
  },
  {
   "cell_type": "code",
   "execution_count": 1,
   "id": "fd8d1ec2",
   "metadata": {},
   "outputs": [],
   "source": [
    "import os\n",
    "from openai import OpenAI\n",
    "\n",
    "from dotenv import load_dotenv, find_dotenv\n",
    "_ = load_dotenv(find_dotenv()) # read local .env file"
   ]
  },
  {
   "cell_type": "markdown",
   "id": "9d3964d6",
   "metadata": {},
   "source": [
    "### Authenticate to the API using the API Key\n",
    "#### Pull from environment variables or use openai.api_key = (\"your_key_here\") to hardcode the key"
   ]
  },
  {
   "cell_type": "code",
   "execution_count": 2,
   "id": "0af16d2f",
   "metadata": {},
   "outputs": [],
   "source": [
    "client = OpenAI(\n",
    "  api_key=os.environ['OPENAI_API_KEY']  \n",
    ")"
   ]
  },
  {
   "cell_type": "code",
   "execution_count": 3,
   "id": "4ec6da2c",
   "metadata": {},
   "outputs": [],
   "source": [
    "def get_completion(prompt):\n",
    "    try:\n",
    "        response = client.chat.completions.create(\n",
    "            model=\"gpt-3.5-turbo\",\n",
    "            messages=[ {'role':'user', 'content':prompt}  ]     \n",
    "        )\n",
    "        \n",
    "        return response\n",
    "    except openai.APIError as e:\n",
    "        print(e.http_status)\n",
    "        print(e.error)\n",
    "        return e.error     "
   ]
  },
  {
   "cell_type": "markdown",
   "id": "8ff5cf03",
   "metadata": {},
   "source": [
    "### Basic Zero-shot Prompt"
   ]
  },
  {
   "cell_type": "code",
   "execution_count": 4,
   "id": "d9d51e1d",
   "metadata": {},
   "outputs": [
    {
     "name": "stdout",
     "output_type": "stream",
     "text": [
      "{\n",
      "  \"id\": \"chatcmpl-8PX7VbZfAKlXfgfR49jO1tWVzJD13\",\n",
      "  \"choices\": [\n",
      "    {\n",
      "      \"finish_reason\": \"stop\",\n",
      "      \"index\": 0,\n",
      "      \"message\": {\n",
      "        \"content\": \"Here is a sample vegan weekly meal plan that provides balanced meals:\\n\\nDay 1:\\n- Breakfast: Vegan overnight oats topped with fresh fruits and nuts.\\n- Lunch: Mixed green salad with quinoa, chickpeas, cherry tomatoes, cucumber, and lemon-tahini dressing.\\n- Snack: Vegan yogurt with a handful of almonds.\\n- Dinner: Vegan lentil curry with brown rice and steamed broccoli.\\n- Dessert: Baked apple slices sprinkled with cinnamon.\\n\\nDay 2:\\n- Breakfast: Vegan avocado toast topped with cherry tomatoes and a squeeze of lemon.\\n- Lunch: Vegan black bean wrap with whole wheat tortilla, black beans, avocado, lettuce, tomato, and salsa.\\n- Snack: Hummus and veggie sticks (carrot, cucumber, bell peppers).\\n- Dinner: Vegan stuffed bell peppers with quinoa, black beans, corn, and spices.\\n- Dessert: Vegan chocolate chia pudding.\\n\\nDay 3:\\n- Breakfast: Vegan smoothie made with spinach, banana, almond milk, and peanut butter.\\n- Lunch: Vegan tofu stir-fry with mixed vegetables and served over brown rice.\\n- Snack: Vegan energy balls made with dates, nuts, and coconut.\\n- Dinner: Vegan pasta primavera with whole wheat pasta, colorful veggies, and a creamy cashew sauce.\\n- Dessert: Fresh mixed berries with a dollop of coconut whipped cream.\\n\\nDay 4:\\n- Breakfast: Vegan banana pancakes topped with maple syrup and mixed berries.\\n- Lunch: Vegan quinoa salad with roasted sweet potatoes, black beans, avocado, and a lime-cilantro dressing.\\n- Snack: Rice cakes with almond butter and sliced banana.\\n- Dinner: Vegan chickpea and vegetable curry served with quinoa or basmati rice.\\n- Dessert: Vegan banana nice cream made with frozen bananas and cocoa powder.\\n\\nDay 5:\\n- Breakfast: Vegan tofu scramble with sautéed onions, bell peppers, spinach, and turmeric.\\n- Lunch: Vegan Mediterranean bowl with falafel, hummus, quinoa, lettuce, tomato, cucumber, olives, and tahini dressing.\\n- Snack: Vegan protein bar.\\n- Dinner: Vegan lentil and vegetable soup served with whole grain bread.\\n- Dessert: Vegan fruit salad with coconut flakes.\\n\\nDay 6:\\n- Breakfast: Vegan chia seed pudding topped with mixed berries and crushed nuts.\\n- Lunch: Vegan sushi rolls filled with avocado, cucumber, carrot, and tofu.\\n- Snack: Vegan granola bar.\\n- Dinner: Vegan mushroom and spinach risotto cooked with vegetable broth and nutritional yeast.\\n- Dessert: Vegan mango and coconut sticky rice.\\n\\nDay 7:\\n- Breakfast: Vegan breakfast burrito filled with scrambled tofu, black beans, salsa, and avocado.\\n- Lunch: Vegan buddha bowl with quinoa, roasted vegetables, chickpeas, tahini dressing, and a sprinkle of seeds.\\n- Snack: Vegan apple slices with almond butter.\\n- Dinner: Vegan vegetable curry with coconut milk served with brown rice or quinoa.\\n- Dessert: Vegan cinnamon baked pears with a scoop of vegan vanilla ice cream.\\n\\nRemember to adjust portion sizes based on your dietary needs and activity level. Additionally, ensure you're meeting your nutritional requirements by consulting with a registered dietitian or nutritionist.\",\n",
      "        \"role\": \"assistant\",\n",
      "        \"function_call\": null,\n",
      "        \"tool_calls\": null\n",
      "      }\n",
      "    }\n",
      "  ],\n",
      "  \"created\": 1701096205,\n",
      "  \"model\": \"gpt-3.5-turbo-0613\",\n",
      "  \"object\": \"chat.completion\",\n",
      "  \"system_fingerprint\": null,\n",
      "  \"usage\": {\n",
      "    \"completion_tokens\": 673,\n",
      "    \"prompt_tokens\": 18,\n",
      "    \"total_tokens\": 691\n",
      "  }\n",
      "}\n"
     ]
    }
   ],
   "source": [
    "response = get_completion(\"Plan a vegan weekly meal plan that provides balanced meals.\")\n",
    "print(response.model_dump_json(indent=2))"
   ]
  },
  {
   "cell_type": "markdown",
   "id": "dfd6d266",
   "metadata": {},
   "source": [
    "### Advanced Chain-of-Thought (CoT) Prompt"
   ]
  },
  {
   "cell_type": "code",
   "execution_count": 5,
   "id": "2187c66b",
   "metadata": {},
   "outputs": [
    {
     "name": "stdout",
     "output_type": "stream",
     "text": [
      "{\n",
      "  \"id\": \"chatcmpl-8PX8bLVJ8r2hQI8zjpaZcW1dWWbrd\",\n",
      "  \"choices\": [\n",
      "    {\n",
      "      \"finish_reason\": \"stop\",\n",
      "      \"index\": 0,\n",
      "      \"message\": {\n",
      "        \"content\": \"Step 1. Healthy Ingredient Selection:\\nWhen planning a weekly vegan menu, it is essential to focus on incorporating a variety of nutrient-dense ingredients. You want to choose plant-based foods that are rich in protein, healthy fats, complex carbohydrates, vitamins, and minerals. Some healthy vegan ingredients to consider are:\\n\\n- Proteins: tofu, tempeh, seitan, legumes (beans, lentils, chickpeas), quinoa, edamame, and protein-rich grains like amaranth and teff.\\n- Healthy Fats: avocados, nuts (almonds, walnuts, cashews), seeds (chia seeds, flaxseeds, hemp seeds), and plant-based oils like olive oil and coconut oil.\\n- Complex Carbohydrates: whole grains (brown rice, quinoa, oats, whole wheat pasta, etc.), starchy vegetables (sweet potatoes, corn, peas), and whole-wheat bread or tortillas.\\n- Vitamins and Minerals: leafy greens (spinach, kale, Swiss chard), colorful vegetables (bell peppers, carrots, tomatoes), fruits (berries, citrus fruits, apples), and cruciferous vegetables (broccoli, cauliflower, Brussels sprouts).\\n\\nStep 2. Balanced Meal Ideas:\\nHere are a few examples of balanced vegan meals using the ingredients mentioned above:\\n\\n- Breakfast: Overnight chia pudding made with almond milk, topped with a mix of fresh berries and a sprinkle of nuts. Serve with a side of whole-grain toast and avocado slices.\\n- Lunch: Quinoa salad with mixed greens, cherry tomatoes, cucumber, diced bell peppers, and chickpeas. Dress with a lemon-tahini dressing and serve with a side of roasted sweet potato wedges.\\n- Snack: Apple slices with almond butter or homemade trail mix with nuts, seeds, and dried fruits.\\n- Dinner: Pan-seared tofu or tempeh with a stir-fry of mixed vegetables (broccoli, mushrooms, carrots, snow peas) in soy sauce and ginger. Serve over brown rice or quinoa.\\n- Dessert: Vegan dark chocolate avocado mousse made with ripe avocados, cocoa powder, maple syrup, and vanilla extract.\\n\\nStep 3. Meal Timing:\\nThe specific time of day to eat these meals can vary depending on your schedule and personal preferences. However, a general guideline is to spread your meals throughout the day to maintain balanced energy levels. It is recommended to have three main meals (breakfast, lunch, and dinner) and include snacks in between if desired.\\n\\nStep 4. Exercise Recommendations:\\nTo promote optimal health, it is crucial to incorporate regular physical activity into your routine. Aim for a combination of cardiovascular exercises, such as brisk walking, running, cycling, or swimming, along with strength training exercises like bodyweight workouts or weightlifting. The duration and intensity of your workouts may vary depending on your fitness level and goals. It's always a good idea to consult with a fitness professional for personalized exercise recommendations.\\n\\nWeekly Vegan Meal Plan:\\n\\nMonday:\\n- Breakfast: Avocado toast with whole-grain bread and a side of fresh fruit.\\n- Lunch: Lentil and vegetable curry served with brown rice.\\n- Snack: Carrot sticks with hummus.\\n- Dinner: Chickpea and vegetable stir-fry with quinoa.\\n- Dessert: Mixed berry smoothie bowl topped with granola.\\n\\nTuesday:\\n- Breakfast: Overnight oats topped with sliced bananas and a spoonful of almond butter.\\n- Lunch: Grilled tofu wrap with mixed greens, tomatoes, and a tahini dressing.\\n- Snack: Handful of nuts and dried fruits.\\n- Dinner: Vegan chili loaded with mixed beans, corn, tomatoes, and spices.\\n- Dessert: Baked cinnamon apple slices.\\n\\nWednesday:\\n- Breakfast: Vegan protein smoothie made with almond milk, spinach, banana, and protein powder of choice.\\n- Lunch: Quinoa salad with roasted vegetables (zucchini, eggplant, bell peppers).\\n- Snack: Rice cakes with almond butter and sliced strawberries.\\n- Dinner: Sweet potato and black bean enchiladas with a side salad.\\n- Dessert: Vegan chocolate chip cookies.\\n\\nThursday:\\n- Breakfast: Tofu scramble with sautéed vegetables (onions, peppers, mushrooms) and whole-grain toast.\\n- Lunch: Chickpea salad with diced cucumbers, cherry tomatoes, parsley, and a lemon-tahini dressing.\\n- Snack: Homemade energy balls (dates, nuts, and cocoa powder).\\n- Dinner: Vegan sushi rolls filled with avocado, cucumber, and marinated tofu.\\n- Dessert: Vegan banana ice cream with mixed berries.\\n\\nFriday:\\n- Breakfast: Green smoothie bowl topped with sliced almonds, coconut flakes, and fresh fruit.\\n- Lunch: Vegan lentil and vegetable soup with a side of whole-grain bread.\\n- Snack: Homemade kale chips.\\n- Dinner: Spaghetti aglio e olio with whole-wheat pasta and sautéed vegetables.\\n- Dessert: Vegan mango sorbet.\\n\\nRemember to customize this weekly meal plan based on your dietary needs, preferences, and portion sizes. Additionally, consult with a registered dietitian to ensure your weekly vegan menu meets your specific nutritional requirements.\",\n",
      "        \"role\": \"assistant\",\n",
      "        \"function_call\": null,\n",
      "        \"tool_calls\": null\n",
      "      }\n",
      "    }\n",
      "  ],\n",
      "  \"created\": 1701096273,\n",
      "  \"model\": \"gpt-3.5-turbo-0613\",\n",
      "  \"object\": \"chat.completion\",\n",
      "  \"system_fingerprint\": null,\n",
      "  \"usage\": {\n",
      "    \"completion_tokens\": 1058,\n",
      "    \"prompt_tokens\": 85,\n",
      "    \"total_tokens\": 1143\n",
      "  }\n",
      "}\n"
     ]
    }
   ],
   "source": [
    "response = get_completion('''Walk me through the process of planning a weekly vegan menu. \n",
    "   Step 1. Describe the healthy ingredient selection \n",
    "   Step 2. Describe the balanced meal using those ingredients\n",
    "   Step 3. Describe the specific time of day to eat the meal\n",
    "   Step 4. Describe exercises that should be included for optimal health\n",
    "   \n",
    "   Provide a weekly meal plan using this process.''')\n",
    "print(response.model_dump_json(indent=2))"
   ]
  },
  {
   "cell_type": "markdown",
   "id": "8d515db0",
   "metadata": {},
   "source": [
    "## ^^ This menu looks better to me (very subjective) but it even includes desserts! "
   ]
  },
  {
   "cell_type": "markdown",
   "id": "f2248639",
   "metadata": {},
   "source": [
    "### Basic Zero-shot Prompt"
   ]
  },
  {
   "cell_type": "code",
   "execution_count": 6,
   "id": "e429c006",
   "metadata": {},
   "outputs": [
    {
     "name": "stdout",
     "output_type": "stream",
     "text": [
      "{\n",
      "  \"id\": \"chatcmpl-8PX9XIeSje1WFjQMGLLcwdGJi7LDU\",\n",
      "  \"choices\": [\n",
      "    {\n",
      "      \"finish_reason\": \"stop\",\n",
      "      \"index\": 0,\n",
      "      \"message\": {\n",
      "        \"content\": \"Recipe: Strawberry Cheesecake Tart with Chocolate Ganache\\n\\nIngredients:\\nFor the crust:\\n- 1 ½ cups graham cracker crumbs\\n- 6 tablespoons unsalted butter, melted\\n- 2 tablespoons sugar\\n\\nFor the cheesecake filling:\\n- 16 oz cream cheese, softened\\n- ½ cup sugar\\n- 2 teaspoons vanilla extract\\n- 2 large eggs\\n\\nFor the topping:\\n- 2 ½ cups fresh strawberries, sliced\\n- ½ cup sugar\\n- 2 tablespoons cornstarch\\n- ¼ cup water\\n\\nFor the chocolate ganache:\\n- 4 oz semi-sweet chocolate, chopped\\n- ½ cup heavy cream\\n\\nInstructions:\\n1. Preheat the oven to 325°F (160°C).\\n\\n2. In a medium bowl, combine the graham cracker crumbs, melted butter, and sugar for the crust. Stir until evenly mixed.\\n\\n3. Press the crust mixture into the bottom of a 9-inch tart pan with a removable bottom. Use the back of a spoon to press it firmly and evenly into the pan.\\n\\n4. In a separate mixing bowl, beat the cream cheese, sugar, and vanilla extract together until smooth and creamy.\\n\\n5. Add the eggs, one at a time, beating well after each addition until fully incorporated.\\n\\n6. Pour the cheesecake filling over the crust in the tart pan, spreading it evenly.\\n\\n7. Bake the tart for about 30-35 minutes or until the center is set and the edges are lightly golden.\\n\\n8. While the tart is baking, prepare the strawberry topping. In a saucepan, combine the sliced strawberries, sugar, cornstarch, and water. Stir and cook over medium heat until the mixture thickens and the strawberries break down slightly, about 5-7 minutes. Remove from heat and set aside to cool.\\n\\n9. Once the tart is done baking, let it cool completely before removing it from the tart pan.\\n\\n10. In a microwave-safe bowl, heat the heavy cream for the ganache until it begins to simmer. Remove from the microwave and add the chopped chocolate. Let it sit for a minute, then stir until smooth and well combined.\\n\\n11. Pour the chocolate ganache over the cooled cheesecake tart, spreading it evenly.\\n\\n12. Once the strawberry topping has cooled, spoon it over the top of the ganache layer.\\n\\n13. Place the tart in the refrigerator to chill for at least 2 hours, or until ready to serve.\\n\\n14. Optionally, garnish with fresh strawberries on top before serving.\\n\\nEnjoy this delicious and visually appealing Strawberry Cheesecake Tart with Chocolate Ganache as a delightful dessert!\",\n",
      "        \"role\": \"assistant\",\n",
      "        \"function_call\": null,\n",
      "        \"tool_calls\": null\n",
      "      }\n",
      "    }\n",
      "  ],\n",
      "  \"created\": 1701096331,\n",
      "  \"model\": \"gpt-3.5-turbo-0613\",\n",
      "  \"object\": \"chat.completion\",\n",
      "  \"system_fingerprint\": null,\n",
      "  \"usage\": {\n",
      "    \"completion_tokens\": 538,\n",
      "    \"prompt_tokens\": 12,\n",
      "    \"total_tokens\": 550\n",
      "  }\n",
      "}\n"
     ]
    }
   ],
   "source": [
    "response = get_completion(\"Develop a new dessert recipe\")\n",
    "print(response.model_dump_json(indent=2))"
   ]
  },
  {
   "cell_type": "markdown",
   "id": "3d7e6613",
   "metadata": {},
   "source": [
    "### Advanced Chain-of-Thought (CoT) Prompt"
   ]
  },
  {
   "cell_type": "code",
   "execution_count": 7,
   "id": "9be77b5e",
   "metadata": {},
   "outputs": [
    {
     "name": "stdout",
     "output_type": "stream",
     "text": [
      "{\n",
      "  \"id\": \"chatcmpl-8PXAPx0lGdFHj7krpBBcyboqM09IG\",\n",
      "  \"choices\": [\n",
      "    {\n",
      "      \"finish_reason\": \"stop\",\n",
      "      \"index\": 0,\n",
      "      \"message\": {\n",
      "        \"content\": \"Step 1: Brainstorm and refine the concept \\nFor this new dessert recipe, I want to create a unique and indulgent treat that is both visually appealing and delicious. I want it to be a combination of two classic desserts - cheesecake and brownies. \\n\\nStep 2: Consider the flavor combinations\\nThe flavors of chocolate and cream cheese are a match made in dessert heaven. To enhance the richness and depth of flavor, I will add a hint of vanilla extract and a pinch of salt. Additionally, I will incorporate some crushed Oreos to add a subtle crunch and enhance the chocolate flavor.\\n\\nStep 3: Consider the texture contrasts\\nTo provide a contrast in textures, I will keep the brownie layer dense and fudgy, while ensuring that the cheesecake layer is smooth and creamy. The combination of the two will create a delightful mouthfeel.\\n\\nStep 4: Consider the presentation that will make this dessert truly remarkable\\nTo make this dessert visually stunning and even more appetizing, I will create a marbled effect on the top layer of the cheesecake by swirling melted chocolate throughout. This will create a beautiful pattern and add a touch of elegance to the dessert.\\n\\nNew Recipe: Cheesecake Brownie Bars\\n\\nIngredients:\\n- 1 box of your favorite brownie mix (plus required ingredients mentioned on the box)\\n- 8 ounces cream cheese, softened\\n- 1/4 cup granulated sugar\\n- 1 teaspoon vanilla extract\\n- A pinch of salt\\n- 2 eggs\\n- 1/2 cup crushed Oreos\\n- 1/2 cup semi-sweet chocolate chips, melted\\n\\nInstructions:\\n\\n1. Preheat the oven to the temperature mentioned on the brownie mix box. Grease a 9x9-inch baking pan.\\n\\n2. Prepare the brownie mix according to the instructions on the box. Pour the brownie batter into the prepared baking pan, spreading it evenly.\\n\\n3. In a medium-sized bowl, beat the softened cream cheese until smooth. Add in the granulated sugar, vanilla extract, salt, and eggs. Mix well until all the ingredients are fully incorporated.\\n\\n4. Pour the cream cheese mixture over the brownie batter in the baking pan. Spread it evenly using a spatula.\\n\\n5. Sprinkle the crushed Oreos on top of the cream cheese layer, pressing them gently into the batter.\\n\\n6. Take the melted chocolate chips and drizzle them over the surface of the cheesecake layer. Using a toothpick or skewer, gently swirl the chocolate through the cheesecake to create a marbled effect.\\n\\n7. Place the baking pan in the preheated oven and bake for the time mentioned on the brownie mix box, or until a toothpick inserted into the center comes out with a few moist crumbs.\\n\\n8. Once fully baked, remove the pan from the oven and let it cool completely on a wire rack.\\n\\n9. Once cooled, carefully slice the cheesecake brownie bars into squares or rectangles.\\n\\n10. Serve and enjoy these delectable Cheesecake Brownie Bars!\\n\\nNote: The Cheesecake Brownie Bars can be stored in an airtight container in the refrigerator for up to 5 days.\",\n",
      "        \"role\": \"assistant\",\n",
      "        \"function_call\": null,\n",
      "        \"tool_calls\": null\n",
      "      }\n",
      "    }\n",
      "  ],\n",
      "  \"created\": 1701096385,\n",
      "  \"model\": \"gpt-3.5-turbo-0613\",\n",
      "  \"object\": \"chat.completion\",\n",
      "  \"system_fingerprint\": null,\n",
      "  \"usage\": {\n",
      "    \"completion_tokens\": 648,\n",
      "    \"prompt_tokens\": 97,\n",
      "    \"total_tokens\": 745\n",
      "  }\n",
      "}\n"
     ]
    }
   ],
   "source": [
    "response = get_completion(''' Develop a new dessert recipe following the steps below. Make sure to describe your \n",
    "    reasoning steps in detail as you go through the steps. The final output should be the new recipe with cooking \n",
    "    instructions.\n",
    "    \n",
    "    Step 1: Brainstorm and refine the concept \n",
    "    Step 2: Consider the flavor combinations\n",
    "    Step 3: Consider the texture contrasts\n",
    "    Step 4: Consider the presentation that will make this dessert truly remarkable''')\n",
    "print(response.model_dump_json(indent=2))"
   ]
  },
  {
   "cell_type": "markdown",
   "id": "082b780c",
   "metadata": {},
   "source": [
    "## ^^ The steps are more detailed and even include a garnish for presentation! "
   ]
  },
  {
   "cell_type": "markdown",
   "id": "bfd73214",
   "metadata": {},
   "source": [
    "### Basic Zero-shot Prompt\n"
   ]
  },
  {
   "cell_type": "code",
   "execution_count": 8,
   "id": "1cc85593",
   "metadata": {},
   "outputs": [
    {
     "name": "stdout",
     "output_type": "stream",
     "text": [
      "{\n",
      "  \"id\": \"chatcmpl-8PXBbjAgGA55ydIk2zIkRcGDsvzgc\",\n",
      "  \"choices\": [\n",
      "    {\n",
      "      \"finish_reason\": \"stop\",\n",
      "      \"index\": 0,\n",
      "      \"message\": {\n",
      "        \"content\": \"Title: Oregon Trail Odyssey\\n\\nOverview:\\nOregon Trail Odyssey is an immersive and strategic role-playing game set in the 19th century during the historic Oregon Trail journey. Players will embark on a treacherous and thrilling adventure, facing challenging decisions, resource management, and unexpected events as they strive to make their way to the promised land of Oregon. With an engaging blend of storytelling, strategic gameplay, and historical accuracy, Oregon Trail Odyssey aims to captivate players with an unforgettable journey through the Wild West.\\n\\nGameplay Mechanics:\\n1. Party Formation: Players assemble a diverse team of pioneers with unique skills, backgrounds, and personalities, shaping their journey's dynamics and decision-making process.\\n2. Resource Management: Players must wisely manage resources such as food, water, ammunition, and medical supplies, balancing their consumption and planning for contingencies.\\n3. Decision-making: The game presents players with various choices that impact the party's well-being and progress. These decisions may be related to hunting, trading, resting, or addressing unforeseen events, dramatically affecting the story's outcome.\\n4. Mini-games: Engage players through mini-games, such as hunting challenges or wagon repairs, adding interactive elements and skill-based tasks.\\n5. Time Management: Utilize a calendar system, accounting for seasons, weather conditions, and time-specific events, making timing a crucial aspect of the game.\\n\\nKey Features:\\n1. Immersive Storytelling: A captivating narrative that blends historical accuracy with personal stories of the characters, highlighting the struggles, triumphs, and sacrifices of the pioneers.\\n2. Dynamic Events: Encounter a variety of dynamic events, including river crossings, illnesses, attacks from bandits, or animal encounters that require quick decision-making and problem-solving skills.\\n3. Multiplayer Mode: Collaborate with friends or compete against other players as rival wagon parties, maintaining the cooperative spirit of the original game while bringing a competitive edge.\\n4. Randomized Content: Each playthrough generates a unique experience, with randomized events, encounters, and challenges, maintaining replayability and curiosity.\\n\\nMarketing Strategy:\\n1. Nostalgic Appeal: Target audiences who have fond memories of the original Oregon Trail game, leveraging its nostalgic appeal while modernizing the gameplay mechanics to attract new players.\\n2. Historical Enthusiasts: Highlight the game's commitment to historical accuracy, appealing to those interested in the Wild West era, pioneers, and historical narratives.\\n3. Social Media Presence: Utilize various social media platforms to engage with potential players, sharing development updates, historical tidbits, and engaging content related to the game.\\n4. Influencer Collaborations: Partner with influential gaming personalities and history-related content creators to generate buzz and reach a wider audience.\\n5. Targeted Advertising: Implement targeted advertising campaigns across gaming websites, history-related platforms, and social media channels, focusing on demographics with interests in history, strategy, and role-playing games.\\n\\nBy combining the expertise of the game designer, marketer, and storyteller, Oregon Trail Odyssey aims to reimagine and revitalize the classic Oregon Trail experience, offering a unique blend of historical accuracy, engaging storytelling, and strategic gameplay that will captivate players and transport them back to the thrilling era of Westward expansion.\",\n",
      "        \"role\": \"assistant\",\n",
      "        \"function_call\": null,\n",
      "        \"tool_calls\": null\n",
      "      }\n",
      "    }\n",
      "  ],\n",
      "  \"created\": 1701096459,\n",
      "  \"model\": \"gpt-3.5-turbo-0613\",\n",
      "  \"object\": \"chat.completion\",\n",
      "  \"system_fingerprint\": null,\n",
      "  \"usage\": {\n",
      "    \"completion_tokens\": 645,\n",
      "    \"prompt_tokens\": 41,\n",
      "    \"total_tokens\": 686\n",
      "  }\n",
      "}\n"
     ]
    }
   ],
   "source": [
    "response = get_completion('''A team of 3 people (game designer, marketer, and storyteller) need \n",
    "                            to come up with a game that's based on The Oregon Trail. ''')\n",
    "print(response.model_dump_json(indent=2))"
   ]
  },
  {
   "cell_type": "markdown",
   "id": "6ab15715",
   "metadata": {},
   "source": [
    "### Advanced Chain-of-Thought (CoT) Prompt"
   ]
  },
  {
   "cell_type": "code",
   "execution_count": 9,
   "id": "31dc271b",
   "metadata": {},
   "outputs": [
    {
     "name": "stdout",
     "output_type": "stream",
     "text": [
      "{\n",
      "  \"id\": \"chatcmpl-8PXCm81GL1xg4wdU76ywW2QZ4lA6j\",\n",
      "  \"choices\": [\n",
      "    {\n",
      "      \"finish_reason\": \"stop\",\n",
      "      \"index\": 0,\n",
      "      \"message\": {\n",
      "        \"content\": \"Step 1: Planning the Game\\nIn this step, the team needs to gather and analyze information about The Oregon Trail game, its target audience, and market trends. They should identify the core elements and mechanics of the game and determine how to adapt or enhance them in the new game. The team should also establish their goals, scope, timeline, and budget for the project.\\n\\nStep 2: Game Design\\nThe game designer will lead this step by creating the game concept and designing its mechanics, gameplay, and levels. They will consider factors like player progression, difficulty, reward systems, and interactive features. The team will collaborate to brainstorm ideas and iterate on the game design until a solid framework is established.\\n\\nStep 3: Storytelling and Narrative Design\\nThe storyteller will bring the game to life by crafting an engaging story and narrative that connects with players. They will create characters, plotlines, and dialogues that immerse players in the game world. The team will work together to ensure the story aligns with the game mechanics and enhances the overall experience.\\n\\nStep 4: Marketing and Promotion\\nThe marketer will take charge of developing a marketing strategy to reach the target audience and create buzz around the game. They will identify potential marketing channels, create promotional materials, and plan events or campaigns to generate awareness and excitement. The team will collaborate to ensure the game's key features and unique selling points are effectively communicated to potential players.\\n\\nStep 5: Development and Testing\\nWith the game design, storytelling, and marketing strategies in place, the team will proceed to develop the game. They will gather and allocate resources, including programmers, artists, and sound designers, to build the game according to the established plan. Throughout the development process, regular testing and iterations will take place to refine gameplay, identify and fix bugs, and optimize performance.\\n\\nStep 6: Launch and Release\\nOnce the game is fully developed and thoroughly tested, the team will plan and execute the game's launch. They will choose an appropriate release platform, set a release date, and coordinate marketing efforts to attract players. Post-launch, they will monitor player feedback and address any issues or bugs that may arise. They will also plan updates and post-launch content to maintain player engagement and interest.\\n\\nNew Game Idea: \\\"Expedition X\\\"\\n\\\"Expedition X\\\" is a modern-day survival game inspired by The Oregon Trail. Players take on the role of a team of explorers venturing into uncharted territories in search of hidden treasures. The game combines resource management, decision-making, and storytelling elements with immersive graphics and captivating gameplay.\\n\\nAs the game designers, our team envisions a dynamic game world where players face various challenges like treacherous terrains, unpredictable weather, and encounters with hostile creatures or rival explorers. Players will make strategic choices, such as allocating resources, deciding on the safest path, and managing the team's health and morale.\\n\\nThe storyteller will craft an engaging narrative that follows the team's journey, unveiling mysterious legends and revealing secrets tied to the hidden treasures. The narrative will be intertwined with gameplay, providing meaningful character interactions, plot twists, and multiple story outcomes based on player choices.\\n\\nThe marketer will devise a marketing campaign centered around the game's unique blend of adventure, strategy, and storytelling. Promotional materials will emphasize the immersive graphics, deep narrative, and captivating gameplay mechanics. The team will leverage various platforms and social media to generate excitement and interest among the target audience.\\n\\nDuring development, the team will focus on creating visually stunning environments, realistic survival mechanics, and a branching narrative system that reflects player choices. User testing will be crucial to refining the game's difficulty, providing an enjoyable experience for both casual and hardcore players.\\n\\nUpon launch, the team will monitor user feedback and address any bugs or issues promptly. They will continuously update the game with new content, quests, and challenges to keep players engaged and eager to explore the vast, mysterious world of \\\"Expedition X\\\".\",\n",
      "        \"role\": \"assistant\",\n",
      "        \"function_call\": null,\n",
      "        \"tool_calls\": null\n",
      "      }\n",
      "    }\n",
      "  ],\n",
      "  \"created\": 1701096532,\n",
      "  \"model\": \"gpt-3.5-turbo-0613\",\n",
      "  \"object\": \"chat.completion\",\n",
      "  \"system_fingerprint\": null,\n",
      "  \"usage\": {\n",
      "    \"completion_tokens\": 799,\n",
      "    \"prompt_tokens\": 72,\n",
      "    \"total_tokens\": 871\n",
      "  }\n",
      "}\n"
     ]
    }
   ],
   "source": [
    "response = get_completion('''A team of 3 people (game designer, marketer, and storyteller) need \n",
    "                            to come up with a game that's based on The Oregon Trail, starting with \n",
    "                            planning the game and ending with post-launch. Explain each step and come up \n",
    "                            with a new game idea based on those steps.\n",
    "                          ''')\n",
    "print(response.model_dump_json(indent=2))"
   ]
  },
  {
   "cell_type": "markdown",
   "id": "c8203e10",
   "metadata": {},
   "source": [
    "## ^^ The generated game idea is more detailed."
   ]
  },
  {
   "cell_type": "code",
   "execution_count": null,
   "id": "e6a32a19",
   "metadata": {},
   "outputs": [],
   "source": []
  }
 ],
 "metadata": {
  "kernelspec": {
   "display_name": "Python 3 (ipykernel)",
   "language": "python",
   "name": "python3"
  },
  "language_info": {
   "codemirror_mode": {
    "name": "ipython",
    "version": 3
   },
   "file_extension": ".py",
   "mimetype": "text/x-python",
   "name": "python",
   "nbconvert_exporter": "python",
   "pygments_lexer": "ipython3",
   "version": "3.8.9"
  }
 },
 "nbformat": 4,
 "nbformat_minor": 5
}
